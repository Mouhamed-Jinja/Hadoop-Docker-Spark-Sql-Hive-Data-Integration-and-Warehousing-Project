{
 "cells": [
  {
   "cell_type": "markdown",
   "id": "0bf5e9cf-6e86-43ce-8095-2ecf99ab2b2b",
   "metadata": {},
   "source": [
    "# \"Silver Schema : Product Dimension\""
   ]
  },
  {
   "cell_type": "code",
   "execution_count": 1,
   "id": "7d47b8d4-6ea2-4f5f-8e02-b8888fa53a75",
   "metadata": {},
   "outputs": [],
   "source": [
    "from pyspark.sql import SparkSession\n",
    "from pyspark.sql.functions import *"
   ]
  },
  {
   "cell_type": "code",
   "execution_count": 2,
   "id": "1720db65-9af1-4950-a6dd-ea00a59df274",
   "metadata": {},
   "outputs": [],
   "source": [
    "spark = SparkSession.builder \\\n",
    "    .appName(\"Employee\") \\\n",
    "    .config(\"hive.metastore.uris\", \"thrift://hive-metastore:9083\") \\\n",
    "    .config(\"spark.jars\", \"/Drivers/SQL_Sever/jdbc/sqljdbc42.jar\")\\\n",
    "    .enableHiveSupport() \\\n",
    "    .getOrCreate()"
   ]
  },
  {
   "cell_type": "code",
   "execution_count": 3,
   "id": "50076e88-ec09-492b-b337-c3f563d9ff78",
   "metadata": {},
   "outputs": [
    {
     "name": "stdout",
     "output_type": "stream",
     "text": [
      "+---------+\n",
      "|namespace|\n",
      "+---------+\n",
      "|   bronze|\n",
      "|  default|\n",
      "|    sales|\n",
      "|   silver|\n",
      "+---------+\n",
      "\n"
     ]
    }
   ],
   "source": [
    "spark.sql(\"show schemas;\").show()"
   ]
  },
  {
   "cell_type": "code",
   "execution_count": 4,
   "id": "06eb6ddf-6d17-4e32-b2a6-c8032f530e98",
   "metadata": {},
   "outputs": [
    {
     "data": {
      "text/plain": [
       "DataFrame[]"
      ]
     },
     "execution_count": 4,
     "metadata": {},
     "output_type": "execute_result"
    }
   ],
   "source": [
    "spark.sql(\"use bronze\")"
   ]
  },
  {
   "cell_type": "code",
   "execution_count": 5,
   "id": "193fde23-31b4-4ff7-9597-41daf96e9412",
   "metadata": {},
   "outputs": [
    {
     "name": "stdout",
     "output_type": "stream",
     "text": [
      "+---------+-----------+-----------+\n",
      "|namespace|  tableName|isTemporary|\n",
      "+---------+-----------+-----------+\n",
      "|   bronze|dimcustomer|      false|\n",
      "|   bronze|    dimdate|      false|\n",
      "|   bronze|dimemployee|      false|\n",
      "|   bronze| dimproduct|      false|\n",
      "|   bronze|  factsales|      false|\n",
      "+---------+-----------+-----------+\n",
      "\n"
     ]
    }
   ],
   "source": [
    "spark.sql(\"show tables;\").show()"
   ]
  },
  {
   "cell_type": "code",
   "execution_count": 7,
   "id": "110dbb5e-0749-4221-b142-e0df16799378",
   "metadata": {},
   "outputs": [
    {
     "data": {
      "text/plain": [
       "['ProductID',\n",
       " 'productName',\n",
       " 'ProductNumber',\n",
       " 'MakeFlag',\n",
       " 'FinishedGoodsFlag',\n",
       " 'Color',\n",
       " 'SafetyStockLevel',\n",
       " 'ReorderPoint',\n",
       " 'StandardCost',\n",
       " 'ListPrice',\n",
       " 'Size',\n",
       " 'SizeUnitMeasureCode',\n",
       " 'WeightUnitMeasureCode',\n",
       " 'Weight',\n",
       " 'DaysToManufacture',\n",
       " 'ProductLine',\n",
       " 'Class',\n",
       " 'Style',\n",
       " 'SellStartDate',\n",
       " 'SellEndDate',\n",
       " 'DiscontinuedDate',\n",
       " 'subCategoryName',\n",
       " 'Description']"
      ]
     },
     "execution_count": 7,
     "metadata": {},
     "output_type": "execute_result"
    }
   ],
   "source": [
    "bronze_Product= spark.sql(\"select * from bronze.dimproduct\")\n",
    "bronze_Product.columns"
   ]
  },
  {
   "cell_type": "code",
   "execution_count": 8,
   "id": "1ca849f3-cbc3-4dcc-8499-7809598ae924",
   "metadata": {},
   "outputs": [
    {
     "data": {
      "text/plain": [
       "ProductID                False\n",
       "productName              False\n",
       "ProductNumber            False\n",
       "MakeFlag                 False\n",
       "FinishedGoodsFlag        False\n",
       "Color                     True\n",
       "SafetyStockLevel         False\n",
       "ReorderPoint             False\n",
       "StandardCost             False\n",
       "ListPrice                False\n",
       "Size                      True\n",
       "SizeUnitMeasureCode       True\n",
       "WeightUnitMeasureCode     True\n",
       "Weight                    True\n",
       "DaysToManufacture        False\n",
       "ProductLine               True\n",
       "Class                     True\n",
       "Style                     True\n",
       "SellStartDate            False\n",
       "SellEndDate               True\n",
       "DiscontinuedDate          True\n",
       "subCategoryName           True\n",
       "Description               True\n",
       "dtype: bool"
      ]
     },
     "execution_count": 8,
     "metadata": {},
     "output_type": "execute_result"
    }
   ],
   "source": [
    "sEmp = bronze_Product.toPandas()\n",
    "sEmp.isnull().any()"
   ]
  },
  {
   "cell_type": "code",
   "execution_count": 9,
   "id": "01814ace-064f-46e3-a5b8-7a92ecbcdfa2",
   "metadata": {},
   "outputs": [
    {
     "data": {
      "text/plain": [
       "ProductID                504\n",
       "productName              504\n",
       "ProductNumber            504\n",
       "MakeFlag                 504\n",
       "FinishedGoodsFlag        504\n",
       "Color                    256\n",
       "SafetyStockLevel         504\n",
       "ReorderPoint             504\n",
       "StandardCost             504\n",
       "ListPrice                504\n",
       "Size                     211\n",
       "SizeUnitMeasureCode      176\n",
       "WeightUnitMeasureCode    205\n",
       "Weight                   205\n",
       "DaysToManufacture        504\n",
       "ProductLine              278\n",
       "Class                    247\n",
       "Style                    211\n",
       "SellStartDate            504\n",
       "SellEndDate               98\n",
       "DiscontinuedDate           0\n",
       "subCategoryName          295\n",
       "Description              294\n",
       "dtype: int64"
      ]
     },
     "execution_count": 9,
     "metadata": {},
     "output_type": "execute_result"
    }
   ],
   "source": [
    "sEmp.count()"
   ]
  },
  {
   "cell_type": "code",
   "execution_count": 10,
   "id": "c986ca69-e8ac-4c4d-ab56-98f9a8db9252",
   "metadata": {},
   "outputs": [],
   "source": [
    "bronze_Product =bronze_Product.drop(col(\"DiscontinuedDate\"))"
   ]
  },
  {
   "cell_type": "code",
   "execution_count": 12,
   "id": "a5c4d5e1-2e94-4d6d-87d4-157562e667ee",
   "metadata": {},
   "outputs": [],
   "source": [
    "bronze_Product.write.format(\"hive\").mode(\"overwrite\").saveAsTable(\"silver.DimProduct\")"
   ]
  },
  {
   "cell_type": "code",
   "execution_count": 13,
   "id": "1b13d745-32e6-46e7-b6aa-42854d457212",
   "metadata": {},
   "outputs": [
    {
     "data": {
      "text/plain": [
       "DataFrame[]"
      ]
     },
     "execution_count": 13,
     "metadata": {},
     "output_type": "execute_result"
    }
   ],
   "source": [
    "spark.sql(\"use silver\")"
   ]
  },
  {
   "cell_type": "code",
   "execution_count": 14,
   "id": "b859f640-9c08-4599-99c6-0f73caf1ec2c",
   "metadata": {},
   "outputs": [
    {
     "name": "stdout",
     "output_type": "stream",
     "text": [
      "+---------+-----------+-----------+\n",
      "|namespace|  tableName|isTemporary|\n",
      "+---------+-----------+-----------+\n",
      "|   silver|dimcustomer|      false|\n",
      "|   silver|    dimdate|      false|\n",
      "|   silver|dimemployee|      false|\n",
      "|   silver| dimproduct|      false|\n",
      "+---------+-----------+-----------+\n",
      "\n"
     ]
    }
   ],
   "source": [
    "spark.sql(\"show tables\").show()"
   ]
  },
  {
   "cell_type": "code",
   "execution_count": null,
   "id": "89c4b94e-43e9-4e1c-8ab1-982ccac8e3e9",
   "metadata": {},
   "outputs": [],
   "source": []
  }
 ],
 "metadata": {
  "kernelspec": {
   "display_name": "Python 3 (ipykernel)",
   "language": "python",
   "name": "python3"
  },
  "language_info": {
   "codemirror_mode": {
    "name": "ipython",
    "version": 3
   },
   "file_extension": ".py",
   "mimetype": "text/x-python",
   "name": "python",
   "nbconvert_exporter": "python",
   "pygments_lexer": "ipython3",
   "version": "3.11.5"
  }
 },
 "nbformat": 4,
 "nbformat_minor": 5
}
