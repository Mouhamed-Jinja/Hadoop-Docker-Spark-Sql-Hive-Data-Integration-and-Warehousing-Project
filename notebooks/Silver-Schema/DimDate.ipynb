{
 "cells": [
  {
   "cell_type": "markdown",
   "id": "15783cf9-a3d2-4e79-813f-83edfb3f61a0",
   "metadata": {},
   "source": [
    "# \"Silver Schema : Date Dimension\""
   ]
  },
  {
   "cell_type": "code",
   "execution_count": null,
   "id": "29cf4cd8-f682-447d-9f1c-e43c1be04bcd",
   "metadata": {},
   "outputs": [],
   "source": [
    "from pyspark.sql import SparkSession\n",
    "from pyspark.sql.functions import *"
   ]
  },
  {
   "cell_type": "code",
   "execution_count": 2,
   "id": "ec67134c-66e6-4932-be02-32a12925437d",
   "metadata": {},
   "outputs": [],
   "source": [
    "spark = SparkSession.builder \\\n",
    "    .appName(\"Employee\") \\\n",
    "    .config(\"hive.metastore.uris\", \"thrift://hive-metastore:9083\") \\\n",
    "    .config(\"spark.jars\", \"/Drivers/SQL_Sever/jdbc/sqljdbc42.jar\")\\\n",
    "    .enableHiveSupport() \\\n",
    "    .getOrCreate()"
   ]
  },
  {
   "cell_type": "code",
   "execution_count": 3,
   "id": "f27c214e-aec8-4938-be84-83ed0fe45ae1",
   "metadata": {},
   "outputs": [
    {
     "name": "stdout",
     "output_type": "stream",
     "text": [
      "+---------+\n",
      "|namespace|\n",
      "+---------+\n",
      "|   bronze|\n",
      "|  default|\n",
      "|    sales|\n",
      "|   silver|\n",
      "+---------+\n",
      "\n"
     ]
    }
   ],
   "source": [
    "spark.sql(\"show schemas;\").show()"
   ]
  },
  {
   "cell_type": "code",
   "execution_count": 4,
   "id": "1cf5659a-ca23-4a67-aa28-15ed73ed0b6f",
   "metadata": {},
   "outputs": [
    {
     "data": {
      "text/plain": [
       "DataFrame[]"
      ]
     },
     "execution_count": 4,
     "metadata": {},
     "output_type": "execute_result"
    }
   ],
   "source": [
    "spark.sql(\"use bronze\")"
   ]
  },
  {
   "cell_type": "code",
   "execution_count": 5,
   "id": "ec53d85b-2ebe-4cb2-8e33-4f1995d7f4e5",
   "metadata": {},
   "outputs": [
    {
     "name": "stdout",
     "output_type": "stream",
     "text": [
      "+---------+-----------+-----------+\n",
      "|namespace|  tableName|isTemporary|\n",
      "+---------+-----------+-----------+\n",
      "|   bronze|dimcustomer|      false|\n",
      "|   bronze|    dimdate|      false|\n",
      "|   bronze|dimemployee|      false|\n",
      "|   bronze| dimproduct|      false|\n",
      "|   bronze|  factsales|      false|\n",
      "+---------+-----------+-----------+\n",
      "\n"
     ]
    }
   ],
   "source": [
    "spark.sql(\"show tables;\").show()"
   ]
  },
  {
   "cell_type": "code",
   "execution_count": 6,
   "id": "dbec5326-dd70-4777-9eff-95d06a178339",
   "metadata": {},
   "outputs": [
    {
     "data": {
      "text/plain": [
       "['DateKey', 'Date', 'Year', 'Month', 'Day', 'Quarter']"
      ]
     },
     "execution_count": 6,
     "metadata": {},
     "output_type": "execute_result"
    }
   ],
   "source": [
    "bronze_Date = spark.sql(\"select * from bronze.dimdate\")\n",
    "bronze_Date.columns"
   ]
  },
  {
   "cell_type": "code",
   "execution_count": 7,
   "id": "6b90d591-32ab-45dc-b136-05ebb1412a50",
   "metadata": {},
   "outputs": [
    {
     "name": "stdout",
     "output_type": "stream",
     "text": [
      "+----+\n",
      "|year|\n",
      "+----+\n",
      "|2012|\n",
      "|2014|\n",
      "|2013|\n",
      "|2011|\n",
      "+----+\n",
      "\n"
     ]
    }
   ],
   "source": [
    "bronze_Date.select(\"year\").distinct().show()"
   ]
  },
  {
   "cell_type": "code",
   "execution_count": 8,
   "id": "9f5cc862-1884-4b85-a675-b6983704884c",
   "metadata": {},
   "outputs": [],
   "source": [
    "bronze_Date.write.format(\"hive\").mode(\"overwrite\").saveAsTable(\"silver.dimdate\")"
   ]
  },
  {
   "cell_type": "code",
   "execution_count": 9,
   "id": "52cccc9f-1d4a-4f72-8a43-5fb9079b870f",
   "metadata": {},
   "outputs": [
    {
     "data": {
      "text/plain": [
       "DataFrame[]"
      ]
     },
     "execution_count": 9,
     "metadata": {},
     "output_type": "execute_result"
    }
   ],
   "source": [
    "spark.sql(\"use silver\")"
   ]
  },
  {
   "cell_type": "code",
   "execution_count": 10,
   "id": "98e0af73-d218-4321-bc72-0c8d1c63ac14",
   "metadata": {},
   "outputs": [
    {
     "name": "stdout",
     "output_type": "stream",
     "text": [
      "+---------+-----------+-----------+\n",
      "|namespace|  tableName|isTemporary|\n",
      "+---------+-----------+-----------+\n",
      "|   silver|dimcustomer|      false|\n",
      "|   silver|    dimdate|      false|\n",
      "+---------+-----------+-----------+\n",
      "\n"
     ]
    }
   ],
   "source": [
    "spark.sql(\"show tables\").show()"
   ]
  },
  {
   "cell_type": "markdown",
   "id": "f045d87c-6825-47f3-a193-d80367fb7343",
   "metadata": {},
   "source": [
    "0: jdbc:hive2://localhost:10000/default> show schemas;\n",
    "+----------------+\n",
    "| database_name  |\n",
    "+----------------+\n",
    "| bronze         |\n",
    "| default        |\n",
    "| sales          |\n",
    "| silver         |\n",
    "+----------------+\n",
    "4 rows selected (0.22 seconds)\n",
    "0: jdbc:hive2://localhost:10000/default> use silver;\n",
    "No rows affected (0.027 seconds)\n",
    "0: jdbc:hive2://localhost:10000/default> select * from dimdate\n",
    ". . . . . . . . . . . . . . . . . . . .> limit 5;\n",
    "+------------------------+---------------+---------------+----------------+--------------+------------------+  \n",
    "|    dimdate.datekey     | dimdate.date  | dimdate.year  | dimdate.month  | dimdate.day  | dimdate.quarter  |  \n",
    "+------------------------+---------------+---------------+----------------+--------------+------------------+  \n",
    "| 2011-10-10 00:00:00.0  | 2011-10-10    | 2011          | 10             | 10           | 4                |  \n",
    "| 2011-12-04 00:00:00.0  | 2011-12-04    | 2011          | 12             | 04           | 4                |  \n",
    "| 2012-01-22 00:00:00.0  | 2012-01-22    | 2012          | 01             | 22           | 1                |  \n",
    "| 2012-07-11 00:00:00.0  | 2012-07-11    | 2012          | 07             | 11           | 3                |  \n",
    "| 2012-10-20 00:00:00.0  | 2012-10-20    | 2012          | 10             | 20           | 4                |  \n",
    "+------------------------+---------------+---------------+----------------+--------------+------------------+  \n",
    "5 rows selected (0.379 seconds)"
   ]
  },
  {
   "cell_type": "code",
   "execution_count": null,
   "id": "5a09db3f-01b5-4ee9-8fcc-30ec7e13f931",
   "metadata": {},
   "outputs": [],
   "source": []
  }
 ],
 "metadata": {
  "kernelspec": {
   "display_name": "Python 3 (ipykernel)",
   "language": "python",
   "name": "python3"
  },
  "language_info": {
   "codemirror_mode": {
    "name": "ipython",
    "version": 3
   },
   "file_extension": ".py",
   "mimetype": "text/x-python",
   "name": "python",
   "nbconvert_exporter": "python",
   "pygments_lexer": "ipython3",
   "version": "3.11.5"
  }
 },
 "nbformat": 4,
 "nbformat_minor": 5
}
