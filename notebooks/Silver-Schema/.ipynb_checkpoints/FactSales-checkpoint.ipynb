{
 "cells": [
  {
   "cell_type": "markdown",
   "id": "4048bd74-c0ff-4d02-be93-5dc106fc0ae4",
   "metadata": {},
   "source": [
    "# \"Silver Schema : Fact Sales\""
   ]
  },
  {
   "cell_type": "code",
   "execution_count": 2,
   "id": "052aa30a-dc81-4e5e-be95-c55172c89d6e",
   "metadata": {},
   "outputs": [],
   "source": [
    "from pyspark.sql import SparkSession\n",
    "from pyspark.sql.functions import *"
   ]
  },
  {
   "cell_type": "code",
   "execution_count": 3,
   "id": "cc918226-bd67-4d07-b9e7-b242aef16279",
   "metadata": {},
   "outputs": [],
   "source": [
    "spark = SparkSession.builder \\\n",
    "    .appName(\"Employee\") \\\n",
    "    .config(\"hive.metastore.uris\", \"thrift://hive-metastore:9083\") \\\n",
    "    .config(\"spark.jars\", \"/Drivers/SQL_Sever/jdbc/sqljdbc42.jar\")\\\n",
    "    .enableHiveSupport() \\\n",
    "    .getOrCreate()"
   ]
  },
  {
   "cell_type": "code",
   "execution_count": 4,
   "id": "a5f38186-cc8b-4057-9605-1a8d8e6d23a8",
   "metadata": {},
   "outputs": [
    {
     "name": "stdout",
     "output_type": "stream",
     "text": [
      "+---------+\n",
      "|namespace|\n",
      "+---------+\n",
      "|   bronze|\n",
      "|  default|\n",
      "|    sales|\n",
      "|   silver|\n",
      "+---------+\n",
      "\n"
     ]
    }
   ],
   "source": [
    "spark.sql(\"show schemas;\").show()"
   ]
  },
  {
   "cell_type": "code",
   "execution_count": 5,
   "id": "ec0f631b-4409-4031-b580-c5e266490834",
   "metadata": {},
   "outputs": [
    {
     "data": {
      "text/plain": [
       "DataFrame[]"
      ]
     },
     "execution_count": 5,
     "metadata": {},
     "output_type": "execute_result"
    }
   ],
   "source": [
    "spark.sql(\"use bronze\")"
   ]
  },
  {
   "cell_type": "code",
   "execution_count": 6,
   "id": "b69f1eb6-0b36-4a1d-aee7-f6d04d74b86a",
   "metadata": {},
   "outputs": [
    {
     "name": "stdout",
     "output_type": "stream",
     "text": [
      "+---------+-----------+-----------+\n",
      "|namespace|  tableName|isTemporary|\n",
      "+---------+-----------+-----------+\n",
      "|   bronze|dimcustomer|      false|\n",
      "|   bronze|    dimdate|      false|\n",
      "|   bronze|dimemployee|      false|\n",
      "|   bronze| dimproduct|      false|\n",
      "|   bronze|  factsales|      false|\n",
      "+---------+-----------+-----------+\n",
      "\n"
     ]
    }
   ],
   "source": [
    "spark.sql(\"show tables;\").show()"
   ]
  },
  {
   "cell_type": "code",
   "execution_count": 9,
   "id": "88b144b6-4972-4b5b-8527-20ef31bd1712",
   "metadata": {},
   "outputs": [
    {
     "data": {
      "text/plain": [
       "['SalesOrderID',\n",
       " 'CustomerKey',\n",
       " 'EmployeeKey',\n",
       " 'ProductKey',\n",
       " 'RevisionNumber',\n",
       " 'OrderQty',\n",
       " 'UnitPrice',\n",
       " 'UnitPriceDiscount',\n",
       " 'SubTotal',\n",
       " 'TaxAmt',\n",
       " 'Freight',\n",
       " 'TotalDue',\n",
       " 'OrderDate',\n",
       " 'DueDate',\n",
       " 'ShipDate',\n",
       " 'Status',\n",
       " 'OnlineOrderFlag',\n",
       " 'SalesOrderNumber',\n",
       " 'PurchaseOrderNumber',\n",
       " 'AccountNumber',\n",
       " 'CreditCardApprovalCode',\n",
       " 'Comment',\n",
       " 'CarrierTrackingNumber',\n",
       " 'LineTotal']"
      ]
     },
     "execution_count": 9,
     "metadata": {},
     "output_type": "execute_result"
    }
   ],
   "source": [
    "bronze_Fact= spark.sql(\"select * from bronze.FactSales\")\n",
    "bronze_Fact.columns"
   ]
  },
  {
   "cell_type": "code",
   "execution_count": 13,
   "id": "c43948bb-09d5-46fc-bbc5-a22df46c6479",
   "metadata": {},
   "outputs": [],
   "source": [
    "sFact =bronze_Fact.toPandas()"
   ]
  },
  {
   "cell_type": "code",
   "execution_count": 14,
   "id": "cac4ce04-7263-4a67-acdf-b980b8b6a1f5",
   "metadata": {},
   "outputs": [
    {
     "data": {
      "text/plain": [
       "SalesOrderID              False\n",
       "CustomerKey               False\n",
       "EmployeeKey               False\n",
       "ProductKey                False\n",
       "RevisionNumber            False\n",
       "OrderQty                  False\n",
       "UnitPrice                 False\n",
       "UnitPriceDiscount         False\n",
       "SubTotal                  False\n",
       "TaxAmt                    False\n",
       "Freight                   False\n",
       "TotalDue                  False\n",
       "OrderDate                 False\n",
       "DueDate                   False\n",
       "ShipDate                  False\n",
       "Status                    False\n",
       "OnlineOrderFlag           False\n",
       "SalesOrderNumber          False\n",
       "PurchaseOrderNumber       False\n",
       "AccountNumber             False\n",
       "CreditCardApprovalCode     True\n",
       "Comment                    True\n",
       "CarrierTrackingNumber     False\n",
       "LineTotal                 False\n",
       "dtype: bool"
      ]
     },
     "execution_count": 14,
     "metadata": {},
     "output_type": "execute_result"
    }
   ],
   "source": [
    "sFact.isnull().any()"
   ]
  },
  {
   "cell_type": "code",
   "execution_count": 15,
   "id": "ac0e4b82-ef4e-4d95-9eca-74d4cb1e6657",
   "metadata": {},
   "outputs": [
    {
     "data": {
      "text/plain": [
       "SalesOrderID              60919\n",
       "CustomerKey               60919\n",
       "EmployeeKey               60919\n",
       "ProductKey                60919\n",
       "RevisionNumber            60919\n",
       "OrderQty                  60919\n",
       "UnitPrice                 60919\n",
       "UnitPriceDiscount         60919\n",
       "SubTotal                  60919\n",
       "TaxAmt                    60919\n",
       "Freight                   60919\n",
       "TotalDue                  60919\n",
       "OrderDate                 60919\n",
       "DueDate                   60919\n",
       "ShipDate                  60919\n",
       "Status                    60919\n",
       "OnlineOrderFlag           60919\n",
       "SalesOrderNumber          60919\n",
       "PurchaseOrderNumber       60919\n",
       "AccountNumber             60919\n",
       "CreditCardApprovalCode    60791\n",
       "Comment                       0\n",
       "CarrierTrackingNumber     60919\n",
       "LineTotal                 60919\n",
       "dtype: int64"
      ]
     },
     "execution_count": 15,
     "metadata": {},
     "output_type": "execute_result"
    }
   ],
   "source": [
    "sFact.count()"
   ]
  },
  {
   "cell_type": "code",
   "execution_count": 16,
   "id": "1a1b64ef-653d-4ca4-90ee-9e04335abff1",
   "metadata": {},
   "outputs": [],
   "source": [
    "bronze_Fact =bronze_Fact.drop(col(\"Comment\"))\\\n",
    "                        .where(\"CreditCardApprovalCode is not null\")"
   ]
  },
  {
   "cell_type": "code",
   "execution_count": 17,
   "id": "aa88915c-5195-415c-af50-43baf3467c8a",
   "metadata": {},
   "outputs": [
    {
     "data": {
      "text/plain": [
       "SalesOrderID              False\n",
       "CustomerKey               False\n",
       "EmployeeKey               False\n",
       "ProductKey                False\n",
       "RevisionNumber            False\n",
       "OrderQty                  False\n",
       "UnitPrice                 False\n",
       "UnitPriceDiscount         False\n",
       "SubTotal                  False\n",
       "TaxAmt                    False\n",
       "Freight                   False\n",
       "TotalDue                  False\n",
       "OrderDate                 False\n",
       "DueDate                   False\n",
       "ShipDate                  False\n",
       "Status                    False\n",
       "OnlineOrderFlag           False\n",
       "SalesOrderNumber          False\n",
       "PurchaseOrderNumber       False\n",
       "AccountNumber             False\n",
       "CreditCardApprovalCode    False\n",
       "CarrierTrackingNumber     False\n",
       "LineTotal                 False\n",
       "dtype: bool"
      ]
     },
     "execution_count": 17,
     "metadata": {},
     "output_type": "execute_result"
    }
   ],
   "source": [
    "sFact =bronze_Fact.toPandas()\n",
    "sFact.isnull().any()"
   ]
  },
  {
   "cell_type": "code",
   "execution_count": 18,
   "id": "7e2d6da8-e971-498c-8880-7ca5e2c9aa66",
   "metadata": {},
   "outputs": [],
   "source": [
    "bronze_Fact.write.format(\"hive\").mode(\"overwrite\").saveAsTable(\"silver.FactSales\")"
   ]
  },
  {
   "cell_type": "code",
   "execution_count": 19,
   "id": "e4b994fe-1f86-42b5-87ce-3fac55e4bd86",
   "metadata": {},
   "outputs": [
    {
     "data": {
      "text/plain": [
       "DataFrame[]"
      ]
     },
     "execution_count": 19,
     "metadata": {},
     "output_type": "execute_result"
    }
   ],
   "source": [
    "spark.sql(\"use silver\")"
   ]
  },
  {
   "cell_type": "code",
   "execution_count": 20,
   "id": "04996697-0c1f-4455-8c7f-5d1c309ee6cc",
   "metadata": {},
   "outputs": [
    {
     "name": "stdout",
     "output_type": "stream",
     "text": [
      "+---------+-----------+-----------+\n",
      "|namespace|  tableName|isTemporary|\n",
      "+---------+-----------+-----------+\n",
      "|   silver|dimcustomer|      false|\n",
      "|   silver|    dimdate|      false|\n",
      "|   silver|dimemployee|      false|\n",
      "|   silver| dimproduct|      false|\n",
      "|   silver|  factsales|      false|\n",
      "+---------+-----------+-----------+\n",
      "\n"
     ]
    }
   ],
   "source": [
    "spark.sql(\"show tables\").show()"
   ]
  },
  {
   "cell_type": "code",
   "execution_count": null,
   "id": "b42a394d-f54e-4b39-9fad-7bd5dacd8548",
   "metadata": {},
   "outputs": [],
   "source": []
  }
 ],
 "metadata": {
  "kernelspec": {
   "display_name": "Python 3 (ipykernel)",
   "language": "python",
   "name": "python3"
  },
  "language_info": {
   "codemirror_mode": {
    "name": "ipython",
    "version": 3
   },
   "file_extension": ".py",
   "mimetype": "text/x-python",
   "name": "python",
   "nbconvert_exporter": "python",
   "pygments_lexer": "ipython3",
   "version": "3.11.5"
  }
 },
 "nbformat": 4,
 "nbformat_minor": 5
}
