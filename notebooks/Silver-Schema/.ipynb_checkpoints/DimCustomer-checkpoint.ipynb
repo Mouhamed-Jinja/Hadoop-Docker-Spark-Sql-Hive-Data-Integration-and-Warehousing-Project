{
 "cells": [
  {
   "cell_type": "markdown",
   "id": "a1487a95-1ea2-417f-b31e-9977a2b41d9f",
   "metadata": {},
   "source": [
    "# \"Silver Schema : Customer Dimension\""
   ]
  },
  {
   "cell_type": "code",
   "execution_count": 24,
   "id": "3d3d91af-31e3-43da-ad8a-142c6e2d0c3c",
   "metadata": {},
   "outputs": [],
   "source": [
    "from pyspark.sql import SparkSession\n",
    "from pyspark.sql.functions import *"
   ]
  },
  {
   "cell_type": "code",
   "execution_count": 25,
   "id": "c566a52c-f82f-4ba8-90f8-0100a756c08e",
   "metadata": {},
   "outputs": [],
   "source": [
    "spark = SparkSession.builder \\\n",
    "    .appName(\"Employee\") \\\n",
    "    .config(\"hive.metastore.uris\", \"thrift://hive-metastore:9083\") \\\n",
    "    .config(\"spark.jars\", \"/Drivers/SQL_Sever/jdbc/sqljdbc42.jar\")\\\n",
    "    .enableHiveSupport() \\\n",
    "    .getOrCreate()"
   ]
  },
  {
   "cell_type": "code",
   "execution_count": 26,
   "id": "d46a8df2-ff40-4406-a35c-96885e02b423",
   "metadata": {},
   "outputs": [
    {
     "name": "stdout",
     "output_type": "stream",
     "text": [
      "+---------+\n",
      "|namespace|\n",
      "+---------+\n",
      "|   bronze|\n",
      "|  default|\n",
      "|    sales|\n",
      "|   silver|\n",
      "+---------+\n",
      "\n"
     ]
    }
   ],
   "source": [
    "spark.sql(\"show schemas;\").show()"
   ]
  },
  {
   "cell_type": "code",
   "execution_count": 27,
   "id": "9e136f20-f7e9-4c61-9952-e2a69d53f6e8",
   "metadata": {},
   "outputs": [
    {
     "data": {
      "text/plain": [
       "DataFrame[]"
      ]
     },
     "execution_count": 27,
     "metadata": {},
     "output_type": "execute_result"
    }
   ],
   "source": [
    "spark.sql(\"use bronze\")"
   ]
  },
  {
   "cell_type": "code",
   "execution_count": 28,
   "id": "95a05d10-52e4-4f67-b210-a415cd73797d",
   "metadata": {},
   "outputs": [
    {
     "name": "stdout",
     "output_type": "stream",
     "text": [
      "+---------+-----------+-----------+\n",
      "|namespace|  tableName|isTemporary|\n",
      "+---------+-----------+-----------+\n",
      "|   bronze|dimcustomer|      false|\n",
      "|   bronze|    dimdate|      false|\n",
      "|   bronze|dimemployee|      false|\n",
      "|   bronze| dimproduct|      false|\n",
      "|   bronze|  factsales|      false|\n",
      "+---------+-----------+-----------+\n",
      "\n"
     ]
    }
   ],
   "source": [
    "spark.sql(\"show tables;\").show()"
   ]
  },
  {
   "cell_type": "code",
   "execution_count": 38,
   "id": "e0785b70-6840-4d85-975e-c1c625d4744d",
   "metadata": {},
   "outputs": [
    {
     "data": {
      "text/plain": [
       "['CustomerID',\n",
       " 'AccountNumber',\n",
       " 'CustomerName',\n",
       " 'PersonType',\n",
       " 'NameStyle',\n",
       " 'Title',\n",
       " 'Suffix',\n",
       " 'EmailPromotion',\n",
       " 'AdditionalContactInfo',\n",
       " 'Demographics',\n",
       " 'AddressLine1',\n",
       " 'AddressLine2',\n",
       " 'City',\n",
       " 'PostalCode',\n",
       " 'SpatialLocation',\n",
       " 'StateProvinceCode',\n",
       " 'CountryRegionCode',\n",
       " 'IsOnlyStateProvinceFlag',\n",
       " 'stateName']"
      ]
     },
     "execution_count": 38,
     "metadata": {},
     "output_type": "execute_result"
    }
   ],
   "source": [
    "bronze_customer = spark.sql(\"select * from bronze.dimcustomer\")\n",
    "bronze_customer.columns"
   ]
  },
  {
   "cell_type": "code",
   "execution_count": 30,
   "id": "c11c758c-6a17-4f40-98e7-0db2c29bf2b3",
   "metadata": {},
   "outputs": [
    {
     "data": {
      "text/plain": [
       "CustomerID                 False\n",
       "AccountNumber              False\n",
       "CustomerName               False\n",
       "PersonType                 False\n",
       "NameStyle                  False\n",
       "Title                       True\n",
       "Suffix                      True\n",
       "EmailPromotion             False\n",
       "AdditionalContactInfo       True\n",
       "Demographics               False\n",
       "AddressLine1               False\n",
       "AddressLine2                True\n",
       "City                       False\n",
       "PostalCode                 False\n",
       "SpatialLocation            False\n",
       "StateProvinceCode          False\n",
       "CountryRegionCode          False\n",
       "IsOnlyStateProvinceFlag    False\n",
       "stateName                  False\n",
       "dtype: bool"
      ]
     },
     "execution_count": 30,
     "metadata": {},
     "output_type": "execute_result"
    }
   ],
   "source": [
    "Scust = bronze_customer.toPandas()\n",
    "Scust.isnull().any()"
   ]
  },
  {
   "cell_type": "code",
   "execution_count": 31,
   "id": "a29f83cc-3a1e-41c5-8c04-dbf7af28329a",
   "metadata": {},
   "outputs": [
    {
     "data": {
      "text/plain": [
       "CustomerID                 18508\n",
       "AccountNumber              18508\n",
       "CustomerName               18508\n",
       "PersonType                 18508\n",
       "NameStyle                  18508\n",
       "Title                        101\n",
       "Suffix                         3\n",
       "EmailPromotion             18508\n",
       "AdditionalContactInfo          0\n",
       "Demographics               18508\n",
       "AddressLine1               18508\n",
       "AddressLine2                 314\n",
       "City                       18508\n",
       "PostalCode                 18508\n",
       "SpatialLocation            18508\n",
       "StateProvinceCode          18508\n",
       "CountryRegionCode          18508\n",
       "IsOnlyStateProvinceFlag    18508\n",
       "stateName                  18508\n",
       "dtype: int64"
      ]
     },
     "execution_count": 31,
     "metadata": {},
     "output_type": "execute_result"
    }
   ],
   "source": [
    "Scust.count()"
   ]
  },
  {
   "cell_type": "markdown",
   "id": "4c2f5d2c-8a66-436c-b42d-bfe4f2eeb605",
   "metadata": {},
   "source": [
    "\n",
    "# Based on the available data in each column they will make a decision about it:\n",
    "- AdditionalContactInfo, Suffix, and Title will be dropped \n",
    "- address1 haven't nulls, but address2 have, so I decided to make address1 and 2 a list in one column called address"
   ]
  },
  {
   "cell_type": "code",
   "execution_count": 39,
   "id": "e0e5cf48-c516-4f8e-a22e-93b6ec09038b",
   "metadata": {},
   "outputs": [
    {
     "data": {
      "text/plain": [
       "['CustomerID',\n",
       " 'AccountNumber',\n",
       " 'CustomerName',\n",
       " 'PersonType',\n",
       " 'NameStyle',\n",
       " 'EmailPromotion',\n",
       " 'Demographics',\n",
       " 'City',\n",
       " 'PostalCode',\n",
       " 'SpatialLocation',\n",
       " 'StateProvinceCode',\n",
       " 'CountryRegionCode',\n",
       " 'IsOnlyStateProvinceFlag',\n",
       " 'stateName',\n",
       " 'Address']"
      ]
     },
     "execution_count": 39,
     "metadata": {},
     "output_type": "execute_result"
    }
   ],
   "source": [
    "bronze_customer= bronze_customer\\\n",
    "            .withColumn(\"Address\", array(col(\"AddressLine1\"), col(\"AddressLine2\")))\\\n",
    "            .drop(col(\"AdditionalContactInfo\"), col(\"Suffix\"), col(\"Title\"), col(\"AddressLine1\"), col(\"AddressLine2\"))\n",
    "\n",
    "bronze_customer.columns"
   ]
  },
  {
   "cell_type": "code",
   "execution_count": 40,
   "id": "4f1bcbb5-f3f1-4f4f-8482-2864eef83f5d",
   "metadata": {},
   "outputs": [
    {
     "data": {
      "text/plain": [
       "CustomerID                 False\n",
       "AccountNumber              False\n",
       "CustomerName               False\n",
       "PersonType                 False\n",
       "NameStyle                  False\n",
       "EmailPromotion             False\n",
       "Demographics               False\n",
       "City                       False\n",
       "PostalCode                 False\n",
       "SpatialLocation            False\n",
       "StateProvinceCode          False\n",
       "CountryRegionCode          False\n",
       "IsOnlyStateProvinceFlag    False\n",
       "stateName                  False\n",
       "Address                    False\n",
       "dtype: bool"
      ]
     },
     "execution_count": 40,
     "metadata": {},
     "output_type": "execute_result"
    }
   ],
   "source": [
    "Scust = bronze_customer.toPandas()\n",
    "Scust.isnull().any()"
   ]
  },
  {
   "cell_type": "code",
   "execution_count": 44,
   "id": "4e54f2ba-eb9a-4280-8f25-ce37584e472d",
   "metadata": {},
   "outputs": [
    {
     "name": "stdout",
     "output_type": "stream",
     "text": [
      "+--------------------------------+\n",
      "|address                         |\n",
      "+--------------------------------+\n",
      "|[Roßstr 6642, NULL]             |\n",
      "|[8531 Bayter Court, NULL]       |\n",
      "|[2368 Olivera Rd, NULL]         |\n",
      "|[5690 Morgan Territory Rd, NULL]|\n",
      "|[4932 La Jolla, NULL]           |\n",
      "+--------------------------------+\n",
      "only showing top 5 rows\n",
      "\n"
     ]
    }
   ],
   "source": [
    "bronze_customer.select(\"address\").show(5, truncate=False)"
   ]
  },
  {
   "cell_type": "code",
   "execution_count": 45,
   "id": "2a2da337-59f3-40d2-82e3-e0ad6daa3fb9",
   "metadata": {},
   "outputs": [],
   "source": [
    "bronze_customer.write.format(\"hive\").mode(\"overwrite\").saveAsTable(\"silver.DimCustomer\")"
   ]
  },
  {
   "cell_type": "code",
   "execution_count": 46,
   "id": "157e4502-f36c-4f11-a0e3-85bb9da134a3",
   "metadata": {},
   "outputs": [
    {
     "data": {
      "text/plain": [
       "DataFrame[]"
      ]
     },
     "execution_count": 46,
     "metadata": {},
     "output_type": "execute_result"
    }
   ],
   "source": [
    "spark.sql(\"use silver\")"
   ]
  },
  {
   "cell_type": "code",
   "execution_count": 47,
   "id": "913260d3-cb90-4b7a-a9b5-3ece9d8dd263",
   "metadata": {},
   "outputs": [
    {
     "name": "stdout",
     "output_type": "stream",
     "text": [
      "+---------+-----------+-----------+\n",
      "|namespace|  tableName|isTemporary|\n",
      "+---------+-----------+-----------+\n",
      "|   silver|dimcustomer|      false|\n",
      "+---------+-----------+-----------+\n",
      "\n"
     ]
    }
   ],
   "source": [
    "spark.sql(\"show tables\").show()"
   ]
  },
  {
   "cell_type": "markdown",
   "id": "9fde62ec-0619-45aa-983f-74319d168815",
   "metadata": {},
   "source": [
    "# Output from HiveQL"
   ]
  },
  {
   "cell_type": "code",
   "execution_count": null,
   "id": "5dc068bc-4466-4e7f-910e-f56b9a962f24",
   "metadata": {
    "scrolled": true
   },
   "outputs": [],
   "source": [
    "\"\"\"\n",
    "0: jdbc:hive2://localhost:10000/default> show schemas;\n",
    "+----------------+\n",
    "| database_name  |\n",
    "+----------------+\n",
    "| bronze         |\n",
    "| default        |\n",
    "| sales          |\n",
    "| silver         |\n",
    "+----------------+\n",
    "4 rows selected (0.054 seconds)\n",
    "\n",
    "0: jdbc:hive2://localhost:10000/default> use silver;\n",
    "No rows affected (0.025 seconds)\n",
    "\n",
    "0: jdbc:hive2://localhost:10000/default> select count(*) as cnt\n",
    ". . . . . . . . . . . . . . . . . . . .> from dimcustomer;\n",
    "WARNING: Hive-on-MR is deprecated in Hive 2 and may not be available in the future versions. Consider using a different execution engine (i.e. spark, tez) or using Hive 1.X releases.\n",
    "+--------+\n",
    "|  cnt   |\n",
    "+--------+\n",
    "| 18508  |\n",
    "+--------+\n",
    "\"\"\""
   ]
  },
  {
   "cell_type": "code",
   "execution_count": null,
   "id": "8e61be37-5606-4dc1-a639-759357ae0aea",
   "metadata": {},
   "outputs": [],
   "source": []
  }
 ],
 "metadata": {
  "kernelspec": {
   "display_name": "Python 3 (ipykernel)",
   "language": "python",
   "name": "python3"
  },
  "language_info": {
   "codemirror_mode": {
    "name": "ipython",
    "version": 3
   },
   "file_extension": ".py",
   "mimetype": "text/x-python",
   "name": "python",
   "nbconvert_exporter": "python",
   "pygments_lexer": "ipython3",
   "version": "3.11.5"
  }
 },
 "nbformat": 4,
 "nbformat_minor": 5
}
