{
 "cells": [
  {
   "cell_type": "markdown",
   "id": "51c9feed-7cbc-402c-a3dd-7caf4f041147",
   "metadata": {},
   "source": [
    "# \"Silver Schema : Employee Dimension\""
   ]
  },
  {
   "cell_type": "code",
   "execution_count": 1,
   "id": "4aea0327-a54e-498a-bb0d-f3ee9e98856e",
   "metadata": {},
   "outputs": [],
   "source": [
    "from pyspark.sql import SparkSession\n",
    "from pyspark.sql.functions import *"
   ]
  },
  {
   "cell_type": "code",
   "execution_count": 2,
   "id": "360effb8-c9d1-49f9-bfd6-0691899ddc9e",
   "metadata": {},
   "outputs": [],
   "source": [
    "spark = SparkSession.builder \\\n",
    "    .appName(\"Employee\") \\\n",
    "    .config(\"hive.metastore.uris\", \"thrift://hive-metastore:9083\") \\\n",
    "    .config(\"spark.jars\", \"/Drivers/SQL_Sever/jdbc/sqljdbc42.jar\")\\\n",
    "    .enableHiveSupport() \\\n",
    "    .getOrCreate()"
   ]
  },
  {
   "cell_type": "code",
   "execution_count": 3,
   "id": "259640a1-c7e2-4c42-a890-6744b4ab4591",
   "metadata": {},
   "outputs": [
    {
     "name": "stdout",
     "output_type": "stream",
     "text": [
      "+---------+\n",
      "|namespace|\n",
      "+---------+\n",
      "|   bronze|\n",
      "|  default|\n",
      "|    sales|\n",
      "|   silver|\n",
      "+---------+\n",
      "\n"
     ]
    }
   ],
   "source": [
    "spark.sql(\"show schemas;\").show()"
   ]
  },
  {
   "cell_type": "code",
   "execution_count": 4,
   "id": "5b5384c7-6db1-46ff-a24a-e0e366ff16ca",
   "metadata": {},
   "outputs": [
    {
     "data": {
      "text/plain": [
       "DataFrame[]"
      ]
     },
     "execution_count": 4,
     "metadata": {},
     "output_type": "execute_result"
    }
   ],
   "source": [
    "spark.sql(\"use bronze\")"
   ]
  },
  {
   "cell_type": "code",
   "execution_count": 5,
   "id": "cd2f4059-346b-423f-b995-f5d9376945c5",
   "metadata": {},
   "outputs": [
    {
     "name": "stdout",
     "output_type": "stream",
     "text": [
      "+---------+-----------+-----------+\n",
      "|namespace|  tableName|isTemporary|\n",
      "+---------+-----------+-----------+\n",
      "|   bronze|dimcustomer|      false|\n",
      "|   bronze|    dimdate|      false|\n",
      "|   bronze|dimemployee|      false|\n",
      "|   bronze| dimproduct|      false|\n",
      "|   bronze|  factsales|      false|\n",
      "+---------+-----------+-----------+\n",
      "\n"
     ]
    }
   ],
   "source": [
    "spark.sql(\"show tables;\").show()"
   ]
  },
  {
   "cell_type": "code",
   "execution_count": 6,
   "id": "7453e4e5-76a3-428d-9902-6d50801d763e",
   "metadata": {},
   "outputs": [
    {
     "data": {
      "text/plain": [
       "['EmployeeID',\n",
       " 'EmployeeName',\n",
       " 'NationalIDNumber',\n",
       " 'LoginID',\n",
       " 'OrganizationNode',\n",
       " 'OrganizationLevel',\n",
       " 'JobTitle',\n",
       " 'BirthDate',\n",
       " 'MaritalStatus',\n",
       " 'Gender',\n",
       " 'HireDate',\n",
       " 'SalariedFlag',\n",
       " 'VacationHours',\n",
       " 'SickLeaveHours',\n",
       " 'CurrentFlag',\n",
       " 'GroupName',\n",
       " 'PersonType',\n",
       " 'NameStyle',\n",
       " 'Title',\n",
       " 'Suffix',\n",
       " 'EmailPromotion',\n",
       " 'AdditionalContactInfo',\n",
       " 'Demographics',\n",
       " 'AddressLine1',\n",
       " 'AddressLine2',\n",
       " 'City',\n",
       " 'PostalCode',\n",
       " 'SpatialLocation',\n",
       " 'StateProvinceCode',\n",
       " 'CountryRegionCode',\n",
       " 'IsOnlyStateProvinceFlag',\n",
       " 'stateName']"
      ]
     },
     "execution_count": 6,
     "metadata": {},
     "output_type": "execute_result"
    }
   ],
   "source": [
    "bronze_Employee = spark.sql(\"select * from bronze.dimemployee\")\n",
    "bronze_Employee.columns"
   ]
  },
  {
   "cell_type": "code",
   "execution_count": 7,
   "id": "4e16dc27-89fb-4bf4-a7e8-b91a4f70200c",
   "metadata": {},
   "outputs": [
    {
     "data": {
      "text/plain": [
       "EmployeeID                 False\n",
       "EmployeeName               False\n",
       "NationalIDNumber           False\n",
       "LoginID                    False\n",
       "OrganizationNode            True\n",
       "OrganizationLevel           True\n",
       "JobTitle                   False\n",
       "BirthDate                  False\n",
       "MaritalStatus              False\n",
       "Gender                     False\n",
       "HireDate                   False\n",
       "SalariedFlag               False\n",
       "VacationHours              False\n",
       "SickLeaveHours             False\n",
       "CurrentFlag                False\n",
       "GroupName                  False\n",
       "PersonType                 False\n",
       "NameStyle                  False\n",
       "Title                       True\n",
       "Suffix                      True\n",
       "EmailPromotion             False\n",
       "AdditionalContactInfo       True\n",
       "Demographics               False\n",
       "AddressLine1               False\n",
       "AddressLine2                True\n",
       "City                       False\n",
       "PostalCode                 False\n",
       "SpatialLocation            False\n",
       "StateProvinceCode          False\n",
       "CountryRegionCode          False\n",
       "IsOnlyStateProvinceFlag    False\n",
       "stateName                  False\n",
       "dtype: bool"
      ]
     },
     "execution_count": 7,
     "metadata": {},
     "output_type": "execute_result"
    }
   ],
   "source": [
    "sEmp = bronze_Employee.toPandas()\n",
    "sEmp.isnull().any()"
   ]
  },
  {
   "cell_type": "code",
   "execution_count": 8,
   "id": "39a7fe46-215c-4110-bab0-83bb92c680b3",
   "metadata": {},
   "outputs": [
    {
     "data": {
      "text/plain": [
       "EmployeeID                 290\n",
       "EmployeeName               290\n",
       "NationalIDNumber           290\n",
       "LoginID                    290\n",
       "OrganizationNode           289\n",
       "OrganizationLevel          289\n",
       "JobTitle                   290\n",
       "BirthDate                  290\n",
       "MaritalStatus              290\n",
       "Gender                     290\n",
       "HireDate                   290\n",
       "SalariedFlag               290\n",
       "VacationHours              290\n",
       "SickLeaveHours             290\n",
       "CurrentFlag                290\n",
       "GroupName                  290\n",
       "PersonType                 290\n",
       "NameStyle                  290\n",
       "Title                        8\n",
       "Suffix                       2\n",
       "EmailPromotion             290\n",
       "AdditionalContactInfo        0\n",
       "Demographics               290\n",
       "AddressLine1               290\n",
       "AddressLine2                 8\n",
       "City                       290\n",
       "PostalCode                 290\n",
       "SpatialLocation            290\n",
       "StateProvinceCode          290\n",
       "CountryRegionCode          290\n",
       "IsOnlyStateProvinceFlag    290\n",
       "stateName                  290\n",
       "dtype: int64"
      ]
     },
     "execution_count": 8,
     "metadata": {},
     "output_type": "execute_result"
    }
   ],
   "source": [
    "sEmp.count()"
   ]
  },
  {
   "cell_type": "markdown",
   "id": "0ddaca34-55a4-4fbe-bdec-4305081b2613",
   "metadata": {},
   "source": [
    "\n",
    "# Based on the available data in each column they will make a decision about it:\n",
    "- AdditionalContactInfo, Suffix, and Title will be dropped \n",
    "- address1 haven't nulls, but address2 has, so I decided to make address1 and 2 a list in one column called address"
   ]
  },
  {
   "cell_type": "code",
   "execution_count": 9,
   "id": "339890bb-c918-47eb-b361-349960159ed6",
   "metadata": {},
   "outputs": [
    {
     "data": {
      "text/plain": [
       "['EmployeeID',\n",
       " 'EmployeeName',\n",
       " 'NationalIDNumber',\n",
       " 'LoginID',\n",
       " 'OrganizationNode',\n",
       " 'OrganizationLevel',\n",
       " 'JobTitle',\n",
       " 'BirthDate',\n",
       " 'MaritalStatus',\n",
       " 'Gender',\n",
       " 'HireDate',\n",
       " 'SalariedFlag',\n",
       " 'VacationHours',\n",
       " 'SickLeaveHours',\n",
       " 'CurrentFlag',\n",
       " 'GroupName',\n",
       " 'PersonType',\n",
       " 'NameStyle',\n",
       " 'EmailPromotion',\n",
       " 'Demographics',\n",
       " 'City',\n",
       " 'PostalCode',\n",
       " 'SpatialLocation',\n",
       " 'StateProvinceCode',\n",
       " 'CountryRegionCode',\n",
       " 'IsOnlyStateProvinceFlag',\n",
       " 'stateName',\n",
       " 'Address']"
      ]
     },
     "execution_count": 9,
     "metadata": {},
     "output_type": "execute_result"
    }
   ],
   "source": [
    "bronze_Employee= bronze_Employee\\\n",
    "            .withColumn(\"Address\", array(col(\"AddressLine1\"), col(\"AddressLine2\")))\\\n",
    "            .drop(col(\"AdditionalContactInfo\"), col(\"Suffix\"), col(\"Title\"), col(\"AddressLine1\"), col(\"AddressLine2\"))\n",
    "\n",
    "bronze_Employee.columns"
   ]
  },
  {
   "cell_type": "code",
   "execution_count": 10,
   "id": "482e8663-1215-4021-bbe7-bf0fb758d799",
   "metadata": {},
   "outputs": [
    {
     "data": {
      "text/plain": [
       "EmployeeID                 False\n",
       "EmployeeName               False\n",
       "NationalIDNumber           False\n",
       "LoginID                    False\n",
       "OrganizationNode            True\n",
       "OrganizationLevel           True\n",
       "JobTitle                   False\n",
       "BirthDate                  False\n",
       "MaritalStatus              False\n",
       "Gender                     False\n",
       "HireDate                   False\n",
       "SalariedFlag               False\n",
       "VacationHours              False\n",
       "SickLeaveHours             False\n",
       "CurrentFlag                False\n",
       "GroupName                  False\n",
       "PersonType                 False\n",
       "NameStyle                  False\n",
       "EmailPromotion             False\n",
       "Demographics               False\n",
       "City                       False\n",
       "PostalCode                 False\n",
       "SpatialLocation            False\n",
       "StateProvinceCode          False\n",
       "CountryRegionCode          False\n",
       "IsOnlyStateProvinceFlag    False\n",
       "stateName                  False\n",
       "Address                    False\n",
       "dtype: bool"
      ]
     },
     "execution_count": 10,
     "metadata": {},
     "output_type": "execute_result"
    }
   ],
   "source": [
    "Semp = bronze_Employee.toPandas()\n",
    "Semp.isnull().any()"
   ]
  },
  {
   "cell_type": "markdown",
   "id": "59a3698e-2d25-4484-b788-fb980ab94a0b",
   "metadata": {},
   "source": [
    "# OrganizationNode and OrganizationLevel columns have only two missed values, so we decided to ignore these two transactions"
   ]
  },
  {
   "cell_type": "code",
   "execution_count": 11,
   "id": "b2ef4ab5-ceb7-47d9-93b9-d4c290eda52e",
   "metadata": {},
   "outputs": [],
   "source": [
    "bronze_Employee.createOrReplaceTempView(\"sEmp\")\n",
    "bronze_Employee = spark.sql(\"\"\"\n",
    "    select *\n",
    "    from semp\n",
    "    where OrganizationNode is not null or OrganizationLevel is not null\n",
    "\"\"\")"
   ]
  },
  {
   "cell_type": "code",
   "execution_count": 12,
   "id": "4e939f95-8eef-45d2-9507-8abf529ecc15",
   "metadata": {},
   "outputs": [
    {
     "data": {
      "text/plain": [
       "EmployeeID                 False\n",
       "EmployeeName               False\n",
       "NationalIDNumber           False\n",
       "LoginID                    False\n",
       "OrganizationNode           False\n",
       "OrganizationLevel          False\n",
       "JobTitle                   False\n",
       "BirthDate                  False\n",
       "MaritalStatus              False\n",
       "Gender                     False\n",
       "HireDate                   False\n",
       "SalariedFlag               False\n",
       "VacationHours              False\n",
       "SickLeaveHours             False\n",
       "CurrentFlag                False\n",
       "GroupName                  False\n",
       "PersonType                 False\n",
       "NameStyle                  False\n",
       "EmailPromotion             False\n",
       "Demographics               False\n",
       "City                       False\n",
       "PostalCode                 False\n",
       "SpatialLocation            False\n",
       "StateProvinceCode          False\n",
       "CountryRegionCode          False\n",
       "IsOnlyStateProvinceFlag    False\n",
       "stateName                  False\n",
       "Address                    False\n",
       "dtype: bool"
      ]
     },
     "execution_count": 12,
     "metadata": {},
     "output_type": "execute_result"
    }
   ],
   "source": [
    "sEmp = bronze_Employee.toPandas()\n",
    "sEmp.isnull().any()"
   ]
  },
  {
   "cell_type": "code",
   "execution_count": 13,
   "id": "ee5dfae8-65df-4ac0-9286-3160dcc9a055",
   "metadata": {},
   "outputs": [
    {
     "data": {
      "text/plain": [
       "EmployeeID                 289\n",
       "EmployeeName               289\n",
       "NationalIDNumber           289\n",
       "LoginID                    289\n",
       "OrganizationNode           289\n",
       "OrganizationLevel          289\n",
       "JobTitle                   289\n",
       "BirthDate                  289\n",
       "MaritalStatus              289\n",
       "Gender                     289\n",
       "HireDate                   289\n",
       "SalariedFlag               289\n",
       "VacationHours              289\n",
       "SickLeaveHours             289\n",
       "CurrentFlag                289\n",
       "GroupName                  289\n",
       "PersonType                 289\n",
       "NameStyle                  289\n",
       "EmailPromotion             289\n",
       "Demographics               289\n",
       "City                       289\n",
       "PostalCode                 289\n",
       "SpatialLocation            289\n",
       "StateProvinceCode          289\n",
       "CountryRegionCode          289\n",
       "IsOnlyStateProvinceFlag    289\n",
       "stateName                  289\n",
       "Address                    289\n",
       "dtype: int64"
      ]
     },
     "execution_count": 13,
     "metadata": {},
     "output_type": "execute_result"
    }
   ],
   "source": [
    "sEmp.count()"
   ]
  },
  {
   "cell_type": "code",
   "execution_count": 14,
   "id": "08416020-43b6-46f1-b622-f71073ca4339",
   "metadata": {},
   "outputs": [],
   "source": [
    "bronze_Employee.write.format(\"hive\").mode(\"overwrite\").saveAsTable(\"silver.DimEmployee\")"
   ]
  },
  {
   "cell_type": "code",
   "execution_count": 15,
   "id": "39d9e0d8-7681-43dc-868b-8e8c862cb568",
   "metadata": {},
   "outputs": [
    {
     "data": {
      "text/plain": [
       "DataFrame[]"
      ]
     },
     "execution_count": 15,
     "metadata": {},
     "output_type": "execute_result"
    }
   ],
   "source": [
    "spark.sql(\"use silver\")"
   ]
  },
  {
   "cell_type": "code",
   "execution_count": 16,
   "id": "7afa3036-93f6-4d65-9194-8942630765fb",
   "metadata": {},
   "outputs": [
    {
     "name": "stdout",
     "output_type": "stream",
     "text": [
      "+---------+-----------+-----------+\n",
      "|namespace|  tableName|isTemporary|\n",
      "+---------+-----------+-----------+\n",
      "|   silver|dimcustomer|      false|\n",
      "|   silver|    dimdate|      false|\n",
      "|   silver|dimemployee|      false|\n",
      "|         |       semp|       true|\n",
      "+---------+-----------+-----------+\n",
      "\n"
     ]
    }
   ],
   "source": [
    "spark.sql(\"show tables\").show()"
   ]
  },
  {
   "cell_type": "markdown",
   "id": "3a0be858-3768-4d25-a440-d5e286ddce7d",
   "metadata": {},
   "source": [
    "# Output From Hive DWH:"
   ]
  },
  {
   "cell_type": "code",
   "execution_count": null,
   "id": "a3f9966b-f1af-4d40-946a-31cb631f4293",
   "metadata": {},
   "outputs": [],
   "source": [
    "\"\"\"\n",
    "0: jdbc:hive2://localhost:10000/default> show schemas;\n",
    "+----------------+\n",
    "| database_name  |\n",
    "+----------------+\n",
    "| bronze         |\n",
    "| default        |\n",
    "| sales          |\n",
    "| silver         |\n",
    "+----------------+\n",
    "4 rows selected (1.624 seconds)\n",
    "0: jdbc:hive2://localhost:10000/default> use silver;\n",
    "No rows affected (0.111 seconds)\n",
    "0: jdbc:hive2://localhost:10000/default> show tables;\n",
    "+--------------+\n",
    "|   tab_name   |\n",
    "+--------------+\n",
    "| dimcustomer  |\n",
    "| dimdate      |\n",
    "| dimemployee  |\n",
    "+--------------+\n",
    "3 rows selected (0.09 seconds)\n",
    "0: jdbc:hive2://localhost:10000/default> select EmployeeID, EmployeeName, NationalIDNumber, LoginID, OrganizationNode\n",
    ". . . . . . . . . . . . . . . . . . . .> from dimemployee\n",
    ". . . . . . . . . . . . . . . . . . . .> limit 5;\n",
    "+-------------+-------------------+-------------------+--------------------------+-------------------+\n",
    "| employeeid  |   employeename    | nationalidnumber  |         loginid          | organizationnode  |\n",
    "+-------------+-------------------+-------------------+--------------------------+-------------------+\n",
    "| 6           | Jossef Goldberg   | 998320692         | adventure-works\\jossef0  | Z?                |\n",
    "| 9           | Gigi Matthew      | 658797903         | adventure-works\\gigi0    | Z?h               |\n",
    "| 15          | Sharon Salavaria  | 56920285          | adventure-works\\sharon0  | Z?                |\n",
    "| 16          | David Bradley     | 24756624          | adventure-works\\david0   | h                 |\n",
    "| 17          | Kevin Brown       | 253022876         | adventure-works\\kevin0   | j?                |\n",
    "+-------------+-------------------+-------------------+--------------------------+-------------------+\n",
    "5 rows selected (2.48 seconds)\n",
    "\"\"\""
   ]
  }
 ],
 "metadata": {
  "kernelspec": {
   "display_name": "Python 3 (ipykernel)",
   "language": "python",
   "name": "python3"
  },
  "language_info": {
   "codemirror_mode": {
    "name": "ipython",
    "version": 3
   },
   "file_extension": ".py",
   "mimetype": "text/x-python",
   "name": "python",
   "nbconvert_exporter": "python",
   "pygments_lexer": "ipython3",
   "version": "3.11.5"
  }
 },
 "nbformat": 4,
 "nbformat_minor": 5
}
