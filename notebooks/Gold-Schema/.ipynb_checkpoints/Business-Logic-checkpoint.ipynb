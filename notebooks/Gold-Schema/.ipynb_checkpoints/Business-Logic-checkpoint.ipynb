{
 "cells": [
  {
   "cell_type": "code",
   "execution_count": 15,
   "id": "6778147f-d027-4941-9497-07bc3defa150",
   "metadata": {},
   "outputs": [],
   "source": [
    "from pyspark.sql import SparkSession\n",
    "from pyspark.sql.functions import *"
   ]
  },
  {
   "cell_type": "code",
   "execution_count": 16,
   "id": "fbb614d6-7dbf-4484-b5d2-a979064237e2",
   "metadata": {},
   "outputs": [],
   "source": [
    "spark = SparkSession.builder\\\n",
    "    .config(\"hive.metastore.uris\", \"thrift://hive-metastore:9083\") \\\n",
    "    .config(\"spark.jars\", \"/Drivers/SQL_Sever/jdbc/sqljdbc42.jar\")\\\n",
    "    .enableHiveSupport()\\\n",
    "    .getOrCreate()"
   ]
  },
  {
   "cell_type": "code",
   "execution_count": 20,
   "id": "f0a04499-e3ad-428a-a2f3-37a8606a748a",
   "metadata": {},
   "outputs": [
    {
     "data": {
      "text/plain": [
       "DataFrame[]"
      ]
     },
     "execution_count": 20,
     "metadata": {},
     "output_type": "execute_result"
    }
   ],
   "source": [
    "spark.sql(\"create namespace gold;\")"
   ]
  },
  {
   "cell_type": "code",
   "execution_count": 21,
   "id": "093d9dfb-7778-4f61-92d4-429cb2bc07dc",
   "metadata": {},
   "outputs": [
    {
     "name": "stdout",
     "output_type": "stream",
     "text": [
      "+---------+\n",
      "|namespace|\n",
      "+---------+\n",
      "|   bronze|\n",
      "|  default|\n",
      "|     gold|\n",
      "|    sales|\n",
      "|   silver|\n",
      "+---------+\n",
      "\n"
     ]
    }
   ],
   "source": [
    "spark.sql(\"show namespaces;\").show()"
   ]
  },
  {
   "cell_type": "code",
   "execution_count": 18,
   "id": "2b679c29-1a78-44ee-a877-9c4998a562d3",
   "metadata": {},
   "outputs": [
    {
     "data": {
      "text/plain": [
       "DataFrame[]"
      ]
     },
     "execution_count": 18,
     "metadata": {},
     "output_type": "execute_result"
    }
   ],
   "source": [
    "spark.sql(\"use silver\")"
   ]
  },
  {
   "cell_type": "code",
   "execution_count": 19,
   "id": "a6b3fca5-a068-451a-98db-f88c2550fd27",
   "metadata": {},
   "outputs": [
    {
     "name": "stdout",
     "output_type": "stream",
     "text": [
      "+---------------------------+\n",
      "|count(DISTINCT CustomerKey)|\n",
      "+---------------------------+\n",
      "|                      19119|\n",
      "+---------------------------+\n",
      "\n"
     ]
    }
   ],
   "source": [
    "spark.sql(\"select count(distinct CustomerKey) from factsales\").show()"
   ]
  },
  {
   "cell_type": "code",
   "execution_count": 40,
   "id": "2dc32b5b-8ad3-4d21-81d9-1ef21022b1b9",
   "metadata": {},
   "outputs": [
    {
     "name": "stdout",
     "output_type": "stream",
     "text": [
      "+---------+-----------+-----------+\n",
      "|namespace|  tableName|isTemporary|\n",
      "+---------+-----------+-----------+\n",
      "|   silver|dimcustomer|      false|\n",
      "|   silver|    dimdate|      false|\n",
      "|   silver|dimemployee|      false|\n",
      "|   silver| dimproduct|      false|\n",
      "|   silver|  factsales|      false|\n",
      "+---------+-----------+-----------+\n",
      "\n"
     ]
    }
   ],
   "source": [
    "spark.sql(\"show tables\").show()"
   ]
  },
  {
   "cell_type": "code",
   "execution_count": 41,
   "id": "a989483e-548e-45ba-b620-ca026695f64a",
   "metadata": {},
   "outputs": [
    {
     "name": "stdout",
     "output_type": "stream",
     "text": [
      "+-------------------+-------------+-------+\n",
      "|           col_name|    data_type|comment|\n",
      "+-------------------+-------------+-------+\n",
      "|       SalesOrderID|          int|   NULL|\n",
      "|        CustomerKey|          int|   NULL|\n",
      "|        EmployeeKey|          int|   NULL|\n",
      "|         ProductKey|          int|   NULL|\n",
      "|     RevisionNumber|          int|   NULL|\n",
      "|           OrderQty|     smallint|   NULL|\n",
      "|          UnitPrice|decimal(19,4)|   NULL|\n",
      "|  UnitPriceDiscount|decimal(19,4)|   NULL|\n",
      "|           SubTotal|decimal(19,4)|   NULL|\n",
      "|             TaxAmt|decimal(19,4)|   NULL|\n",
      "|            Freight|decimal(19,4)|   NULL|\n",
      "|           TotalDue|decimal(19,4)|   NULL|\n",
      "|          OrderDate|    timestamp|   NULL|\n",
      "|            DueDate|    timestamp|   NULL|\n",
      "|           ShipDate|    timestamp|   NULL|\n",
      "|             Status|          int|   NULL|\n",
      "|    OnlineOrderFlag|      boolean|   NULL|\n",
      "|   SalesOrderNumber|       string|   NULL|\n",
      "|PurchaseOrderNumber|       string|   NULL|\n",
      "|      AccountNumber|       string|   NULL|\n",
      "+-------------------+-------------+-------+\n",
      "only showing top 20 rows\n",
      "\n"
     ]
    }
   ],
   "source": [
    "spark.sql(\"describe FactSales\").show()"
   ]
  },
  {
   "cell_type": "code",
   "execution_count": 22,
   "id": "7d001069-0544-4216-b141-9936f6fd3eec",
   "metadata": {},
   "outputs": [
    {
     "name": "stdout",
     "output_type": "stream",
     "text": [
      "+------------+-----------+-----------+----------+----------+\n",
      "|SalesOrderID|CustomerKey|EmployeeKey|ProductKey|    profit|\n",
      "+------------+-----------+-----------+----------+----------+\n",
      "|       43662|      29994|        282|       762|25190.1254|\n",
      "|       43662|      29994|        282|       765|25190.1254|\n",
      "|       43662|      29994|        282|       756|25190.1254|\n",
      "|       43665|      29580|        283|       778|12546.8465|\n",
      "|       43666|      30052|        276|       756| 4418.1228|\n",
      "+------------+-----------+-----------+----------+----------+\n",
      "only showing top 5 rows\n",
      "\n"
     ]
    }
   ],
   "source": [
    "profit =spark.sql(\"\"\"\n",
    "  SELECT\n",
    "    fs.*,\n",
    "    (fs.SubTotal - fs.TaxAmt - fs.Freight) AS Profit\n",
    "  FROM\n",
    "    FactSales fs\n",
    "\"\"\")\n",
    "profit.select(\"SalesOrderID\",\"CustomerKey\", \"EmployeeKey\", \"ProductKey\",\"profit\").show(5)\n",
    "profit.write.format(\"hive\").mode(\"overwrite\").saveAsTable(\"gold.profit\")\n"
   ]
  },
  {
   "cell_type": "code",
   "execution_count": 28,
   "id": "ed710053-07a9-47c4-adb6-d25a2b428733",
   "metadata": {},
   "outputs": [
    {
     "name": "stdout",
     "output_type": "stream",
     "text": [
      "+-----------+-------------+--------------+-----------+\n",
      "|CustomerKey|TotalRevenue |NumberOfOrders|CLV        |\n",
      "+-----------+-------------+--------------+-----------+\n",
      "|29509      |11990085.2908|12            |999173.7742|\n",
      "|29724      |11844575.4884|12            |987047.9574|\n",
      "|29543      |7894329.8593 |8             |986791.2324|\n",
      "|29922      |3916111.3781 |4             |979027.8445|\n",
      "|30059      |3819502.4623 |4             |954875.6156|\n",
      "|30051      |3817925.4284 |4             |954481.3571|\n",
      "|30113      |7626772.2207 |8             |953346.5276|\n",
      "|29524      |3765284.0561 |4             |941321.0140|\n",
      "|29841      |3719403.4521 |4             |929850.8630|\n",
      "|29710      |3711002.0662 |4             |927750.5166|\n",
      "|29510      |3682968.0277 |4             |920742.0069|\n",
      "|29595      |3674735.5700 |4             |918683.8925|\n",
      "|29935      |7308058.8694 |8             |913507.3587|\n",
      "|29534      |3641722.8158 |4             |910430.7040|\n",
      "|29942      |3578625.0448 |4             |894656.2612|\n",
      "|29561      |3575153.8250 |4             |893788.4563|\n",
      "|29739      |3540861.6514 |4             |885215.4129|\n",
      "|29690      |10516591.7336|12            |876382.6445|\n",
      "|29938      |10414164.3555|12            |867847.0296|\n",
      "|29931      |3466340.6677 |4             |866585.1669|\n",
      "+-----------+-------------+--------------+-----------+\n",
      "only showing top 20 rows\n",
      "\n"
     ]
    }
   ],
   "source": [
    "Customer_Lifetime_Value=spark.sql(\"\"\"\n",
    "  SELECT\n",
    "    fs.CustomerKey,\n",
    "    SUM(fs.TotalDue) AS TotalRevenue,\n",
    "    COUNT(DISTINCT fs.SalesOrderID) AS NumberOfOrders,\n",
    "    cast((SUM(fs.TotalDue) / COUNT(DISTINCT fs.SalesOrderID)) as decimal(10,4)) as CLV\n",
    "  FROM\n",
    "    FactSales fs\n",
    "  GROUP BY\n",
    "    fs.CustomerKey\n",
    "\"\"\")\n",
    "Customer_Lifetime_Value.orderBy(\"CLV\", ascending=False).show(truncate=False)\n",
    "Customer_Lifetime_Value.write.format(\"hive\").mode(\"overwrite\").saveAsTable(\"gold.Customer_Lifetime_Value\")"
   ]
  },
  {
   "cell_type": "code",
   "execution_count": 29,
   "id": "fb7ca150-dd0c-4139-bde6-1aeaf5717070",
   "metadata": {},
   "outputs": [
    {
     "name": "stdout",
     "output_type": "stream",
     "text": [
      "+----------+--------------------+--------------+-------------+-----------+\n",
      "|EmployeeID|        EmployeeName|    TotalSales|AvgOrderValue|TotalOrders|\n",
      "+----------+--------------------+--------------+-------------+-----------+\n",
      "|       277|      Jillian Carson|347868654.9495|   44456.0581|        473|\n",
      "|       275|      Michael Blythe|327853784.2760|   46379.0896|        450|\n",
      "|       279|         Tsvi Reiter|201612866.2556|   37218.5465|        429|\n",
      "|       276|      Linda Mitchell|381125560.6115|   53626.7849|        418|\n",
      "|       289|             Jae Pak|366037331.2842|   54324.3294|        348|\n",
      "|       282|        José Saraiva|206045854.0384|   46438.1010|        271|\n",
      "|       281|             Shu Ito|225255391.3744|   49561.1422|        242|\n",
      "|       278|      Garrett Vargas|102841549.2822|   31315.9407|        234|\n",
      "|       283|      David Campbell|123090545.2713|   54779.9489|        189|\n",
      "|       290|Ranjit Varkey Chu...|190218560.7085|   55635.7300|        175|\n",
      "|       284|    Tete Mensa-Annan| 71701333.1427|   37877.0909|        140|\n",
      "|       288|       Rachel Valdez| 78261325.6150|   43893.0598|        130|\n",
      "|       286|       Lynn Tsoflias| 44494565.2461|   30309.6494|        109|\n",
      "|       280| Pamela Ansman-Wolfe|114511107.8421|   55480.1879|         95|\n",
      "|       274|       Stephen Jiang| 45434065.9683|   57366.2449|         48|\n",
      "|       287|         Amy Alberts| 27128771.8885|   46294.8326|         39|\n",
      "|       285|          Syed Abbas|  8042819.8509|   32827.8361|         16|\n",
      "+----------+--------------------+--------------+-------------+-----------+\n",
      "\n"
     ]
    }
   ],
   "source": [
    "Emp_Sales_performace =spark.sql(\"\"\"\n",
    "  SELECT\n",
    "    e.EmployeeID,\n",
    "    e.EmployeeName,\n",
    "    SUM(fs.TotalDue) AS TotalSales,\n",
    "    cast(AVG(fs.TotalDue) AS DECIMAL(10,4)) as AvgOrderValue,\n",
    "    COUNT(DISTINCT fs.SalesOrderID) AS TotalOrders \n",
    "    FROM FactSales fs\n",
    "    \n",
    "    inner join dimemployee e\n",
    "    ON fs.EmployeeKey = e.EmployeeID\n",
    "    \n",
    "    GROUP BY e.EmployeeID, e.EmployeeName\n",
    "\"\"\")\n",
    "Emp_Sales_performace.orderBy(\"TotalOrders\",ascending =False).show()\n",
    "Emp_Sales_performace.write.format(\"hive\").mode(\"overwrite\").saveAsTable(\"gold.Emp_Sales_performace\")"
   ]
  },
  {
   "cell_type": "code",
   "execution_count": 30,
   "id": "64420767-7962-4c84-874f-eff17177e692",
   "metadata": {},
   "outputs": [
    {
     "name": "stdout",
     "output_type": "stream",
     "text": [
      "+---------+--------------------+----+-----+------------+\n",
      "|ProductID|         productName|Year|Month|MonthlySales|\n",
      "+---------+--------------------+----+-----+------------+\n",
      "|      707|Sport-100 Helmet,...|2011|   05| 246964.6144|\n",
      "|      707|Sport-100 Helmet,...|2011|   07| 781782.7504|\n",
      "|      707|Sport-100 Helmet,...|2011|   08|1306422.5044|\n",
      "|      707|Sport-100 Helmet,...|2011|   10|2451107.6278|\n",
      "|      707|Sport-100 Helmet,...|2011|   12| 123493.8543|\n",
      "|      707|Sport-100 Helmet,...|2012|   01|1001293.6244|\n",
      "|      707|Sport-100 Helmet,...|2012|   02| 489774.2332|\n",
      "|      707|Sport-100 Helmet,...|2012|   03|1429122.2143|\n",
      "|      707|Sport-100 Helmet,...|2012|   04| 679976.1760|\n",
      "|      707|Sport-100 Helmet,...|2012|   05|1679032.2619|\n",
      "|      707|Sport-100 Helmet,...|2012|   06|2520181.7941|\n",
      "|      707|Sport-100 Helmet,...|2012|   07|2031765.9740|\n",
      "|      707|Sport-100 Helmet,...|2012|   08|1189553.9608|\n",
      "|      707|Sport-100 Helmet,...|2012|   09|1983843.2223|\n",
      "|      707|Sport-100 Helmet,...|2012|   10|1322719.6083|\n",
      "|      707|Sport-100 Helmet,...|2012|   11| 450668.5522|\n",
      "|      707|Sport-100 Helmet,...|2012|   12| 437485.1112|\n",
      "|      707|Sport-100 Helmet,...|2013|   01| 467661.5702|\n",
      "|      707|Sport-100 Helmet,...|2013|   02|1422165.5878|\n",
      "|      707|Sport-100 Helmet,...|2013|   03|1933861.5387|\n",
      "+---------+--------------------+----+-----+------------+\n",
      "only showing top 20 rows\n",
      "\n"
     ]
    }
   ],
   "source": [
    "product_trends =spark.sql(\"\"\"\n",
    "  SELECT\n",
    "    p.ProductID,\n",
    "    p.productName,\n",
    "    d.Year,\n",
    "    d.Month,\n",
    "    SUM(fs.TotalDue) AS MonthlySales\n",
    "  FROM FactSales fs\n",
    "\n",
    "  inner join dimproduct p\n",
    "  ON fs.ProductKey = p.ProductID\n",
    "  \n",
    "  inner join dimdate d\n",
    "  ON fs.OrderDate = d.DateKey\n",
    "  \n",
    "  GROUP BY\n",
    "    p.ProductID, p.productName, d.Year, d.Month\n",
    "    \n",
    "  ORDER BY\n",
    "    p.ProductID, d.Year, d.Month\n",
    "\"\"\")\n",
    "\n",
    "product_trends.show()\n",
    "product_trends.write.format(\"hive\").mode(\"overwrite\").saveAsTable(\"gold.product_trends\")"
   ]
  },
  {
   "cell_type": "code",
   "execution_count": 27,
   "id": "f77b8920-48f0-42ca-bc93-4e8224846d61",
   "metadata": {},
   "outputs": [
    {
     "name": "stdout",
     "output_type": "stream",
     "text": [
      "+-------------------+----------+----+-----+---+-------+\n",
      "|            DateKey|      Date|Year|Month|Day|Quarter|\n",
      "+-------------------+----------+----+-----+---+-------+\n",
      "|2011-10-10 00:00:00|2011-10-10|2011|   10| 10|      4|\n",
      "|2011-12-04 00:00:00|2011-12-04|2011|   12| 04|      4|\n",
      "|2012-01-22 00:00:00|2012-01-22|2012|   01| 22|      1|\n",
      "+-------------------+----------+----+-----+---+-------+\n",
      "only showing top 3 rows\n",
      "\n"
     ]
    }
   ],
   "source": [
    "spark.sql(\"select * from dimdate\").show(3)"
   ]
  },
  {
   "cell_type": "code",
   "execution_count": 28,
   "id": "f6466a73-159b-4ccc-95cd-3c4a67084914",
   "metadata": {},
   "outputs": [
    {
     "name": "stdout",
     "output_type": "stream",
     "text": [
      "+---------+-----------+-----------+\n",
      "|namespace|  tableName|isTemporary|\n",
      "+---------+-----------+-----------+\n",
      "|   silver|dimcustomer|      false|\n",
      "|   silver|    dimdate|      false|\n",
      "|   silver|dimemployee|      false|\n",
      "|   silver| dimproduct|      false|\n",
      "|   silver|  factsales|      false|\n",
      "+---------+-----------+-----------+\n",
      "\n"
     ]
    }
   ],
   "source": [
    "spark.sql(\"show tables;\").show()"
   ]
  },
  {
   "cell_type": "code",
   "execution_count": 31,
   "id": "d0e8b13d-76e6-4609-9692-3b16808a79ca",
   "metadata": {},
   "outputs": [],
   "source": [
    "customer_churn90 =spark.sql(\"\"\"\n",
    "    WITH ReferenceDate AS (\n",
    "  SELECT DATE_SUB(MAX(OrderDate), 90) AS reference_date\n",
    "  FROM FactSales\n",
    "  ),\n",
    "\n",
    "-- Retrieve customer keys who made purchases after the reference date\n",
    "    purches_after_90 as(\n",
    "    SELECT DISTINCT CustomerKey\n",
    "    FROM FactSales\n",
    "    WHERE OrderDate > (SELECT reference_date FROM ReferenceDate)\n",
    "    ),\n",
    "    \n",
    "    customer_IDs_not_purches_last90 as (\n",
    "    select CustomerKey from factsales\n",
    "    where factsales.CustomerKey not in (select CustomerKey from  purches_after_90)\n",
    "    ),\n",
    "    \n",
    "    fact as (\n",
    "    select * from factsales c\n",
    "    where c.customerkey in (select CustomerKey from customer_IDs_not_purches_last90)\n",
    "    )\n",
    "    \n",
    "    SELECT\n",
    "    dimcustomer.CustomerID,\n",
    "    dimcustomer.CustomerName,\n",
    "    MAX(fact.OrderDate) AS LastPurchaseDate\n",
    "    from fact inner join dimcustomer\n",
    "    on fact.CustomerKey = dimcustomer.customerid\n",
    "    group by dimcustomer.CustomerID, dimcustomer.CustomerName\n",
    "    \n",
    "\"\"\")\n",
    "customer_churn90.write.format(\"hive\").mode(\"overwrite\").saveAsTable(\"gold.customer_churn90\")"
   ]
  },
  {
   "cell_type": "code",
   "execution_count": 32,
   "id": "298552c3-379e-4988-a9d5-ce10234d3dad",
   "metadata": {},
   "outputs": [
    {
     "data": {
      "text/plain": [
       "DataFrame[]"
      ]
     },
     "execution_count": 32,
     "metadata": {},
     "output_type": "execute_result"
    }
   ],
   "source": [
    "spark.sql(\"use gold;\")"
   ]
  },
  {
   "cell_type": "code",
   "execution_count": 35,
   "id": "2b691c9c-33aa-4e7d-bcc2-4671c26a0086",
   "metadata": {},
   "outputs": [
    {
     "name": "stdout",
     "output_type": "stream",
     "text": [
      "+---------+-----------------------+-----------+\n",
      "|namespace|tableName              |isTemporary|\n",
      "+---------+-----------------------+-----------+\n",
      "|gold     |customer_churn90       |false      |\n",
      "|gold     |customer_lifetime_value|false      |\n",
      "|gold     |emp_sales_performace   |false      |\n",
      "|gold     |product_trends         |false      |\n",
      "|gold     |profit                 |false      |\n",
      "+---------+-----------------------+-----------+\n",
      "\n"
     ]
    }
   ],
   "source": [
    "spark.sql(\"show tables;\").show(truncate=False)"
   ]
  },
  {
   "cell_type": "code",
   "execution_count": 36,
   "id": "d02f9f4a-9920-4314-a4c4-3be444219200",
   "metadata": {},
   "outputs": [
    {
     "data": {
      "text/plain": [
       "DataFrame[]"
      ]
     },
     "execution_count": 36,
     "metadata": {},
     "output_type": "execute_result"
    }
   ],
   "source": [
    "spark.sql(\"use silver;\")"
   ]
  },
  {
   "cell_type": "code",
   "execution_count": null,
   "id": "bdffc808-a8b1-4563-95f7-07d07874688e",
   "metadata": {},
   "outputs": [],
   "source": []
  }
 ],
 "metadata": {
  "kernelspec": {
   "display_name": "Python 3 (ipykernel)",
   "language": "python",
   "name": "python3"
  },
  "language_info": {
   "codemirror_mode": {
    "name": "ipython",
    "version": 3
   },
   "file_extension": ".py",
   "mimetype": "text/x-python",
   "name": "python",
   "nbconvert_exporter": "python",
   "pygments_lexer": "ipython3",
   "version": "3.11.5"
  }
 },
 "nbformat": 4,
 "nbformat_minor": 5
}
