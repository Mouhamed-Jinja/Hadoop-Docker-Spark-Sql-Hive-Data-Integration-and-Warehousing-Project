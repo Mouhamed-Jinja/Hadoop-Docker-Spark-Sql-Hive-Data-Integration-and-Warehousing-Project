{
 "cells": [
  {
   "cell_type": "markdown",
   "id": "a9351e6a-ce64-4dd5-94de-ce95324c74b2",
   "metadata": {},
   "source": [
    "# \"Here I Created The Date Dimension for Time intelligence purposes\""
   ]
  },
  {
   "cell_type": "code",
   "execution_count": 1,
   "id": "9157953b-5d5f-4268-bf33-dd700e1f1db8",
   "metadata": {},
   "outputs": [],
   "source": [
    "from pyspark.sql import SparkSession\n",
    "from pyspark.sql.functions import *"
   ]
  },
  {
   "cell_type": "code",
   "execution_count": 2,
   "id": "31d9d770-9b7c-49c0-8a83-32f320400895",
   "metadata": {},
   "outputs": [],
   "source": [
    "from pyspark.sql import SparkSession\n",
    "\n",
    "# Initialize a Spark session\n",
    "spark = SparkSession.builder \\\n",
    "    .appName(\"SampleDataToHive\") \\\n",
    "    .config(\"hive.metastore.uris\", \"thrift://hive-metastore:9083\") \\\n",
    "    .config(\"spark.jars\", \"/Drivers/SQL_Sever/jdbc/sqljdbc42.jar\")\\\n",
    "    .enableHiveSupport() \\\n",
    "    .getOrCreate()\n"
   ]
  },
  {
   "cell_type": "code",
   "execution_count": 3,
   "id": "d41af179-d76a-4325-a84c-12ddb59e5160",
   "metadata": {},
   "outputs": [],
   "source": [
    "orderDate =spark.read.format(\"jdbc\")\\\n",
    "        .option(\"url\", \"jdbc:sqlserver://172.18.0.4:1433;databaseName=AdventureWorks2017\")\\\n",
    "        .option(\"driver\", \"com.microsoft.sqlserver.jdbc.SQLServerDriver\")\\\n",
    "        .option(\"dbtable\", \"[Sales].[SalesOrderHeader]\")\\\n",
    "        .option(\"user\",\"sa\")\\\n",
    "        .option(\"password\", \"Mo*012105\")\\\n",
    "        .load()\n"
   ]
  },
  {
   "cell_type": "code",
   "execution_count": 4,
   "id": "270a486c-7932-4f39-be02-e2496f30db7a",
   "metadata": {},
   "outputs": [],
   "source": [
    "order_dates = orderDate.select(\"OrderDate\").distinct()"
   ]
  },
  {
   "cell_type": "markdown",
   "id": "7ba5cf31-f4dc-4647-a8d4-4bdd8896c1f6",
   "metadata": {},
   "source": [
    "#Here i build the Date Dimension based on Order Date."
   ]
  },
  {
   "cell_type": "code",
   "execution_count": 11,
   "id": "20204247-56c4-435e-97a6-5a3c2235342a",
   "metadata": {},
   "outputs": [
    {
     "name": "stdout",
     "output_type": "stream",
     "text": [
      "+-------------------+----------+----+-----+---+-------+\n",
      "|            DateKey|      Date|Year|Month|Day|Quarter|\n",
      "+-------------------+----------+----+-----+---+-------+\n",
      "|2011-10-10 00:00:00|2011-10-10|2011|   10| 10|      4|\n",
      "|2011-12-04 00:00:00|2011-12-04|2011|   12| 04|      4|\n",
      "|2012-01-22 00:00:00|2012-01-22|2012|   01| 22|      1|\n",
      "|2012-07-11 00:00:00|2012-07-11|2012|   07| 11|      3|\n",
      "|2012-10-20 00:00:00|2012-10-20|2012|   10| 20|      4|\n",
      "|2013-10-31 00:00:00|2013-10-31|2013|   10| 31|      4|\n",
      "|2011-07-21 00:00:00|2011-07-21|2011|   07| 21|      3|\n",
      "|2011-08-26 00:00:00|2011-08-26|2011|   08| 26|      3|\n",
      "|2012-05-12 00:00:00|2012-05-12|2012|   05| 12|      2|\n",
      "|2013-02-12 00:00:00|2013-02-12|2013|   02| 12|      1|\n",
      "|2013-10-11 00:00:00|2013-10-11|2013|   10| 11|      4|\n",
      "|2013-11-21 00:00:00|2013-11-21|2013|   11| 21|      4|\n",
      "|2012-10-10 00:00:00|2012-10-10|2012|   10| 10|      4|\n",
      "|2012-12-18 00:00:00|2012-12-18|2012|   12| 18|      4|\n",
      "|2013-05-27 00:00:00|2013-05-27|2013|   05| 27|      2|\n",
      "|2013-09-15 00:00:00|2013-09-15|2013|   09| 15|      3|\n",
      "|2011-07-05 00:00:00|2011-07-05|2011|   07| 05|      3|\n",
      "|2012-03-30 00:00:00|2012-03-30|2012|   03| 30|      1|\n",
      "|2012-05-05 00:00:00|2012-05-05|2012|   05| 05|      2|\n",
      "|2013-06-17 00:00:00|2013-06-17|2013|   06| 17|      2|\n",
      "+-------------------+----------+----+-----+---+-------+\n",
      "only showing top 20 rows\n",
      "\n"
     ]
    }
   ],
   "source": [
    "DimDate = order_dates.select(\n",
    "    col(\"OrderDate\").alias(\"DateKey\"),\n",
    "    date_format(\"OrderDate\", \"yyyy-MM-dd\").alias(\"Date\"),\n",
    "    date_format(\"OrderDate\", \"yyyy\").alias(\"Year\"),\n",
    "    date_format(\"OrderDate\", \"MM\").alias(\"Month\"),\n",
    "    date_format(\"OrderDate\", \"dd\").alias(\"Day\"),\n",
    "    quarter(\"OrderDate\").alias(\"Quarter\"))\\\n",
    "    .repartition(4, \"DateKey\")\n",
    "\n",
    "# Show the dimDate DataFrame\n",
    "DimDate.show()\n",
    "DimDate.write.format(\"hive\").mode(\"overwrite\").saveAsTable(\"bronze.DimDate\")"
   ]
  },
  {
   "cell_type": "code",
   "execution_count": 6,
   "id": "8c32073d-48a1-4904-979e-80bfc8429b17",
   "metadata": {},
   "outputs": [
    {
     "name": "stdout",
     "output_type": "stream",
     "text": [
      "+-----------------+\n",
      "|        namespace|\n",
      "+-----------------+\n",
      "|bronzesalesschema|\n",
      "|          default|\n",
      "|      my_database|\n",
      "|            sales|\n",
      "|             test|\n",
      "+-----------------+\n",
      "\n"
     ]
    }
   ],
   "source": [
    "spark.sql(\"show databases\").show()"
   ]
  },
  {
   "cell_type": "code",
   "execution_count": 7,
   "id": "57aa56dc-03da-400b-ad4f-ac89a23293f9",
   "metadata": {},
   "outputs": [
    {
     "data": {
      "text/plain": [
       "DataFrame[]"
      ]
     },
     "execution_count": 7,
     "metadata": {},
     "output_type": "execute_result"
    }
   ],
   "source": [
    "spark.sql(\"use bronzesalesschema\")"
   ]
  },
  {
   "cell_type": "code",
   "execution_count": 8,
   "id": "a2e4ce7e-e9d9-4439-8343-1cedaee239b4",
   "metadata": {},
   "outputs": [
    {
     "name": "stdout",
     "output_type": "stream",
     "text": [
      "+-----------------+-----------+-----------+\n",
      "|        namespace|  tableName|isTemporary|\n",
      "+-----------------+-----------+-----------+\n",
      "|bronzesalesschema|dimcustomer|      false|\n",
      "|bronzesalesschema|    dimdate|      false|\n",
      "+-----------------+-----------+-----------+\n",
      "\n"
     ]
    }
   ],
   "source": [
    "spark.sql(\"show tables\").show()"
   ]
  },
  {
   "cell_type": "code",
   "execution_count": null,
   "id": "9fa480c1-281c-4d33-ae63-40d70a6b23c0",
   "metadata": {},
   "outputs": [],
   "source": []
  }
 ],
 "metadata": {
  "kernelspec": {
   "display_name": "Python 3 (ipykernel)",
   "language": "python",
   "name": "python3"
  },
  "language_info": {
   "codemirror_mode": {
    "name": "ipython",
    "version": 3
   },
   "file_extension": ".py",
   "mimetype": "text/x-python",
   "name": "python",
   "nbconvert_exporter": "python",
   "pygments_lexer": "ipython3",
   "version": "3.11.5"
  }
 },
 "nbformat": 4,
 "nbformat_minor": 5
}
