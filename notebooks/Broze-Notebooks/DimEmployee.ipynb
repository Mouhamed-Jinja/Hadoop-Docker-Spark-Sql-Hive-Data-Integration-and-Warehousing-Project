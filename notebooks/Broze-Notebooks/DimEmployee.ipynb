{
 "cells": [
  {
   "cell_type": "markdown",
   "id": "6b1ee6fc-5606-4b5e-a524-bf2685838fb5",
   "metadata": {},
   "source": [
    "# \"Employee Dimension\""
   ]
  },
  {
   "cell_type": "code",
   "execution_count": 1,
   "id": "d1c70baa-c70b-481a-9967-efdfd3fdfff6",
   "metadata": {},
   "outputs": [],
   "source": [
    "from pyspark.sql import SparkSession\n",
    "from pyspark.sql.functions import *"
   ]
  },
  {
   "cell_type": "code",
   "execution_count": 2,
   "id": "0cbecbb4-54e6-4fdd-a0b4-cbc65dfed693",
   "metadata": {},
   "outputs": [],
   "source": [
    "spark = SparkSession.builder \\\n",
    "    .appName(\"Customer\") \\\n",
    "    .config(\"hive.metastore.uris\", \"thrift://hive-metastore:9083\") \\\n",
    "    .config(\"spark.jars\", \"/Drivers/SQL_Sever/jdbc/sqljdbc42.jar\")\\\n",
    "    .enableHiveSupport() \\\n",
    "    .getOrCreate()"
   ]
  },
  {
   "cell_type": "code",
   "execution_count": 3,
   "id": "74d637a9-8fd5-459f-9f82-785af62280fc",
   "metadata": {},
   "outputs": [
    {
     "name": "stdout",
     "output_type": "stream",
     "text": [
      "7  tables\n"
     ]
    }
   ],
   "source": [
    "Tables= [\"[Person].[StateProvince]\", \"[Person].[BusinessEntityAddress]\", \"[Person].[Address]\", \"[Person].[Person]\", \"[HumanResources].[Department]\", \"[HumanResources].[EmployeeDepartmentHistory]\", \"[HumanResources].[Employee]\"]\n",
    "print(len(Tables), \" tables\")"
   ]
  },
  {
   "cell_type": "code",
   "execution_count": 4,
   "id": "dc6efc2c-a41b-4f26-9e65-4c6e7c0ec378",
   "metadata": {},
   "outputs": [
    {
     "name": "stdout",
     "output_type": "stream",
     "text": [
      "dict_keys(['[Person].[StateProvince]', '[Person].[BusinessEntityAddress]', '[Person].[Address]', '[Person].[Person]', '[HumanResources].[Department]', '[HumanResources].[EmployeeDepartmentHistory]', '[HumanResources].[Employee]'])\n"
     ]
    }
   ],
   "source": [
    "dataFrames= {}\n",
    "for table in Tables:\n",
    "    query = f\"select * from {table}\"\n",
    "    df =spark.read.format(\"jdbc\")\\\n",
    "        .option(\"url\", \"jdbc:sqlserver://172.18.0.4:1433;databaseName=AdventureWorks2017\")\\\n",
    "        .option(\"driver\", \"com.microsoft.sqlserver.jdbc.SQLServerDriver\")\\\n",
    "        .option(\"dbtable\", f\"({query}) as temp\")\\\n",
    "        .option(\"user\",\"sa\")\\\n",
    "        .option(\"password\", \"Mo*012105\")\\\n",
    "        .load()\n",
    "    dataFrames[table] = df\n",
    "print(dataFrames.keys())"
   ]
  },
  {
   "cell_type": "code",
   "execution_count": 5,
   "id": "dc8700d7-7444-432e-ac26-7c5c2f047d35",
   "metadata": {},
   "outputs": [
    {
     "data": {
      "text/plain": [
       "290"
      ]
     },
     "execution_count": 5,
     "metadata": {},
     "output_type": "execute_result"
    }
   ],
   "source": [
    "emp = dataFrames[\"[HumanResources].[Employee]\"]\\\n",
    "    .select('BusinessEntityID',\n",
    "             'NationalIDNumber',\n",
    "             'LoginID',\n",
    "             'OrganizationNode',\n",
    "             'OrganizationLevel',\n",
    "             'JobTitle',\n",
    "             'BirthDate',\n",
    "             'MaritalStatus',\n",
    "             'Gender',\n",
    "             'HireDate',\n",
    "             'SalariedFlag',\n",
    "             'VacationHours',\n",
    "             'SickLeaveHours',\n",
    "             'CurrentFlag')\n",
    "emp.repartition(4, \"BusinessEntityID\").cache()\n",
    "emp.createOrReplaceTempView(\"emp\")\n",
    "emp.count()"
   ]
  },
  {
   "cell_type": "code",
   "execution_count": 6,
   "id": "8605c63a-7c80-4128-81fe-f6bb9af95ab2",
   "metadata": {},
   "outputs": [
    {
     "name": "stdout",
     "output_type": "stream",
     "text": [
      "+----------------+-----+\n",
      "|BusinessEntityID|count|\n",
      "+----------------+-----+\n",
      "|             148|    1|\n",
      "|             243|    1|\n",
      "|              31|    1|\n",
      "+----------------+-----+\n",
      "only showing top 3 rows\n",
      "\n"
     ]
    }
   ],
   "source": [
    "#there is dublicated values ?\n",
    "spark.sql(\"\"\"\n",
    "select * from(\n",
    "    select BusinessEntityID, count(BusinessEntityID) as count\n",
    "    from emp\n",
    "    group by BusinessEntityID) as nt\n",
    "    order by count asc\n",
    "\"\"\").show(3)"
   ]
  },
  {
   "cell_type": "code",
   "execution_count": 7,
   "id": "f80f764e-a8bc-4b66-8f21-e1c637b8b806",
   "metadata": {},
   "outputs": [
    {
     "data": {
      "text/plain": [
       "['BusinessEntityID', 'DepartmentID']"
      ]
     },
     "execution_count": 7,
     "metadata": {},
     "output_type": "execute_result"
    }
   ],
   "source": [
    "depthist = dataFrames[\"[HumanResources].[EmployeeDepartmentHistory]\"]\n",
    "depthist.createOrReplaceTempView(\"depthist\")\n",
    "\n",
    "#select the last department for each employee\n",
    "depthist = spark.sql(\"\"\"\n",
    "select * from depthist\n",
    "where EndDate is null\n",
    "\"\"\")\n",
    "depthist=depthist.select(\"BusinessEntityID\", \"DepartmentID\")\\\n",
    "    .repartition(\"BusinessEntityID\", \"DepartmentID\")\\\n",
    "    .cache()\n",
    "depthist.createOrReplaceTempView(\"depthist\")\n",
    "depthist.columns"
   ]
  },
  {
   "cell_type": "code",
   "execution_count": 8,
   "id": "72ccbb73-09e3-492f-b174-7f67b4e1d39e",
   "metadata": {},
   "outputs": [
    {
     "data": {
      "text/plain": [
       "['DepartmentID', 'Name', 'GroupName']"
      ]
     },
     "execution_count": 8,
     "metadata": {},
     "output_type": "execute_result"
    }
   ],
   "source": [
    "dept = dataFrames[\"[HumanResources].[Department]\"]\\\n",
    "    .select('DepartmentID', 'Name', 'GroupName')\\\n",
    "    .repartition(4,\"DepartmentID\")\\\n",
    "    .cache()\n",
    "dept.createOrReplaceTempView(\"dept\")\n",
    "dept.columns"
   ]
  },
  {
   "cell_type": "code",
   "execution_count": 9,
   "id": "eb90c39f-4136-4a67-b30d-aeaf05465823",
   "metadata": {},
   "outputs": [
    {
     "data": {
      "text/plain": [
       "['BusinessEntityID',\n",
       " 'EmployeeName',\n",
       " 'PersonType',\n",
       " 'NameStyle',\n",
       " 'Title',\n",
       " 'Suffix',\n",
       " 'EmailPromotion',\n",
       " 'AdditionalContactInfo',\n",
       " 'Demographics']"
      ]
     },
     "execution_count": 9,
     "metadata": {},
     "output_type": "execute_result"
    }
   ],
   "source": [
    "person= dataFrames['[Person].[Person]'].withColumn(\"EmployeeName\", concat_ws(\" \", \"FirstName\",\"LastName\"))\n",
    "\n",
    "\n",
    "person= person.select('BusinessEntityID',\n",
    "     'EmployeeName',        \n",
    "     'PersonType',\n",
    "     'NameStyle',\n",
    "     'Title',\n",
    "     'Suffix',\n",
    "     'EmailPromotion',\n",
    "     'AdditionalContactInfo',\n",
    "     'Demographics')\\\n",
    "    .repartition(4,\"BusinessEntityID\")\\\n",
    "    .cache()\n",
    "\n",
    "person.createOrReplaceTempView(\"person\")\n",
    "person.columns"
   ]
  },
  {
   "cell_type": "code",
   "execution_count": 10,
   "id": "e956c168-b752-4ba3-b381-7161667ea092",
   "metadata": {},
   "outputs": [
    {
     "data": {
      "text/plain": [
       "['AddressID',\n",
       " 'AddressLine1',\n",
       " 'AddressLine2',\n",
       " 'City',\n",
       " 'StateProvinceID',\n",
       " 'PostalCode',\n",
       " 'SpatialLocation']"
      ]
     },
     "execution_count": 10,
     "metadata": {},
     "output_type": "execute_result"
    }
   ],
   "source": [
    "address = dataFrames[\"[Person].[Address]\"]\\\n",
    "    .select('AddressID',\n",
    "         'AddressLine1',\n",
    "         'AddressLine2',\n",
    "         'City',\n",
    "         'StateProvinceID',\n",
    "         'PostalCode',\n",
    "         'SpatialLocation')\\\n",
    "    .repartition(4,\"AddressID\")\\\n",
    "    .cache()\n",
    "address.createOrReplaceTempView(\"address\")\n",
    "address.columns"
   ]
  },
  {
   "cell_type": "code",
   "execution_count": 11,
   "id": "960b83de-3e9f-4033-aab6-aadde8a72840",
   "metadata": {},
   "outputs": [
    {
     "data": {
      "text/plain": [
       "['BusinessEntityID', 'AddressID']"
      ]
     },
     "execution_count": 11,
     "metadata": {},
     "output_type": "execute_result"
    }
   ],
   "source": [
    "entityAdd= dataFrames[\"[Person].[BusinessEntityAddress]\"]\\\n",
    "    .select('BusinessEntityID', 'AddressID')\\\n",
    "    .repartition(4,'BusinessEntityID', 'AddressID')\\\n",
    "    .cache()\n",
    "entityAdd.createOrReplaceTempView(\"entityAdd\")\n",
    "entityAdd.columns"
   ]
  },
  {
   "cell_type": "code",
   "execution_count": 12,
   "id": "3d1bdc00-7ff1-400a-9899-fb9ed3d3fc50",
   "metadata": {},
   "outputs": [
    {
     "data": {
      "text/plain": [
       "['StateProvinceID',\n",
       " 'StateProvinceCode',\n",
       " 'CountryRegionCode',\n",
       " 'IsOnlyStateProvinceFlag',\n",
       " 'stateName']"
      ]
     },
     "execution_count": 12,
     "metadata": {},
     "output_type": "execute_result"
    }
   ],
   "source": [
    "state = dataFrames[\"[Person].[StateProvince]\"]\\\n",
    "    .select('StateProvinceID',\n",
    "     'StateProvinceCode',\n",
    "     'CountryRegionCode',\n",
    "     'IsOnlyStateProvinceFlag',\n",
    "     expr('Name').alias(\"stateName\"))\\\n",
    "    .repartition(4,'StateProvinceID')\\\n",
    "    .cache()\n",
    "state.createOrReplaceTempView(\"state\")\n",
    "state.columns"
   ]
  },
  {
   "cell_type": "code",
   "execution_count": 13,
   "id": "a1324e4a-5d3e-496a-a149-ff48231d1d7c",
   "metadata": {},
   "outputs": [
    {
     "data": {
      "text/plain": [
       "[Table(name='dimdate', catalog='spark_catalog', namespace=['default'], description=None, tableType='MANAGED', isTemporary=False),\n",
       " Table(name='my_new_date_table', catalog='spark_catalog', namespace=['default'], description=None, tableType='MANAGED', isTemporary=False),\n",
       " Table(name='my_new_date_tablee', catalog='spark_catalog', namespace=['default'], description=None, tableType='MANAGED', isTemporary=False),\n",
       " Table(name='address', catalog=None, namespace=[], description=None, tableType='TEMPORARY', isTemporary=True),\n",
       " Table(name='dept', catalog=None, namespace=[], description=None, tableType='TEMPORARY', isTemporary=True),\n",
       " Table(name='depthist', catalog=None, namespace=[], description=None, tableType='TEMPORARY', isTemporary=True),\n",
       " Table(name='emp', catalog=None, namespace=[], description=None, tableType='TEMPORARY', isTemporary=True),\n",
       " Table(name='entityAdd', catalog=None, namespace=[], description=None, tableType='TEMPORARY', isTemporary=True),\n",
       " Table(name='person', catalog=None, namespace=[], description=None, tableType='TEMPORARY', isTemporary=True),\n",
       " Table(name='state', catalog=None, namespace=[], description=None, tableType='TEMPORARY', isTemporary=True)]"
      ]
     },
     "execution_count": 13,
     "metadata": {},
     "output_type": "execute_result"
    }
   ],
   "source": [
    "spark.catalog.listTables()"
   ]
  },
  {
   "cell_type": "code",
   "execution_count": 14,
   "id": "281881d8-57c6-4845-8b73-6d857e7cdea3",
   "metadata": {},
   "outputs": [
    {
     "data": {
      "text/plain": [
       "['BusinessEntityID',\n",
       " 'NationalIDNumber',\n",
       " 'LoginID',\n",
       " 'OrganizationNode',\n",
       " 'OrganizationLevel',\n",
       " 'JobTitle',\n",
       " 'BirthDate',\n",
       " 'MaritalStatus',\n",
       " 'Gender',\n",
       " 'HireDate',\n",
       " 'SalariedFlag',\n",
       " 'VacationHours',\n",
       " 'SickLeaveHours',\n",
       " 'CurrentFlag',\n",
       " 'BusinessEntityID',\n",
       " 'DepartmentID',\n",
       " 'DepartmentID',\n",
       " 'Name',\n",
       " 'GroupName',\n",
       " 'BusinessEntityID',\n",
       " 'EmployeeName',\n",
       " 'PersonType',\n",
       " 'NameStyle',\n",
       " 'Title',\n",
       " 'Suffix',\n",
       " 'EmailPromotion',\n",
       " 'AdditionalContactInfo',\n",
       " 'Demographics',\n",
       " 'BusinessEntityID',\n",
       " 'AddressID',\n",
       " 'AddressID',\n",
       " 'AddressLine1',\n",
       " 'AddressLine2',\n",
       " 'City',\n",
       " 'StateProvinceID',\n",
       " 'PostalCode',\n",
       " 'SpatialLocation',\n",
       " 'StateProvinceID',\n",
       " 'StateProvinceCode',\n",
       " 'CountryRegionCode',\n",
       " 'IsOnlyStateProvinceFlag',\n",
       " 'stateName']"
      ]
     },
     "execution_count": 14,
     "metadata": {},
     "output_type": "execute_result"
    }
   ],
   "source": [
    "DimEmployee = spark.sql(\"\"\"\n",
    "    select *\n",
    "    from emp e inner join depthist dh\n",
    "    on e.BusinessEntityID = dh.BusinessEntityID\n",
    "\n",
    "    inner join dept d\n",
    "    on dh.DepartmentID = d.DepartmentID\n",
    "\n",
    "    inner join person p\n",
    "    on e.BusinessEntityID =p.BusinessEntityID\n",
    "\n",
    "    inner join entityadd ea\n",
    "    on e.BusinessEntityID = ea.BusinessEntityID\n",
    "\n",
    "    inner join address add\n",
    "    on ea.AddressID = add.AddressID\n",
    "\n",
    "    inner join state s\n",
    "    on add.StateProvinceID = s.StateProvinceID\n",
    "\"\"\")\n",
    "DimEmployee.columns"
   ]
  },
  {
   "cell_type": "code",
   "execution_count": 15,
   "id": "91306f98-8d4e-4628-b8ce-5c7638462bca",
   "metadata": {},
   "outputs": [],
   "source": [
    "DimEmployee= DimEmployee.select(\n",
    " expr('e.BusinessEntityID').alias(\"EmployeeID\"),\n",
    " 'NationalIDNumber',\n",
    " 'LoginID',\n",
    " 'OrganizationNode',\n",
    " 'OrganizationLevel',\n",
    " 'JobTitle',\n",
    " 'BirthDate',\n",
    " 'MaritalStatus',\n",
    " 'Gender',\n",
    " 'HireDate',\n",
    " 'SalariedFlag',\n",
    " 'VacationHours',\n",
    " 'SickLeaveHours',\n",
    " 'CurrentFlag',\n",
    " 'Name',\n",
    " 'GroupName',\n",
    " 'EmployeeName',\n",
    " 'PersonType',\n",
    " 'NameStyle',\n",
    " 'Title',\n",
    " 'Suffix',\n",
    " 'EmailPromotion',\n",
    " 'AdditionalContactInfo',\n",
    " 'Demographics',\n",
    " 'AddressLine1',\n",
    " 'AddressLine2',\n",
    " 'City',\n",
    " 'PostalCode',\n",
    " 'SpatialLocation',\n",
    " 'StateProvinceCode',\n",
    " 'CountryRegionCode',\n",
    " 'IsOnlyStateProvinceFlag',\n",
    " 'stateName'\n",
    ")\n",
    "DimEmployee.count()\n",
    "DimEmployee= DimEmployee.repartition(2,\"EmployeeID\")\n",
    "DimEmployee.createOrReplaceTempView(\"DimEmployee\")"
   ]
  },
  {
   "cell_type": "code",
   "execution_count": 16,
   "id": "52b4872a-57fb-45cf-aeac-5ed02a308dfa",
   "metadata": {},
   "outputs": [
    {
     "name": "stdout",
     "output_type": "stream",
     "text": [
      "+--------------------------------+\n",
      "|count(DISTINCT BusinessEntityID)|\n",
      "+--------------------------------+\n",
      "|                             290|\n",
      "+--------------------------------+\n",
      "\n"
     ]
    }
   ],
   "source": [
    "spark.sql(\"select count(distinct BusinessEntityID) from emp\").show()"
   ]
  },
  {
   "cell_type": "code",
   "execution_count": 17,
   "id": "46856866-aff1-4fd8-9c24-baf9fd912a38",
   "metadata": {},
   "outputs": [
    {
     "data": {
      "text/plain": [
       "['EmployeeID',\n",
       " 'NationalIDNumber',\n",
       " 'LoginID',\n",
       " 'OrganizationNode',\n",
       " 'OrganizationLevel',\n",
       " 'JobTitle',\n",
       " 'BirthDate',\n",
       " 'MaritalStatus',\n",
       " 'Gender',\n",
       " 'HireDate',\n",
       " 'SalariedFlag',\n",
       " 'VacationHours',\n",
       " 'SickLeaveHours',\n",
       " 'CurrentFlag',\n",
       " 'Name',\n",
       " 'GroupName',\n",
       " 'EmployeeName',\n",
       " 'PersonType',\n",
       " 'NameStyle',\n",
       " 'Title',\n",
       " 'Suffix',\n",
       " 'EmailPromotion',\n",
       " 'AdditionalContactInfo',\n",
       " 'Demographics',\n",
       " 'AddressLine1',\n",
       " 'AddressLine2',\n",
       " 'City',\n",
       " 'PostalCode',\n",
       " 'SpatialLocation',\n",
       " 'StateProvinceCode',\n",
       " 'CountryRegionCode',\n",
       " 'IsOnlyStateProvinceFlag',\n",
       " 'stateName']"
      ]
     },
     "execution_count": 17,
     "metadata": {},
     "output_type": "execute_result"
    }
   ],
   "source": [
    "spark.sql(\"select * from DimEmployee\").columns"
   ]
  },
  {
   "cell_type": "code",
   "execution_count": 18,
   "id": "5ad51f65-49c4-46fc-b3a2-4fb51348b233",
   "metadata": {},
   "outputs": [],
   "source": [
    "DimEmployee.write.mode(\"overwrite\").saveAsTable(\"bronze.DimEmployee\")"
   ]
  },
  {
   "cell_type": "code",
   "execution_count": 19,
   "id": "958f80b1-f20c-4acc-b653-8d90a6e635eb",
   "metadata": {},
   "outputs": [
    {
     "name": "stdout",
     "output_type": "stream",
     "text": [
      "+-----------------+\n",
      "|        namespace|\n",
      "+-----------------+\n",
      "|           bronze|\n",
      "|bronzesalesschema|\n",
      "|          default|\n",
      "|      my_database|\n",
      "|            sales|\n",
      "|             test|\n",
      "+-----------------+\n",
      "\n"
     ]
    }
   ],
   "source": [
    "spark.sql(\"show databases;\").show()"
   ]
  },
  {
   "cell_type": "code",
   "execution_count": 20,
   "id": "1c492970-ee71-48df-9680-2499bb4b6bcd",
   "metadata": {},
   "outputs": [
    {
     "name": "stdout",
     "output_type": "stream",
     "text": [
      "++\n",
      "||\n",
      "++\n",
      "++\n",
      "\n"
     ]
    }
   ],
   "source": [
    "spark.sql(\"use bronzesalesschema\").show()"
   ]
  },
  {
   "cell_type": "code",
   "execution_count": 21,
   "id": "993a3913-7e05-4f67-9b05-2c245e272937",
   "metadata": {},
   "outputs": [
    {
     "name": "stdout",
     "output_type": "stream",
     "text": [
      "+-----------------+-----------+-----------+\n",
      "|        namespace|  tableName|isTemporary|\n",
      "+-----------------+-----------+-----------+\n",
      "|bronzesalesschema|dimcustomer|      false|\n",
      "|bronzesalesschema|    dimdate|      false|\n",
      "|                 |    address|       true|\n",
      "|                 |       dept|       true|\n",
      "|                 |   depthist|       true|\n",
      "|                 |dimemployee|       true|\n",
      "|                 |        emp|       true|\n",
      "|                 |  entityadd|       true|\n",
      "|                 |     person|       true|\n",
      "|                 |      state|       true|\n",
      "+-----------------+-----------+-----------+\n",
      "\n"
     ]
    }
   ],
   "source": [
    "spark.sql(\"show tables;\").show()"
   ]
  },
  {
   "cell_type": "code",
   "execution_count": 22,
   "id": "57895d09-263c-4df8-935f-f66b04285433",
   "metadata": {},
   "outputs": [
    {
     "data": {
      "text/plain": [
       "290"
      ]
     },
     "execution_count": 22,
     "metadata": {},
     "output_type": "execute_result"
    }
   ],
   "source": [
    "spark.sql(\"select * from dimemployee\").count()"
   ]
  },
  {
   "cell_type": "code",
   "execution_count": null,
   "id": "0fbad0fb-6998-42e1-ae80-918605e513d5",
   "metadata": {},
   "outputs": [],
   "source": []
  }
 ],
 "metadata": {
  "kernelspec": {
   "display_name": "Python 3 (ipykernel)",
   "language": "python",
   "name": "python3"
  },
  "language_info": {
   "codemirror_mode": {
    "name": "ipython",
    "version": 3
   },
   "file_extension": ".py",
   "mimetype": "text/x-python",
   "name": "python",
   "nbconvert_exporter": "python",
   "pygments_lexer": "ipython3",
   "version": "3.11.5"
  }
 },
 "nbformat": 4,
 "nbformat_minor": 5
}
