{
 "cells": [
  {
   "cell_type": "markdown",
   "id": "6a04886b-f7da-43f3-9f65-eabdb156d8e7",
   "metadata": {},
   "source": [
    "# \"Fact Table\"\n",
    "# Fact table built on the transactional level granularity"
   ]
  },
  {
   "cell_type": "code",
   "execution_count": 1,
   "id": "6efc3ab7-fc21-4595-bd72-1d138480bb83",
   "metadata": {},
   "outputs": [],
   "source": [
    "from pyspark.sql import SparkSession\n",
    "from pyspark.sql.functions import *"
   ]
  },
  {
   "cell_type": "code",
   "execution_count": 2,
   "id": "79cb5dfc-6f9e-4a5c-867d-9dfdbd302720",
   "metadata": {},
   "outputs": [],
   "source": [
    "from pyspark.sql import SparkSession\n",
    "\n",
    "# Initialize a Spark session\n",
    "spark = SparkSession.builder \\\n",
    "    .appName(\"SampleDataToHive\") \\\n",
    "    .config(\"hive.metastore.uris\", \"thrift://hive-metastore:9083\") \\\n",
    "    .config(\"spark.jars\", \"/Drivers/SQL_Sever/jdbc/sqljdbc42.jar\")\\\n",
    "    .enableHiveSupport() \\\n",
    "    .getOrCreate()\n"
   ]
  },
  {
   "cell_type": "code",
   "execution_count": 3,
   "id": "f5186d05-50d1-4c46-9422-77de4e871fab",
   "metadata": {},
   "outputs": [
    {
     "name": "stdout",
     "output_type": "stream",
     "text": [
      "5  tables\n"
     ]
    }
   ],
   "source": [
    "Tables = [\"[Sales].[SalesOrderHeader]\", \"[Sales].[SalesOrderDetail]\", \"[Sales].[Customer]\", \"[Production].[Product]\", \"[HumanResources].[Employee]\"] \n",
    "print(len(Tables), \" tables\")"
   ]
  },
  {
   "cell_type": "code",
   "execution_count": 4,
   "id": "8631f196-6845-421d-81a7-bff390c9a39b",
   "metadata": {},
   "outputs": [
    {
     "name": "stdout",
     "output_type": "stream",
     "text": [
      "dict_keys(['[Sales].[SalesOrderHeader]', '[Sales].[SalesOrderDetail]', '[Sales].[Customer]', '[Production].[Product]', '[HumanResources].[Employee]'])\n"
     ]
    }
   ],
   "source": [
    "dataFrames= {}\n",
    "for table in Tables:\n",
    "    query = f\"select * from {table}\"\n",
    "    df =spark.read.format(\"jdbc\")\\\n",
    "        .option(\"url\", \"jdbc:sqlserver://172.18.0.4:1433;databaseName=AdventureWorks2017\")\\\n",
    "        .option(\"driver\", \"com.microsoft.sqlserver.jdbc.SQLServerDriver\")\\\n",
    "        .option(\"dbtable\", f\"({query}) as temp\")\\\n",
    "        .option(\"user\",\"sa\")\\\n",
    "        .option(\"password\", \"Mo*012105\")\\\n",
    "        .load()\n",
    "    dataFrames[table] = df\n",
    "print(dataFrames.keys())"
   ]
  },
  {
   "cell_type": "markdown",
   "id": "6f05b614-7d73-49b5-84e4-ccff79506947",
   "metadata": {},
   "source": [
    "# SalesOrderHeader is a transactional table"
   ]
  },
  {
   "cell_type": "code",
   "execution_count": 5,
   "id": "79814e8b-5bb3-4266-bd78-9e6372b4744b",
   "metadata": {},
   "outputs": [
    {
     "data": {
      "text/plain": [
       "['SalesOrderID',\n",
       " 'RevisionNumber',\n",
       " 'OrderDate',\n",
       " 'DueDate',\n",
       " 'ShipDate',\n",
       " 'Status',\n",
       " 'OnlineOrderFlag',\n",
       " 'SalesOrderNumber',\n",
       " 'PurchaseOrderNumber',\n",
       " 'AccountNumber',\n",
       " 'CustomerID',\n",
       " 'SalesPersonID',\n",
       " 'TerritoryID',\n",
       " 'CreditCardApprovalCode',\n",
       " 'SubTotal',\n",
       " 'TaxAmt',\n",
       " 'Freight',\n",
       " 'TotalDue',\n",
       " 'Comment']"
      ]
     },
     "execution_count": 5,
     "metadata": {},
     "output_type": "execute_result"
    }
   ],
   "source": [
    "SalesOrderHeader = dataFrames[\"[Sales].[SalesOrderHeader]\"]\\\n",
    "    .select(\n",
    "        'SalesOrderID',\n",
    "         'RevisionNumber',\n",
    "         'OrderDate',\n",
    "         'DueDate',\n",
    "         'ShipDate',\n",
    "         'Status',\n",
    "         'OnlineOrderFlag',\n",
    "         'SalesOrderNumber',\n",
    "         'PurchaseOrderNumber',\n",
    "         'AccountNumber',\n",
    "         'CustomerID',\n",
    "         'SalesPersonID',\n",
    "         'TerritoryID',\n",
    "         'CreditCardApprovalCode',\n",
    "         'SubTotal',\n",
    "         'TaxAmt',\n",
    "         'Freight',\n",
    "         'TotalDue',\n",
    "         'Comment')\\\n",
    "    .repartition(4, 'SalesOrderID', 'CustomerID', 'SalesPersonID')\\\n",
    "    .cache()\n",
    "SalesOrderHeader.createOrReplaceTempView(\"SalesOrderHeader\")\n",
    "SalesOrderHeader.columns"
   ]
  },
  {
   "cell_type": "markdown",
   "id": "90f0740a-6fce-42d5-bacc-81eab658e420",
   "metadata": {},
   "source": [
    "# details about transactions"
   ]
  },
  {
   "cell_type": "code",
   "execution_count": 6,
   "id": "2d593ccd-3ab5-43ba-b854-b32b2b4be37b",
   "metadata": {},
   "outputs": [
    {
     "data": {
      "text/plain": [
       "['SalesOrderID',\n",
       " 'SalesOrderDetailID',\n",
       " 'CarrierTrackingNumber',\n",
       " 'OrderQty',\n",
       " 'ProductID',\n",
       " 'UnitPrice',\n",
       " 'UnitPriceDiscount',\n",
       " 'LineTotal']"
      ]
     },
     "execution_count": 6,
     "metadata": {},
     "output_type": "execute_result"
    }
   ],
   "source": [
    "SalesOrderDetail = dataFrames[\"[Sales].[SalesOrderDetail]\"]\\\n",
    "    .select(\n",
    "        'SalesOrderID',\n",
    "         'SalesOrderDetailID',\n",
    "         'CarrierTrackingNumber',\n",
    "         'OrderQty',\n",
    "         'ProductID',\n",
    "         'UnitPrice',\n",
    "         'UnitPriceDiscount',\n",
    "         'LineTotal')\\\n",
    "    .repartition(4,'SalesOrderID', 'SalesOrderDetailID','ProductID')\\\n",
    "    .cache()\n",
    "SalesOrderDetail.createOrReplaceTempView(\"SalesOrderDetail\")\n",
    "SalesOrderDetail.columns"
   ]
  },
  {
   "cell_type": "code",
   "execution_count": 7,
   "id": "1767c647-cda5-4485-9e11-2737800f678b",
   "metadata": {},
   "outputs": [
    {
     "data": {
      "text/plain": [
       "19820"
      ]
     },
     "execution_count": 7,
     "metadata": {},
     "output_type": "execute_result"
    }
   ],
   "source": [
    "customer = dataFrames['[Sales].[Customer]']\\\n",
    "    .select('CustomerID',\n",
    "             'PersonID',\n",
    "             'StoreID',\n",
    "             'TerritoryID',\n",
    "             'AccountNumber')\\\n",
    "    .repartition(4, \"CustomerID\")\\\n",
    "    .cache()\n",
    "customer.createOrReplaceTempView(\"customer\")\n",
    "customer.count()"
   ]
  },
  {
   "cell_type": "code",
   "execution_count": 8,
   "id": "e735de09-1106-495a-aa5f-a21dc2ebd493",
   "metadata": {},
   "outputs": [
    {
     "data": {
      "text/plain": [
       "290"
      ]
     },
     "execution_count": 8,
     "metadata": {},
     "output_type": "execute_result"
    }
   ],
   "source": [
    "emp = dataFrames[\"[HumanResources].[Employee]\"]\\\n",
    "    .select('BusinessEntityID',\n",
    "             'NationalIDNumber',\n",
    "             'LoginID',\n",
    "             'OrganizationNode',\n",
    "             'OrganizationLevel',\n",
    "             'JobTitle',\n",
    "             'BirthDate',\n",
    "             'MaritalStatus',\n",
    "             'Gender',\n",
    "             'HireDate',\n",
    "             'SalariedFlag',\n",
    "             'VacationHours',\n",
    "             'SickLeaveHours',\n",
    "             'CurrentFlag')\n",
    "emp.repartition(4, \"BusinessEntityID\").cache()\n",
    "emp.createOrReplaceTempView(\"emp\")\n",
    "emp.count()"
   ]
  },
  {
   "cell_type": "code",
   "execution_count": 9,
   "id": "4d87c799-5438-4578-bd46-d4cca78ead38",
   "metadata": {},
   "outputs": [
    {
     "data": {
      "text/plain": [
       "504"
      ]
     },
     "execution_count": 9,
     "metadata": {},
     "output_type": "execute_result"
    }
   ],
   "source": [
    "product = dataFrames[\"[Production].[Product]\"]\\\n",
    "    .select('ProductID',\n",
    "         expr('Name').alias(\"productName\"),\n",
    "         'ProductNumber',\n",
    "         'MakeFlag',\n",
    "         'FinishedGoodsFlag',\n",
    "         'Color',\n",
    "         'SafetyStockLevel',\n",
    "         'ReorderPoint',\n",
    "         'StandardCost',\n",
    "         'ListPrice',\n",
    "         'Size',\n",
    "         'SizeUnitMeasureCode',\n",
    "         'WeightUnitMeasureCode',\n",
    "         'Weight',\n",
    "         'DaysToManufacture',\n",
    "         'ProductLine',\n",
    "         'Class',\n",
    "         'Style',\n",
    "         'ProductSubcategoryID',\n",
    "         'ProductModelID',\n",
    "         'SellStartDate',\n",
    "         'SellEndDate',\n",
    "         'DiscontinuedDate')\\\n",
    "    .repartition(4,'ProductID')\\\n",
    "    .cache()\n",
    "product.createOrReplaceTempView(\"product\")\n",
    "product.count()"
   ]
  },
  {
   "cell_type": "code",
   "execution_count": 10,
   "id": "2eee4a38-4f31-47db-9f12-4b5459e6c062",
   "metadata": {},
   "outputs": [
    {
     "data": {
      "text/plain": [
       "[Table(name='dimdate', catalog='spark_catalog', namespace=['default'], description=None, tableType='MANAGED', isTemporary=False),\n",
       " Table(name='my_new_date_table', catalog='spark_catalog', namespace=['default'], description=None, tableType='MANAGED', isTemporary=False),\n",
       " Table(name='my_new_date_tablee', catalog='spark_catalog', namespace=['default'], description=None, tableType='MANAGED', isTemporary=False),\n",
       " Table(name='customer', catalog=None, namespace=[], description=None, tableType='TEMPORARY', isTemporary=True),\n",
       " Table(name='emp', catalog=None, namespace=[], description=None, tableType='TEMPORARY', isTemporary=True),\n",
       " Table(name='product', catalog=None, namespace=[], description=None, tableType='TEMPORARY', isTemporary=True),\n",
       " Table(name='SalesOrderDetail', catalog=None, namespace=[], description=None, tableType='TEMPORARY', isTemporary=True),\n",
       " Table(name='SalesOrderHeader', catalog=None, namespace=[], description=None, tableType='TEMPORARY', isTemporary=True)]"
      ]
     },
     "execution_count": 10,
     "metadata": {},
     "output_type": "execute_result"
    }
   ],
   "source": [
    "spark.catalog.listTables()"
   ]
  },
  {
   "cell_type": "code",
   "execution_count": 11,
   "id": "b3f5756d-6378-401c-9064-714382167323",
   "metadata": {},
   "outputs": [],
   "source": [
    "FactSales= spark.sql(\"\"\"\n",
    "    select soh.*, sod.*\n",
    "    from SalesOrderHeader soh inner join SalesOrderDetail sod\n",
    "    on soh.SalesOrderID = sod.SalesOrderID\n",
    "    \n",
    "    inner join product p\n",
    "    on sod.ProductID = p.ProductID\n",
    "    \n",
    "    inner join customer c\n",
    "    on soh.CustomerID = c.CustomerID\n",
    "    \n",
    "    inner join emp \n",
    "    on soh.SalesPersonID = emp.BusinessEntityID\n",
    "\n",
    "\"\"\")"
   ]
  },
  {
   "cell_type": "code",
   "execution_count": 12,
   "id": "a6cfa6eb-48de-4632-ae90-41082693b5ee",
   "metadata": {},
   "outputs": [
    {
     "data": {
      "text/plain": [
       "['SalesOrderID',\n",
       " 'CustomerKey',\n",
       " 'EmployeeKey',\n",
       " 'ProductKey',\n",
       " 'RevisionNumber',\n",
       " 'OrderQty',\n",
       " 'UnitPrice',\n",
       " 'UnitPriceDiscount',\n",
       " 'SubTotal',\n",
       " 'TaxAmt',\n",
       " 'Freight',\n",
       " 'TotalDue',\n",
       " 'OrderDate',\n",
       " 'DueDate',\n",
       " 'ShipDate',\n",
       " 'Status',\n",
       " 'OnlineOrderFlag',\n",
       " 'SalesOrderNumber',\n",
       " 'PurchaseOrderNumber',\n",
       " 'AccountNumber',\n",
       " 'CreditCardApprovalCode',\n",
       " 'Comment',\n",
       " 'CarrierTrackingNumber',\n",
       " 'LineTotal']"
      ]
     },
     "execution_count": 12,
     "metadata": {},
     "output_type": "execute_result"
    }
   ],
   "source": [
    "FactSales = FactSales.select(\n",
    "             'soh.SalesOrderID',\n",
    "             expr('CustomerID').alias(\"CustomerKey\"),\n",
    "             expr('SalesPersonID').alias(\"EmployeeKey\"),\n",
    "             expr('ProductID').alias(\"ProductKey\"),\n",
    "             'RevisionNumber',\n",
    "             'OrderQty',\n",
    "             'UnitPrice',\n",
    "             'UnitPriceDiscount',\n",
    "             'SubTotal',\n",
    "             'TaxAmt',\n",
    "             'Freight',\n",
    "             'TotalDue',\n",
    "             'OrderDate',\n",
    "             'DueDate',\n",
    "             'ShipDate',\n",
    "             'Status',\n",
    "             'OnlineOrderFlag',\n",
    "             'SalesOrderNumber',\n",
    "             'PurchaseOrderNumber',\n",
    "             'AccountNumber',\n",
    "             'CreditCardApprovalCode',\n",
    "             'Comment',\n",
    "             'CarrierTrackingNumber',\n",
    "             'LineTotal')\\\n",
    "            .repartition(4,'SalesOrderID', 'CustomerKey', 'EmployeeKey', 'ProductKey')\\\n",
    "            .cache()\n",
    "FactSales.createOrReplaceTempView(\"FactSales\")\n",
    "FactSales.columns"
   ]
  },
  {
   "cell_type": "code",
   "execution_count": 13,
   "id": "fd0f9c2d-4523-4725-b375-1671784e76ba",
   "metadata": {},
   "outputs": [
    {
     "data": {
      "text/plain": [
       "'FactSales.write        .mode(\"overwrite\")        .partitionBy(\\'SalesOrderID\\',\\n                     \\'CustomerKey\\',\\n                     \\'EmployeeKey\\',\\n                     \\'ProductKey\\')        .saveAsTable(\"SalesSchema.FactSales\")'"
      ]
     },
     "execution_count": 13,
     "metadata": {},
     "output_type": "execute_result"
    }
   ],
   "source": [
    "'''FactSales.write\\\n",
    "        .mode(\"overwrite\")\\\n",
    "        .partitionBy('SalesOrderID',\n",
    "                     'CustomerKey',\n",
    "                     'EmployeeKey',\n",
    "                     'ProductKey')\\\n",
    "        .saveAsTable(\"SalesSchema.FactSales\")'''"
   ]
  },
  {
   "cell_type": "code",
   "execution_count": 14,
   "id": "8fa6b054-2661-45f6-beb8-03e6055d03db",
   "metadata": {},
   "outputs": [],
   "source": [
    "FactSales.write\\\n",
    "        .format(\"hive\")\\\n",
    "        .mode(\"overwrite\")\\\n",
    "        .saveAsTable(\"bronze.FactSales\")"
   ]
  },
  {
   "cell_type": "code",
   "execution_count": 15,
   "id": "0b789124-9b14-4c07-ba3b-5766fcfdee7c",
   "metadata": {},
   "outputs": [
    {
     "data": {
      "text/plain": [
       "60919"
      ]
     },
     "execution_count": 15,
     "metadata": {},
     "output_type": "execute_result"
    }
   ],
   "source": [
    "spark.sql(\"select SalesOrderID from factSales\").count()"
   ]
  },
  {
   "cell_type": "code",
   "execution_count": 16,
   "id": "a0596f26-a883-4ddd-89ef-39c697e881be",
   "metadata": {},
   "outputs": [
    {
     "name": "stdout",
     "output_type": "stream",
     "text": [
      "+-----------------+\n",
      "|        namespace|\n",
      "+-----------------+\n",
      "|           bronze|\n",
      "|bronzesalesschema|\n",
      "|          default|\n",
      "|      my_database|\n",
      "|            sales|\n",
      "|             test|\n",
      "+-----------------+\n",
      "\n"
     ]
    }
   ],
   "source": [
    "spark.sql(\"show databases;\").show()"
   ]
  },
  {
   "cell_type": "code",
   "execution_count": 17,
   "id": "b754af2e-d3cc-4de2-b2f0-7dd208a98c3a",
   "metadata": {},
   "outputs": [
    {
     "name": "stdout",
     "output_type": "stream",
     "text": [
      "+---------+------------------+-----------+\n",
      "|namespace|         tableName|isTemporary|\n",
      "+---------+------------------+-----------+\n",
      "|  default|           dimdate|      false|\n",
      "|  default| my_new_date_table|      false|\n",
      "|  default|my_new_date_tablee|      false|\n",
      "|         |          customer|       true|\n",
      "|         |               emp|       true|\n",
      "|         |         factsales|       true|\n",
      "|         |           product|       true|\n",
      "|         |  salesorderdetail|       true|\n",
      "|         |  salesorderheader|       true|\n",
      "+---------+------------------+-----------+\n",
      "\n"
     ]
    }
   ],
   "source": [
    "spark.sql(\"show tables;\").show()"
   ]
  },
  {
   "cell_type": "code",
   "execution_count": 18,
   "id": "640ee13e-2a52-4191-b450-456501072f5b",
   "metadata": {},
   "outputs": [
    {
     "name": "stdout",
     "output_type": "stream",
     "text": [
      "++\n",
      "||\n",
      "++\n",
      "++\n",
      "\n"
     ]
    }
   ],
   "source": [
    "spark.sql(\"use bronzesalesschema;\").show()"
   ]
  },
  {
   "cell_type": "code",
   "execution_count": 19,
   "id": "0bd99f74-171c-423b-b9ca-46eca336ffd8",
   "metadata": {},
   "outputs": [
    {
     "name": "stdout",
     "output_type": "stream",
     "text": [
      "+-----------------+----------------+-----------+\n",
      "|        namespace|       tableName|isTemporary|\n",
      "+-----------------+----------------+-----------+\n",
      "|bronzesalesschema|     dimcustomer|      false|\n",
      "|bronzesalesschema|         dimdate|      false|\n",
      "|                 |        customer|       true|\n",
      "|                 |             emp|       true|\n",
      "|                 |       factsales|       true|\n",
      "|                 |         product|       true|\n",
      "|                 |salesorderdetail|       true|\n",
      "|                 |salesorderheader|       true|\n",
      "+-----------------+----------------+-----------+\n",
      "\n"
     ]
    }
   ],
   "source": [
    "spark.sql(\"show tables;\").show()"
   ]
  },
  {
   "cell_type": "code",
   "execution_count": 20,
   "id": "47c175c3-569d-48bf-a667-36853c4f63be",
   "metadata": {},
   "outputs": [
    {
     "ename": "AnalysisException",
     "evalue": "[TABLE_OR_VIEW_NOT_FOUND] The table or view `dimemployee` cannot be found. Verify the spelling and correctness of the schema and catalog.\nIf you did not qualify the name with a schema, verify the current_schema() output, or qualify the name with the correct schema and catalog.\nTo tolerate the error on drop use DROP VIEW IF EXISTS or DROP TABLE IF EXISTS.; line 3 pos 5;\n'Aggregate ['dimemployee.employeeid], ['dimemployee.employeeid, 'sum('factsales.UnitPrice) AS totalsales#4157]\n+- 'Join Inner, ('dimemployee.employeeid = 'factsales.employeekey)\n   :- 'UnresolvedRelation [dimemployee], [], false\n   +- SubqueryAlias factsales\n      +- View (`FactSales`, [SalesOrderID#0,CustomerKey#1406,EmployeeKey#1407,ProductKey#1408,RevisionNumber#1,OrderQty#56,UnitPrice#59,UnitPriceDiscount#60,SubTotal#19,TaxAmt#20,Freight#21,TotalDue#22,OrderDate#2,DueDate#3,ShipDate#4,Status#5,OnlineOrderFlag#6,SalesOrderNumber#7,PurchaseOrderNumber#8,AccountNumber#9,CreditCardApprovalCode#17,Comment#23,CarrierTrackingNumber#55,LineTotal#61])\n         +- RepartitionByExpression [SalesOrderID#0, CustomerKey#1406, EmployeeKey#1407, ProductKey#1408], 4\n            +- Project [SalesOrderID#0, CustomerID#10 AS CustomerKey#1406, SalesPersonID#11 AS EmployeeKey#1407, ProductID#57 AS ProductKey#1408, RevisionNumber#1, OrderQty#56, UnitPrice#59, UnitPriceDiscount#60, SubTotal#19, TaxAmt#20, Freight#21, TotalDue#22, OrderDate#2, DueDate#3, ShipDate#4, Status#5, OnlineOrderFlag#6, SalesOrderNumber#7, PurchaseOrderNumber#8, AccountNumber#9, CreditCardApprovalCode#17, Comment#23, CarrierTrackingNumber#55, LineTotal#61]\n               +- Project [SalesOrderID#0, RevisionNumber#1, OrderDate#2, DueDate#3, ShipDate#4, Status#5, OnlineOrderFlag#6, SalesOrderNumber#7, PurchaseOrderNumber#8, AccountNumber#9, CustomerID#10, SalesPersonID#11, TerritoryID#12, CreditCardApprovalCode#17, SubTotal#19, TaxAmt#20, Freight#21, TotalDue#22, Comment#23, SalesOrderID#53, SalesOrderDetailID#54, CarrierTrackingNumber#55, OrderQty#56, ProductID#57, ... 3 more fields]\n                  +- Join Inner, (SalesPersonID#11 = BusinessEntityID#142)\n                     :- Join Inner, (CustomerID#10 = CustomerID#76)\n                     :  :- Join Inner, (ProductID#57 = ProductID#91)\n                     :  :  :- Join Inner, (SalesOrderID#0 = SalesOrderID#53)\n                     :  :  :  :- SubqueryAlias soh\n                     :  :  :  :  +- SubqueryAlias salesorderheader\n                     :  :  :  :     +- View (`SalesOrderHeader`, [SalesOrderID#0,RevisionNumber#1,OrderDate#2,DueDate#3,ShipDate#4,Status#5,OnlineOrderFlag#6,SalesOrderNumber#7,PurchaseOrderNumber#8,AccountNumber#9,CustomerID#10,SalesPersonID#11,TerritoryID#12,CreditCardApprovalCode#17,SubTotal#19,TaxAmt#20,Freight#21,TotalDue#22,Comment#23])\n                     :  :  :  :        +- RepartitionByExpression [SalesOrderID#0, CustomerID#10, SalesPersonID#11], 4\n                     :  :  :  :           +- Project [SalesOrderID#0, RevisionNumber#1, OrderDate#2, DueDate#3, ShipDate#4, Status#5, OnlineOrderFlag#6, SalesOrderNumber#7, PurchaseOrderNumber#8, AccountNumber#9, CustomerID#10, SalesPersonID#11, TerritoryID#12, CreditCardApprovalCode#17, SubTotal#19, TaxAmt#20, Freight#21, TotalDue#22, Comment#23]\n                     :  :  :  :              +- Project [SalesOrderID#0, RevisionNumber#1, OrderDate#2, DueDate#3, ShipDate#4, Status#5, OnlineOrderFlag#6, SalesOrderNumber#7, PurchaseOrderNumber#8, AccountNumber#9, CustomerID#10, SalesPersonID#11, TerritoryID#12, BillToAddressID#13, ShipToAddressID#14, ShipMethodID#15, CreditCardID#16, CreditCardApprovalCode#17, CurrencyRateID#18, SubTotal#19, TaxAmt#20, Freight#21, TotalDue#22, Comment#23, ... 2 more fields]\n                     :  :  :  :                 +- Relation [SalesOrderID#0,RevisionNumber#1,OrderDate#2,DueDate#3,ShipDate#4,Status#5,OnlineOrderFlag#6,SalesOrderNumber#7,PurchaseOrderNumber#8,AccountNumber#9,CustomerID#10,SalesPersonID#11,TerritoryID#12,BillToAddressID#13,ShipToAddressID#14,ShipMethodID#15,CreditCardID#16,CreditCardApprovalCode#17,CurrencyRateID#18,SubTotal#19,TaxAmt#20,Freight#21,TotalDue#22,Comment#23,... 2 more fields] JDBCRelation((select * from [Sales].[SalesOrderHeader]) as temp) [numPartitions=1]\n                     :  :  :  +- SubqueryAlias sod\n                     :  :  :     +- SubqueryAlias salesorderdetail\n                     :  :  :        +- View (`SalesOrderDetail`, [SalesOrderID#53,SalesOrderDetailID#54,CarrierTrackingNumber#55,OrderQty#56,ProductID#57,UnitPrice#59,UnitPriceDiscount#60,LineTotal#61])\n                     :  :  :           +- RepartitionByExpression [SalesOrderID#53, SalesOrderDetailID#54, ProductID#57], 4\n                     :  :  :              +- Project [SalesOrderID#53, SalesOrderDetailID#54, CarrierTrackingNumber#55, OrderQty#56, ProductID#57, UnitPrice#59, UnitPriceDiscount#60, LineTotal#61]\n                     :  :  :                 +- Project [SalesOrderID#53, SalesOrderDetailID#54, CarrierTrackingNumber#55, OrderQty#56, ProductID#57, SpecialOfferID#58, UnitPrice#59, UnitPriceDiscount#60, LineTotal#61, staticinvoke(class org.apache.spark.sql.catalyst.util.CharVarcharCodegenUtils, StringType, readSidePadding, rowguid#62, 36, true, false, true) AS rowguid#64, ModifiedDate#63]\n                     :  :  :                    +- Relation [SalesOrderID#53,SalesOrderDetailID#54,CarrierTrackingNumber#55,OrderQty#56,ProductID#57,SpecialOfferID#58,UnitPrice#59,UnitPriceDiscount#60,LineTotal#61,rowguid#62,ModifiedDate#63] JDBCRelation((select * from [Sales].[SalesOrderDetail]) as temp) [numPartitions=1]\n                     :  :  +- SubqueryAlias p\n                     :  :     +- SubqueryAlias product\n                     :  :        +- View (`product`, [ProductID#91,productName#605,ProductNumber#93,MakeFlag#94,FinishedGoodsFlag#95,Color#96,SafetyStockLevel#97,ReorderPoint#98,StandardCost#99,ListPrice#100,Size#101,SizeUnitMeasureCode#102,WeightUnitMeasureCode#103,Weight#104,DaysToManufacture#105,ProductLine#106,Class#107,Style#108,ProductSubcategoryID#109,ProductModelID#110,SellStartDate#111,SellEndDate#112,DiscontinuedDate#113])\n                     :  :           +- RepartitionByExpression [ProductID#91], 4\n                     :  :              +- Project [ProductID#91, Name#92 AS productName#605, ProductNumber#93, MakeFlag#94, FinishedGoodsFlag#95, Color#96, SafetyStockLevel#97, ReorderPoint#98, StandardCost#99, ListPrice#100, Size#101, SizeUnitMeasureCode#102, WeightUnitMeasureCode#103, Weight#104, DaysToManufacture#105, ProductLine#106, Class#107, Style#108, ProductSubcategoryID#109, ProductModelID#110, SellStartDate#111, SellEndDate#112, DiscontinuedDate#113]\n                     :  :                 +- Project [ProductID#91, Name#92, ProductNumber#93, MakeFlag#94, FinishedGoodsFlag#95, Color#96, SafetyStockLevel#97, ReorderPoint#98, StandardCost#99, ListPrice#100, Size#101, SizeUnitMeasureCode#102, WeightUnitMeasureCode#103, Weight#104, DaysToManufacture#105, ProductLine#106, Class#107, Style#108, ProductSubcategoryID#109, ProductModelID#110, SellStartDate#111, SellEndDate#112, DiscontinuedDate#113, staticinvoke(class org.apache.spark.sql.catalyst.util.CharVarcharCodegenUtils, StringType, readSidePadding, rowguid#114, 36, true, false, true) AS rowguid#116, ModifiedDate#115]\n                     :  :                    +- Relation [ProductID#91,Name#92,ProductNumber#93,MakeFlag#94,FinishedGoodsFlag#95,Color#96,SafetyStockLevel#97,ReorderPoint#98,StandardCost#99,ListPrice#100,Size#101,SizeUnitMeasureCode#102,WeightUnitMeasureCode#103,Weight#104,DaysToManufacture#105,ProductLine#106,Class#107,Style#108,ProductSubcategoryID#109,ProductModelID#110,SellStartDate#111,SellEndDate#112,DiscontinuedDate#113,rowguid#114,ModifiedDate#115] JDBCRelation((select * from [Production].[Product]) as temp) [numPartitions=1]\n                     :  +- SubqueryAlias c\n                     :     +- SubqueryAlias customer\n                     :        +- View (`customer`, [CustomerID#76,PersonID#77,StoreID#78,TerritoryID#79,AccountNumber#80])\n                     :           +- RepartitionByExpression [CustomerID#76], 4\n                     :              +- Project [CustomerID#76, PersonID#77, StoreID#78, TerritoryID#79, AccountNumber#80]\n                     :                 +- Project [CustomerID#76, PersonID#77, StoreID#78, TerritoryID#79, AccountNumber#80, staticinvoke(class org.apache.spark.sql.catalyst.util.CharVarcharCodegenUtils, StringType, readSidePadding, rowguid#81, 36, true, false, true) AS rowguid#83, ModifiedDate#82]\n                     :                    +- Relation [CustomerID#76,PersonID#77,StoreID#78,TerritoryID#79,AccountNumber#80,rowguid#81,ModifiedDate#82] JDBCRelation((select * from [Sales].[Customer]) as temp) [numPartitions=1]\n                     +- SubqueryAlias emp\n                        +- View (`emp`, [BusinessEntityID#142,NationalIDNumber#143,LoginID#144,OrganizationNode#145,OrganizationLevel#146,JobTitle#147,BirthDate#148,MaritalStatus#149,Gender#150,HireDate#151,SalariedFlag#152,VacationHours#153,SickLeaveHours#154,CurrentFlag#155])\n                           +- Project [BusinessEntityID#142, NationalIDNumber#143, LoginID#144, OrganizationNode#145, OrganizationLevel#146, JobTitle#147, BirthDate#148, MaritalStatus#149, Gender#150, HireDate#151, SalariedFlag#152, VacationHours#153, SickLeaveHours#154, CurrentFlag#155]\n                              +- Project [BusinessEntityID#142, NationalIDNumber#143, LoginID#144, OrganizationNode#145, OrganizationLevel#146, JobTitle#147, BirthDate#148, MaritalStatus#149, Gender#150, HireDate#151, SalariedFlag#152, VacationHours#153, SickLeaveHours#154, CurrentFlag#155, staticinvoke(class org.apache.spark.sql.catalyst.util.CharVarcharCodegenUtils, StringType, readSidePadding, rowguid#156, 36, true, false, true) AS rowguid#158, ModifiedDate#157]\n                                 +- Relation [BusinessEntityID#142,NationalIDNumber#143,LoginID#144,OrganizationNode#145,OrganizationLevel#146,JobTitle#147,BirthDate#148,MaritalStatus#149,Gender#150,HireDate#151,SalariedFlag#152,VacationHours#153,SickLeaveHours#154,CurrentFlag#155,rowguid#156,ModifiedDate#157] JDBCRelation((select * from [HumanResources].[Employee]) as temp) [numPartitions=1]\n",
     "output_type": "error",
     "traceback": [
      "\u001b[0;31m---------------------------------------------------------------------------\u001b[0m",
      "\u001b[0;31mAnalysisException\u001b[0m                         Traceback (most recent call last)",
      "Cell \u001b[0;32mIn[20], line 1\u001b[0m\n\u001b[0;32m----> 1\u001b[0m \u001b[43mspark\u001b[49m\u001b[38;5;241;43m.\u001b[39;49m\u001b[43msql\u001b[49m\u001b[43m(\u001b[49m\u001b[38;5;124;43m'''\u001b[39;49m\n\u001b[1;32m      2\u001b[0m \u001b[38;5;124;43mselect dimemployee.employeeid, sum(factsales.UnitPrice) as totalsales \u001b[39;49m\n\u001b[1;32m      3\u001b[0m \u001b[38;5;124;43mfrom dimemployee \u001b[39;49m\n\u001b[1;32m      4\u001b[0m \u001b[38;5;124;43minner join factsales on dimemployee.employeeid = factsales.employeekey\u001b[39;49m\n\u001b[1;32m      5\u001b[0m \u001b[38;5;124;43mgroup by dimemployee.employeeid;\u001b[39;49m\n\u001b[1;32m      6\u001b[0m \u001b[38;5;124;43m'''\u001b[39;49m\u001b[43m)\u001b[49m\u001b[38;5;241m.\u001b[39mshow()\n",
      "File \u001b[0;32m/usr/local/spark/python/pyspark/sql/session.py:1631\u001b[0m, in \u001b[0;36mSparkSession.sql\u001b[0;34m(self, sqlQuery, args, **kwargs)\u001b[0m\n\u001b[1;32m   1627\u001b[0m         \u001b[38;5;28;01massert\u001b[39;00m \u001b[38;5;28mself\u001b[39m\u001b[38;5;241m.\u001b[39m_jvm \u001b[38;5;129;01mis\u001b[39;00m \u001b[38;5;129;01mnot\u001b[39;00m \u001b[38;5;28;01mNone\u001b[39;00m\n\u001b[1;32m   1628\u001b[0m         litArgs \u001b[38;5;241m=\u001b[39m \u001b[38;5;28mself\u001b[39m\u001b[38;5;241m.\u001b[39m_jvm\u001b[38;5;241m.\u001b[39mPythonUtils\u001b[38;5;241m.\u001b[39mtoArray(\n\u001b[1;32m   1629\u001b[0m             [_to_java_column(lit(v)) \u001b[38;5;28;01mfor\u001b[39;00m v \u001b[38;5;129;01min\u001b[39;00m (args \u001b[38;5;129;01mor\u001b[39;00m [])]\n\u001b[1;32m   1630\u001b[0m         )\n\u001b[0;32m-> 1631\u001b[0m     \u001b[38;5;28;01mreturn\u001b[39;00m DataFrame(\u001b[38;5;28;43mself\u001b[39;49m\u001b[38;5;241;43m.\u001b[39;49m\u001b[43m_jsparkSession\u001b[49m\u001b[38;5;241;43m.\u001b[39;49m\u001b[43msql\u001b[49m\u001b[43m(\u001b[49m\u001b[43msqlQuery\u001b[49m\u001b[43m,\u001b[49m\u001b[43m \u001b[49m\u001b[43mlitArgs\u001b[49m\u001b[43m)\u001b[49m, \u001b[38;5;28mself\u001b[39m)\n\u001b[1;32m   1632\u001b[0m \u001b[38;5;28;01mfinally\u001b[39;00m:\n\u001b[1;32m   1633\u001b[0m     \u001b[38;5;28;01mif\u001b[39;00m \u001b[38;5;28mlen\u001b[39m(kwargs) \u001b[38;5;241m>\u001b[39m \u001b[38;5;241m0\u001b[39m:\n",
      "File \u001b[0;32m/usr/local/spark/python/lib/py4j-0.10.9.7-src.zip/py4j/java_gateway.py:1322\u001b[0m, in \u001b[0;36mJavaMember.__call__\u001b[0;34m(self, *args)\u001b[0m\n\u001b[1;32m   1316\u001b[0m command \u001b[38;5;241m=\u001b[39m proto\u001b[38;5;241m.\u001b[39mCALL_COMMAND_NAME \u001b[38;5;241m+\u001b[39m\\\n\u001b[1;32m   1317\u001b[0m     \u001b[38;5;28mself\u001b[39m\u001b[38;5;241m.\u001b[39mcommand_header \u001b[38;5;241m+\u001b[39m\\\n\u001b[1;32m   1318\u001b[0m     args_command \u001b[38;5;241m+\u001b[39m\\\n\u001b[1;32m   1319\u001b[0m     proto\u001b[38;5;241m.\u001b[39mEND_COMMAND_PART\n\u001b[1;32m   1321\u001b[0m answer \u001b[38;5;241m=\u001b[39m \u001b[38;5;28mself\u001b[39m\u001b[38;5;241m.\u001b[39mgateway_client\u001b[38;5;241m.\u001b[39msend_command(command)\n\u001b[0;32m-> 1322\u001b[0m return_value \u001b[38;5;241m=\u001b[39m \u001b[43mget_return_value\u001b[49m\u001b[43m(\u001b[49m\n\u001b[1;32m   1323\u001b[0m \u001b[43m    \u001b[49m\u001b[43manswer\u001b[49m\u001b[43m,\u001b[49m\u001b[43m \u001b[49m\u001b[38;5;28;43mself\u001b[39;49m\u001b[38;5;241;43m.\u001b[39;49m\u001b[43mgateway_client\u001b[49m\u001b[43m,\u001b[49m\u001b[43m \u001b[49m\u001b[38;5;28;43mself\u001b[39;49m\u001b[38;5;241;43m.\u001b[39;49m\u001b[43mtarget_id\u001b[49m\u001b[43m,\u001b[49m\u001b[43m \u001b[49m\u001b[38;5;28;43mself\u001b[39;49m\u001b[38;5;241;43m.\u001b[39;49m\u001b[43mname\u001b[49m\u001b[43m)\u001b[49m\n\u001b[1;32m   1325\u001b[0m \u001b[38;5;28;01mfor\u001b[39;00m temp_arg \u001b[38;5;129;01min\u001b[39;00m temp_args:\n\u001b[1;32m   1326\u001b[0m     \u001b[38;5;28;01mif\u001b[39;00m \u001b[38;5;28mhasattr\u001b[39m(temp_arg, \u001b[38;5;124m\"\u001b[39m\u001b[38;5;124m_detach\u001b[39m\u001b[38;5;124m\"\u001b[39m):\n",
      "File \u001b[0;32m/usr/local/spark/python/pyspark/errors/exceptions/captured.py:185\u001b[0m, in \u001b[0;36mcapture_sql_exception.<locals>.deco\u001b[0;34m(*a, **kw)\u001b[0m\n\u001b[1;32m    181\u001b[0m converted \u001b[38;5;241m=\u001b[39m convert_exception(e\u001b[38;5;241m.\u001b[39mjava_exception)\n\u001b[1;32m    182\u001b[0m \u001b[38;5;28;01mif\u001b[39;00m \u001b[38;5;129;01mnot\u001b[39;00m \u001b[38;5;28misinstance\u001b[39m(converted, UnknownException):\n\u001b[1;32m    183\u001b[0m     \u001b[38;5;66;03m# Hide where the exception came from that shows a non-Pythonic\u001b[39;00m\n\u001b[1;32m    184\u001b[0m     \u001b[38;5;66;03m# JVM exception message.\u001b[39;00m\n\u001b[0;32m--> 185\u001b[0m     \u001b[38;5;28;01mraise\u001b[39;00m converted \u001b[38;5;28;01mfrom\u001b[39;00m \u001b[38;5;28;01mNone\u001b[39;00m\n\u001b[1;32m    186\u001b[0m \u001b[38;5;28;01melse\u001b[39;00m:\n\u001b[1;32m    187\u001b[0m     \u001b[38;5;28;01mraise\u001b[39;00m\n",
      "\u001b[0;31mAnalysisException\u001b[0m: [TABLE_OR_VIEW_NOT_FOUND] The table or view `dimemployee` cannot be found. Verify the spelling and correctness of the schema and catalog.\nIf you did not qualify the name with a schema, verify the current_schema() output, or qualify the name with the correct schema and catalog.\nTo tolerate the error on drop use DROP VIEW IF EXISTS or DROP TABLE IF EXISTS.; line 3 pos 5;\n'Aggregate ['dimemployee.employeeid], ['dimemployee.employeeid, 'sum('factsales.UnitPrice) AS totalsales#4157]\n+- 'Join Inner, ('dimemployee.employeeid = 'factsales.employeekey)\n   :- 'UnresolvedRelation [dimemployee], [], false\n   +- SubqueryAlias factsales\n      +- View (`FactSales`, [SalesOrderID#0,CustomerKey#1406,EmployeeKey#1407,ProductKey#1408,RevisionNumber#1,OrderQty#56,UnitPrice#59,UnitPriceDiscount#60,SubTotal#19,TaxAmt#20,Freight#21,TotalDue#22,OrderDate#2,DueDate#3,ShipDate#4,Status#5,OnlineOrderFlag#6,SalesOrderNumber#7,PurchaseOrderNumber#8,AccountNumber#9,CreditCardApprovalCode#17,Comment#23,CarrierTrackingNumber#55,LineTotal#61])\n         +- RepartitionByExpression [SalesOrderID#0, CustomerKey#1406, EmployeeKey#1407, ProductKey#1408], 4\n            +- Project [SalesOrderID#0, CustomerID#10 AS CustomerKey#1406, SalesPersonID#11 AS EmployeeKey#1407, ProductID#57 AS ProductKey#1408, RevisionNumber#1, OrderQty#56, UnitPrice#59, UnitPriceDiscount#60, SubTotal#19, TaxAmt#20, Freight#21, TotalDue#22, OrderDate#2, DueDate#3, ShipDate#4, Status#5, OnlineOrderFlag#6, SalesOrderNumber#7, PurchaseOrderNumber#8, AccountNumber#9, CreditCardApprovalCode#17, Comment#23, CarrierTrackingNumber#55, LineTotal#61]\n               +- Project [SalesOrderID#0, RevisionNumber#1, OrderDate#2, DueDate#3, ShipDate#4, Status#5, OnlineOrderFlag#6, SalesOrderNumber#7, PurchaseOrderNumber#8, AccountNumber#9, CustomerID#10, SalesPersonID#11, TerritoryID#12, CreditCardApprovalCode#17, SubTotal#19, TaxAmt#20, Freight#21, TotalDue#22, Comment#23, SalesOrderID#53, SalesOrderDetailID#54, CarrierTrackingNumber#55, OrderQty#56, ProductID#57, ... 3 more fields]\n                  +- Join Inner, (SalesPersonID#11 = BusinessEntityID#142)\n                     :- Join Inner, (CustomerID#10 = CustomerID#76)\n                     :  :- Join Inner, (ProductID#57 = ProductID#91)\n                     :  :  :- Join Inner, (SalesOrderID#0 = SalesOrderID#53)\n                     :  :  :  :- SubqueryAlias soh\n                     :  :  :  :  +- SubqueryAlias salesorderheader\n                     :  :  :  :     +- View (`SalesOrderHeader`, [SalesOrderID#0,RevisionNumber#1,OrderDate#2,DueDate#3,ShipDate#4,Status#5,OnlineOrderFlag#6,SalesOrderNumber#7,PurchaseOrderNumber#8,AccountNumber#9,CustomerID#10,SalesPersonID#11,TerritoryID#12,CreditCardApprovalCode#17,SubTotal#19,TaxAmt#20,Freight#21,TotalDue#22,Comment#23])\n                     :  :  :  :        +- RepartitionByExpression [SalesOrderID#0, CustomerID#10, SalesPersonID#11], 4\n                     :  :  :  :           +- Project [SalesOrderID#0, RevisionNumber#1, OrderDate#2, DueDate#3, ShipDate#4, Status#5, OnlineOrderFlag#6, SalesOrderNumber#7, PurchaseOrderNumber#8, AccountNumber#9, CustomerID#10, SalesPersonID#11, TerritoryID#12, CreditCardApprovalCode#17, SubTotal#19, TaxAmt#20, Freight#21, TotalDue#22, Comment#23]\n                     :  :  :  :              +- Project [SalesOrderID#0, RevisionNumber#1, OrderDate#2, DueDate#3, ShipDate#4, Status#5, OnlineOrderFlag#6, SalesOrderNumber#7, PurchaseOrderNumber#8, AccountNumber#9, CustomerID#10, SalesPersonID#11, TerritoryID#12, BillToAddressID#13, ShipToAddressID#14, ShipMethodID#15, CreditCardID#16, CreditCardApprovalCode#17, CurrencyRateID#18, SubTotal#19, TaxAmt#20, Freight#21, TotalDue#22, Comment#23, ... 2 more fields]\n                     :  :  :  :                 +- Relation [SalesOrderID#0,RevisionNumber#1,OrderDate#2,DueDate#3,ShipDate#4,Status#5,OnlineOrderFlag#6,SalesOrderNumber#7,PurchaseOrderNumber#8,AccountNumber#9,CustomerID#10,SalesPersonID#11,TerritoryID#12,BillToAddressID#13,ShipToAddressID#14,ShipMethodID#15,CreditCardID#16,CreditCardApprovalCode#17,CurrencyRateID#18,SubTotal#19,TaxAmt#20,Freight#21,TotalDue#22,Comment#23,... 2 more fields] JDBCRelation((select * from [Sales].[SalesOrderHeader]) as temp) [numPartitions=1]\n                     :  :  :  +- SubqueryAlias sod\n                     :  :  :     +- SubqueryAlias salesorderdetail\n                     :  :  :        +- View (`SalesOrderDetail`, [SalesOrderID#53,SalesOrderDetailID#54,CarrierTrackingNumber#55,OrderQty#56,ProductID#57,UnitPrice#59,UnitPriceDiscount#60,LineTotal#61])\n                     :  :  :           +- RepartitionByExpression [SalesOrderID#53, SalesOrderDetailID#54, ProductID#57], 4\n                     :  :  :              +- Project [SalesOrderID#53, SalesOrderDetailID#54, CarrierTrackingNumber#55, OrderQty#56, ProductID#57, UnitPrice#59, UnitPriceDiscount#60, LineTotal#61]\n                     :  :  :                 +- Project [SalesOrderID#53, SalesOrderDetailID#54, CarrierTrackingNumber#55, OrderQty#56, ProductID#57, SpecialOfferID#58, UnitPrice#59, UnitPriceDiscount#60, LineTotal#61, staticinvoke(class org.apache.spark.sql.catalyst.util.CharVarcharCodegenUtils, StringType, readSidePadding, rowguid#62, 36, true, false, true) AS rowguid#64, ModifiedDate#63]\n                     :  :  :                    +- Relation [SalesOrderID#53,SalesOrderDetailID#54,CarrierTrackingNumber#55,OrderQty#56,ProductID#57,SpecialOfferID#58,UnitPrice#59,UnitPriceDiscount#60,LineTotal#61,rowguid#62,ModifiedDate#63] JDBCRelation((select * from [Sales].[SalesOrderDetail]) as temp) [numPartitions=1]\n                     :  :  +- SubqueryAlias p\n                     :  :     +- SubqueryAlias product\n                     :  :        +- View (`product`, [ProductID#91,productName#605,ProductNumber#93,MakeFlag#94,FinishedGoodsFlag#95,Color#96,SafetyStockLevel#97,ReorderPoint#98,StandardCost#99,ListPrice#100,Size#101,SizeUnitMeasureCode#102,WeightUnitMeasureCode#103,Weight#104,DaysToManufacture#105,ProductLine#106,Class#107,Style#108,ProductSubcategoryID#109,ProductModelID#110,SellStartDate#111,SellEndDate#112,DiscontinuedDate#113])\n                     :  :           +- RepartitionByExpression [ProductID#91], 4\n                     :  :              +- Project [ProductID#91, Name#92 AS productName#605, ProductNumber#93, MakeFlag#94, FinishedGoodsFlag#95, Color#96, SafetyStockLevel#97, ReorderPoint#98, StandardCost#99, ListPrice#100, Size#101, SizeUnitMeasureCode#102, WeightUnitMeasureCode#103, Weight#104, DaysToManufacture#105, ProductLine#106, Class#107, Style#108, ProductSubcategoryID#109, ProductModelID#110, SellStartDate#111, SellEndDate#112, DiscontinuedDate#113]\n                     :  :                 +- Project [ProductID#91, Name#92, ProductNumber#93, MakeFlag#94, FinishedGoodsFlag#95, Color#96, SafetyStockLevel#97, ReorderPoint#98, StandardCost#99, ListPrice#100, Size#101, SizeUnitMeasureCode#102, WeightUnitMeasureCode#103, Weight#104, DaysToManufacture#105, ProductLine#106, Class#107, Style#108, ProductSubcategoryID#109, ProductModelID#110, SellStartDate#111, SellEndDate#112, DiscontinuedDate#113, staticinvoke(class org.apache.spark.sql.catalyst.util.CharVarcharCodegenUtils, StringType, readSidePadding, rowguid#114, 36, true, false, true) AS rowguid#116, ModifiedDate#115]\n                     :  :                    +- Relation [ProductID#91,Name#92,ProductNumber#93,MakeFlag#94,FinishedGoodsFlag#95,Color#96,SafetyStockLevel#97,ReorderPoint#98,StandardCost#99,ListPrice#100,Size#101,SizeUnitMeasureCode#102,WeightUnitMeasureCode#103,Weight#104,DaysToManufacture#105,ProductLine#106,Class#107,Style#108,ProductSubcategoryID#109,ProductModelID#110,SellStartDate#111,SellEndDate#112,DiscontinuedDate#113,rowguid#114,ModifiedDate#115] JDBCRelation((select * from [Production].[Product]) as temp) [numPartitions=1]\n                     :  +- SubqueryAlias c\n                     :     +- SubqueryAlias customer\n                     :        +- View (`customer`, [CustomerID#76,PersonID#77,StoreID#78,TerritoryID#79,AccountNumber#80])\n                     :           +- RepartitionByExpression [CustomerID#76], 4\n                     :              +- Project [CustomerID#76, PersonID#77, StoreID#78, TerritoryID#79, AccountNumber#80]\n                     :                 +- Project [CustomerID#76, PersonID#77, StoreID#78, TerritoryID#79, AccountNumber#80, staticinvoke(class org.apache.spark.sql.catalyst.util.CharVarcharCodegenUtils, StringType, readSidePadding, rowguid#81, 36, true, false, true) AS rowguid#83, ModifiedDate#82]\n                     :                    +- Relation [CustomerID#76,PersonID#77,StoreID#78,TerritoryID#79,AccountNumber#80,rowguid#81,ModifiedDate#82] JDBCRelation((select * from [Sales].[Customer]) as temp) [numPartitions=1]\n                     +- SubqueryAlias emp\n                        +- View (`emp`, [BusinessEntityID#142,NationalIDNumber#143,LoginID#144,OrganizationNode#145,OrganizationLevel#146,JobTitle#147,BirthDate#148,MaritalStatus#149,Gender#150,HireDate#151,SalariedFlag#152,VacationHours#153,SickLeaveHours#154,CurrentFlag#155])\n                           +- Project [BusinessEntityID#142, NationalIDNumber#143, LoginID#144, OrganizationNode#145, OrganizationLevel#146, JobTitle#147, BirthDate#148, MaritalStatus#149, Gender#150, HireDate#151, SalariedFlag#152, VacationHours#153, SickLeaveHours#154, CurrentFlag#155]\n                              +- Project [BusinessEntityID#142, NationalIDNumber#143, LoginID#144, OrganizationNode#145, OrganizationLevel#146, JobTitle#147, BirthDate#148, MaritalStatus#149, Gender#150, HireDate#151, SalariedFlag#152, VacationHours#153, SickLeaveHours#154, CurrentFlag#155, staticinvoke(class org.apache.spark.sql.catalyst.util.CharVarcharCodegenUtils, StringType, readSidePadding, rowguid#156, 36, true, false, true) AS rowguid#158, ModifiedDate#157]\n                                 +- Relation [BusinessEntityID#142,NationalIDNumber#143,LoginID#144,OrganizationNode#145,OrganizationLevel#146,JobTitle#147,BirthDate#148,MaritalStatus#149,Gender#150,HireDate#151,SalariedFlag#152,VacationHours#153,SickLeaveHours#154,CurrentFlag#155,rowguid#156,ModifiedDate#157] JDBCRelation((select * from [HumanResources].[Employee]) as temp) [numPartitions=1]\n"
     ]
    }
   ],
   "source": [
    "spark.sql('''\n",
    "select dimemployee.employeeid, sum(factsales.UnitPrice) as totalsales \n",
    "from dimemployee \n",
    "inner join factsales on dimemployee.employeeid = factsales.employeekey\n",
    "group by dimemployee.employeeid;\n",
    "''').show()"
   ]
  },
  {
   "cell_type": "code",
   "execution_count": null,
   "id": "27a86728-f723-4278-a6ed-ce748f2649e1",
   "metadata": {},
   "outputs": [],
   "source": []
  }
 ],
 "metadata": {
  "kernelspec": {
   "display_name": "Python 3 (ipykernel)",
   "language": "python",
   "name": "python3"
  },
  "language_info": {
   "codemirror_mode": {
    "name": "ipython",
    "version": 3
   },
   "file_extension": ".py",
   "mimetype": "text/x-python",
   "name": "python",
   "nbconvert_exporter": "python",
   "pygments_lexer": "ipython3",
   "version": "3.11.5"
  }
 },
 "nbformat": 4,
 "nbformat_minor": 5
}
