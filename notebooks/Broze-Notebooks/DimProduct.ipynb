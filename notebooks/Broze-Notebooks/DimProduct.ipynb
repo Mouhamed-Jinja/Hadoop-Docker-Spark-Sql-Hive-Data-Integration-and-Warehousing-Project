{
 "cells": [
  {
   "cell_type": "markdown",
   "id": "b3e9fbcf-d8d3-4b7c-9e67-52884b3a68fd",
   "metadata": {},
   "source": [
    "# \"Product Dimnsion\""
   ]
  },
  {
   "cell_type": "code",
   "execution_count": 1,
   "id": "e2cbdbb6-412d-4831-9cc2-156a3b305fff",
   "metadata": {},
   "outputs": [],
   "source": [
    "from pyspark.sql import SparkSession\n",
    "from pyspark.sql.functions import *"
   ]
  },
  {
   "cell_type": "code",
   "execution_count": 2,
   "id": "77c10352-2ad6-4ed8-b142-dec15fc6ea65",
   "metadata": {},
   "outputs": [],
   "source": [
    "spark = SparkSession.builder \\\n",
    "    .appName(\"product\") \\\n",
    "    .config(\"hive.metastore.uris\", \"thrift://hive-metastore:9083\") \\\n",
    "    .config(\"spark.jars\", \"/Drivers/SQL_Sever/jdbc/sqljdbc42.jar\")\\\n",
    "    .enableHiveSupport() \\\n",
    "    .getOrCreate()"
   ]
  },
  {
   "cell_type": "code",
   "execution_count": 3,
   "id": "88841fce-91f1-481c-9dae-3e97232e1f5a",
   "metadata": {},
   "outputs": [
    {
     "name": "stdout",
     "output_type": "stream",
     "text": [
      "6  tables\n"
     ]
    }
   ],
   "source": [
    "Tables= [\"[Production].[Product]\", \"[Production].[ProductDescription]\", \"[Production].[ProductModelProductDescriptionCulture]\", \"[Production].[ProductSubcategory]\", \"[Production].[ProductCategory]\", \"[Production].[ProductCostHistory]\"]\n",
    "print(len(Tables), \" tables\")"
   ]
  },
  {
   "cell_type": "code",
   "execution_count": 4,
   "id": "772205c2-519a-4291-a84c-93b6ce4cc87f",
   "metadata": {},
   "outputs": [
    {
     "name": "stdout",
     "output_type": "stream",
     "text": [
      "dict_keys(['[Production].[Product]', '[Production].[ProductDescription]', '[Production].[ProductModelProductDescriptionCulture]', '[Production].[ProductSubcategory]', '[Production].[ProductCategory]', '[Production].[ProductCostHistory]'])\n"
     ]
    }
   ],
   "source": [
    "dataFrames = {}\n",
    "for table in Tables:\n",
    "    query = f\"select * from {table}\"\n",
    "    df =spark.read.format(\"jdbc\")\\\n",
    "        .option(\"url\",\"jdbc:sqlserver://172.18.0.4:1433;databaseName=AdventureWorks2017\")\\\n",
    "        .option(\"driver\", \"com.microsoft.sqlserver.jdbc.SQLServerDriver\")\\\n",
    "        .option(\"dbtable\", f\"({query}) AS temp\")\\\n",
    "        .option(\"user\", \"sa\")\\\n",
    "        .option(\"password\", \"Mo*012105\")\\\n",
    "        .load()\n",
    "    dataFrames[table]= df\n",
    "    \n",
    "print(dataFrames.keys())"
   ]
  },
  {
   "cell_type": "code",
   "execution_count": 5,
   "id": "d1e019f9-40c0-4701-8ec8-346af3d0492d",
   "metadata": {},
   "outputs": [],
   "source": [
    "# Prepare the core table product, select desired columns, repartition and cache it"
   ]
  },
  {
   "cell_type": "code",
   "execution_count": 6,
   "id": "36f4d0d8-81ec-4bd0-b21b-3967a8359919",
   "metadata": {},
   "outputs": [
    {
     "data": {
      "text/plain": [
       "504"
      ]
     },
     "execution_count": 6,
     "metadata": {},
     "output_type": "execute_result"
    }
   ],
   "source": [
    "product = dataFrames[\"[Production].[Product]\"]\\\n",
    "    .select('ProductID',\n",
    "         expr('Name').alias(\"productName\"),\n",
    "         'ProductNumber',\n",
    "         'MakeFlag',\n",
    "         'FinishedGoodsFlag',\n",
    "         'Color',\n",
    "         'SafetyStockLevel',\n",
    "         'ReorderPoint',\n",
    "         'StandardCost',\n",
    "         'ListPrice',\n",
    "         'Size',\n",
    "         'SizeUnitMeasureCode',\n",
    "         'WeightUnitMeasureCode',\n",
    "         'Weight',\n",
    "         'DaysToManufacture',\n",
    "         'ProductLine',\n",
    "         'Class',\n",
    "         'Style',\n",
    "         'ProductSubcategoryID',\n",
    "         'ProductModelID',\n",
    "         'SellStartDate',\n",
    "         'SellEndDate',\n",
    "         'DiscontinuedDate')\\\n",
    "    .repartition(4,'ProductID')\\\n",
    "    .cache()\n",
    "product.createOrReplaceTempView(\"product\")\n",
    "product.count()"
   ]
  },
  {
   "cell_type": "markdown",
   "id": "42c7346d-636f-4630-a8a2-f58a4d6e092b",
   "metadata": {},
   "source": [
    "prepare category and subCategory tables to join it to product"
   ]
  },
  {
   "cell_type": "code",
   "execution_count": 7,
   "id": "46863b2b-60aa-444a-800d-14841a5e3195",
   "metadata": {},
   "outputs": [],
   "source": [
    "category = dataFrames['[Production].[ProductCategory]']\\\n",
    "    .select('ProductCategoryID', 'Name')\\\n",
    "    .repartition(4,'ProductCategoryID')\\\n",
    "    .cache()\n",
    "category.createOrReplaceTempView(\"category\")"
   ]
  },
  {
   "cell_type": "code",
   "execution_count": 8,
   "id": "b89e3049-4d0b-4ceb-8ca1-98a0d6d4a3c9",
   "metadata": {},
   "outputs": [
    {
     "name": "stdout",
     "output_type": "stream",
     "text": [
      "+--------------------+-----------------+---------------+\n",
      "|ProductSubcategoryID|ProductCategoryID|subCategoryName|\n",
      "+--------------------+-----------------+---------------+\n",
      "|                  19|                3|           Caps|\n",
      "|                  22|                3|         Shorts|\n",
      "|                  27|                4|    Bike Stands|\n",
      "+--------------------+-----------------+---------------+\n",
      "only showing top 3 rows\n",
      "\n"
     ]
    }
   ],
   "source": [
    "subCat = dataFrames['[Production].[ProductSubcategory]']\\\n",
    "    .select('ProductSubcategoryID',\n",
    "             'ProductCategoryID',\n",
    "             expr('Name').alias(\"subCategoryName\"))\\\n",
    "    .repartition(4,'ProductSubcategoryID', 'ProductCategoryID')\\\n",
    "    .cache()\n",
    "subCat.createOrReplaceTempView(\"subCat\")\n",
    "subCat.show(3)"
   ]
  },
  {
   "cell_type": "markdown",
   "id": "1e479e3c-2ef6-40c5-b469-75a80cf8fb7c",
   "metadata": {},
   "source": [
    "got the newest price for product history"
   ]
  },
  {
   "cell_type": "code",
   "execution_count": 9,
   "id": "ad4559a5-5b3f-4fee-838c-cdb1f0341e96",
   "metadata": {},
   "outputs": [
    {
     "name": "stdout",
     "output_type": "stream",
     "text": [
      "+---------+------------+\n",
      "|ProductID|StandardCost|\n",
      "+---------+------------+\n",
      "|      707|     13.0863|\n",
      "|      711|     13.0863|\n",
      "|      716|     38.4923|\n",
      "+---------+------------+\n",
      "only showing top 3 rows\n",
      "\n"
     ]
    }
   ],
   "source": [
    "productHist = dataFrames['[Production].[ProductCostHistory]']\\\n",
    "    .where(col(\"EndDate\").isNull())\\\n",
    "    .select(\"ProductID\", \"StandardCost\")\\\n",
    "    .repartition(4,'ProductID')\\\n",
    "    .cache()\n",
    "productHist.createOrReplaceTempView(\"productHist\")\n",
    "productHist.show(3)"
   ]
  },
  {
   "cell_type": "code",
   "execution_count": 10,
   "id": "07f9235c-6e87-437c-ac47-6f4d3453e766",
   "metadata": {},
   "outputs": [
    {
     "data": {
      "text/plain": [
       "['ProductModelID', 'ProductDescriptionID', 'CultureID']"
      ]
     },
     "execution_count": 10,
     "metadata": {},
     "output_type": "execute_result"
    }
   ],
   "source": [
    "culture = dataFrames['[Production].[ProductModelProductDescriptionCulture]']\\\n",
    "    .where(col(\"CultureID\") =='en')\\\n",
    "    .select('ProductModelID', 'ProductDescriptionID', 'CultureID')\\\n",
    "    .repartition(4,'ProductModelID', 'ProductDescriptionID')\\\n",
    "    .cache()\n",
    "culture.createOrReplaceTempView(\"culture\")\n",
    "culture.columns"
   ]
  },
  {
   "cell_type": "code",
   "execution_count": 11,
   "id": "94b4d9d9-47f5-41dc-a876-77a215dcf23b",
   "metadata": {},
   "outputs": [
    {
     "data": {
      "text/plain": [
       "['ProductDescriptionID', 'Description']"
      ]
     },
     "execution_count": 11,
     "metadata": {},
     "output_type": "execute_result"
    }
   ],
   "source": [
    "description = dataFrames['[Production].[ProductDescription]']\\\n",
    "    .select('ProductDescriptionID', 'Description')\\\n",
    "    .repartition(4,'ProductDescriptionID')\\\n",
    "    .cache()\n",
    "description.createOrReplaceTempView(\"description\")\n",
    "description.columns"
   ]
  },
  {
   "cell_type": "code",
   "execution_count": 12,
   "id": "91d8cfc2-c291-41a4-b6f2-ab0a73c583c4",
   "metadata": {},
   "outputs": [
    {
     "data": {
      "text/plain": [
       "[Table(name='dimdate', catalog='spark_catalog', namespace=['default'], description=None, tableType='MANAGED', isTemporary=False),\n",
       " Table(name='my_new_date_table', catalog='spark_catalog', namespace=['default'], description=None, tableType='MANAGED', isTemporary=False),\n",
       " Table(name='my_new_date_tablee', catalog='spark_catalog', namespace=['default'], description=None, tableType='MANAGED', isTemporary=False),\n",
       " Table(name='category', catalog=None, namespace=[], description=None, tableType='TEMPORARY', isTemporary=True),\n",
       " Table(name='culture', catalog=None, namespace=[], description=None, tableType='TEMPORARY', isTemporary=True),\n",
       " Table(name='description', catalog=None, namespace=[], description=None, tableType='TEMPORARY', isTemporary=True),\n",
       " Table(name='product', catalog=None, namespace=[], description=None, tableType='TEMPORARY', isTemporary=True),\n",
       " Table(name='productHist', catalog=None, namespace=[], description=None, tableType='TEMPORARY', isTemporary=True),\n",
       " Table(name='subCat', catalog=None, namespace=[], description=None, tableType='TEMPORARY', isTemporary=True)]"
      ]
     },
     "execution_count": 12,
     "metadata": {},
     "output_type": "execute_result"
    }
   ],
   "source": [
    "spark.catalog.listTables()"
   ]
  },
  {
   "cell_type": "code",
   "execution_count": 13,
   "id": "ff82f441-ce9e-4e47-9db1-75c07b080d2c",
   "metadata": {},
   "outputs": [
    {
     "data": {
      "text/plain": [
       "['ProductID',\n",
       " 'productName',\n",
       " 'ProductNumber',\n",
       " 'MakeFlag',\n",
       " 'FinishedGoodsFlag',\n",
       " 'Color',\n",
       " 'SafetyStockLevel',\n",
       " 'ReorderPoint',\n",
       " 'StandardCost',\n",
       " 'ListPrice',\n",
       " 'Size',\n",
       " 'SizeUnitMeasureCode',\n",
       " 'WeightUnitMeasureCode',\n",
       " 'Weight',\n",
       " 'DaysToManufacture',\n",
       " 'ProductLine',\n",
       " 'Class',\n",
       " 'Style',\n",
       " 'ProductSubcategoryID',\n",
       " 'ProductModelID',\n",
       " 'SellStartDate',\n",
       " 'SellEndDate',\n",
       " 'DiscontinuedDate',\n",
       " 'ProductSubcategoryID',\n",
       " 'ProductCategoryID',\n",
       " 'subCategoryName',\n",
       " 'ProductCategoryID',\n",
       " 'Name',\n",
       " 'ProductID',\n",
       " 'StandardCost',\n",
       " 'ProductModelID',\n",
       " 'ProductDescriptionID',\n",
       " 'CultureID',\n",
       " 'ProductDescriptionID',\n",
       " 'Description']"
      ]
     },
     "execution_count": 13,
     "metadata": {},
     "output_type": "execute_result"
    }
   ],
   "source": [
    "DimProduct = spark.sql(\"\"\"\n",
    "    select *\n",
    "    from product p left outer join subCat sc\n",
    "    on p.ProductSubcategoryID = sc.ProductSubcategoryID\n",
    "\n",
    "    left outer join category c\n",
    "    on sc.ProductCategoryID = c.ProductCategoryID\n",
    "\n",
    "    left outer join productHist ph\n",
    "    on p.productID = ph.productID\n",
    "\n",
    "    left outer join culture\n",
    "    on p.ProductModelID = culture.ProductModelID\n",
    "\n",
    "    left outer join description desc\n",
    "    on culture.ProductDescriptionID = desc.ProductDescriptionID\n",
    "    \n",
    "\"\"\")\n",
    "DimProduct.columns"
   ]
  },
  {
   "cell_type": "code",
   "execution_count": 14,
   "id": "131d0332-10d5-4750-94f2-9a64707af6ef",
   "metadata": {},
   "outputs": [],
   "source": [
    "DimProduct= DimProduct.select(\n",
    "        'p.ProductID',\n",
    "         'productName',\n",
    "         'ProductNumber',\n",
    "         'MakeFlag',\n",
    "         'FinishedGoodsFlag',\n",
    "         'Color',\n",
    "         'SafetyStockLevel',\n",
    "         'ReorderPoint',\n",
    "         'p.StandardCost',\n",
    "         'ListPrice',\n",
    "         'Size',\n",
    "         'SizeUnitMeasureCode',\n",
    "         'WeightUnitMeasureCode',\n",
    "         'Weight',\n",
    "         'DaysToManufacture',\n",
    "         'ProductLine',\n",
    "         'Class',\n",
    "         'Style',\n",
    "         'SellStartDate',\n",
    "         'SellEndDate',\n",
    "         'DiscontinuedDate',\n",
    "         'subCategoryName',\n",
    "         'Description')\\\n",
    "    .repartition(2,\"ProductID\")\n",
    "        "
   ]
  },
  {
   "cell_type": "code",
   "execution_count": 15,
   "id": "703e1572-618b-440d-8826-b8c5a84cdefc",
   "metadata": {},
   "outputs": [],
   "source": [
    "DimProduct.write.format(\"hive\").mode(\"overwrite\").saveAsTable(\"bronze.DimProduct\")"
   ]
  },
  {
   "cell_type": "code",
   "execution_count": 16,
   "id": "4a0f385e-39e6-4d5e-bf25-f4f7359f9917",
   "metadata": {},
   "outputs": [
    {
     "name": "stdout",
     "output_type": "stream",
     "text": [
      "+-----------------+\n",
      "|        namespace|\n",
      "+-----------------+\n",
      "|           bronze|\n",
      "|bronzesalesschema|\n",
      "|          default|\n",
      "|      my_database|\n",
      "|            sales|\n",
      "|             test|\n",
      "+-----------------+\n",
      "\n"
     ]
    }
   ],
   "source": [
    "spark.sql(\"show databases\").show()"
   ]
  },
  {
   "cell_type": "code",
   "execution_count": null,
   "id": "0fd989fd-d196-4066-87e4-30da16caa9a6",
   "metadata": {},
   "outputs": [],
   "source": []
  }
 ],
 "metadata": {
  "kernelspec": {
   "display_name": "Python 3 (ipykernel)",
   "language": "python",
   "name": "python3"
  },
  "language_info": {
   "codemirror_mode": {
    "name": "ipython",
    "version": 3
   },
   "file_extension": ".py",
   "mimetype": "text/x-python",
   "name": "python",
   "nbconvert_exporter": "python",
   "pygments_lexer": "ipython3",
   "version": "3.11.5"
  }
 },
 "nbformat": 4,
 "nbformat_minor": 5
}
