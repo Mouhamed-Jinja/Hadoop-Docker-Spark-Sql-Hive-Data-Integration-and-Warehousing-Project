{
 "cells": [
  {
   "cell_type": "markdown",
   "id": "6a04886b-f7da-43f3-9f65-eabdb156d8e7",
   "metadata": {},
   "source": [
    "# \"Fact Table\"\n",
    "# Fact table built on the transactional level granularity"
   ]
  },
  {
   "cell_type": "code",
   "execution_count": 8,
   "id": "6efc3ab7-fc21-4595-bd72-1d138480bb83",
   "metadata": {},
   "outputs": [],
   "source": [
    "from pyspark.sql import SparkSession\n",
    "from pyspark.sql.functions import *"
   ]
  },
  {
   "cell_type": "code",
   "execution_count": 9,
   "id": "79cb5dfc-6f9e-4a5c-867d-9dfdbd302720",
   "metadata": {},
   "outputs": [],
   "source": [
    "f\n",
    "spark = SparkSession.builder \\\n",
    "    .appName(\"SampleDataToHive\") \\\n",
    "    .config(\"hive.metastore.uris\", \"thrift://hive-metastore:9083\") \\\n",
    "    .config(\"spark.jars\", \"/Drivers/SQL_Sever/jdbc/sqljdbc42.jar\")\\\n",
    "    .enableHiveSupport() \\\n",
    "    .getOrCreate()\n"
   ]
  },
  {
   "cell_type": "code",
   "execution_count": 10,
   "id": "f5186d05-50d1-4c46-9422-77de4e871fab",
   "metadata": {},
   "outputs": [
    {
     "name": "stdout",
     "output_type": "stream",
     "text": [
      "5  tables\n"
     ]
    }
   ],
   "source": [
    "Tables = [\"[Sales].[SalesOrderHeader]\", \"[Sales].[SalesOrderDetail]\", \"[Sales].[Customer]\", \"[Production].[Product]\", \"[HumanResources].[Employee]\"] \n",
    "print(len(Tables), \" tables\")"
   ]
  },
  {
   "cell_type": "code",
   "execution_count": 11,
   "id": "8631f196-6845-421d-81a7-bff390c9a39b",
   "metadata": {},
   "outputs": [
    {
     "name": "stdout",
     "output_type": "stream",
     "text": [
      "dict_keys(['[Sales].[SalesOrderHeader]', '[Sales].[SalesOrderDetail]', '[Sales].[Customer]', '[Production].[Product]', '[HumanResources].[Employee]'])\n"
     ]
    }
   ],
   "source": [
    "dataFrames= {}\n",
    "for table in Tables:\n",
    "    query = f\"select * from {table}\"\n",
    "    df =spark.read.format(\"jdbc\")\\\n",
    "        .option(\"url\", \"jdbc:sqlserver://172.18.0.7:1433;databaseName=AdventureWorks2017\")\\\n",
    "        .option(\"driver\", \"com.microsoft.sqlserver.jdbc.SQLServerDriver\")\\\n",
    "        .option(\"dbtable\", f\"({query}) as temp\")\\\n",
    "        .option(\"user\",\"sa\")\\\n",
    "        .option(\"password\", \"Mo*012105\")\\\n",
    "        .load()\n",
    "    dataFrames[table] = df\n",
    "print(dataFrames.keys())"
   ]
  },
  {
   "cell_type": "markdown",
   "id": "6f05b614-7d73-49b5-84e4-ccff79506947",
   "metadata": {},
   "source": [
    "# SalesOrderHeader is a transactional table"
   ]
  },
  {
   "cell_type": "code",
   "execution_count": 12,
   "id": "79814e8b-5bb3-4266-bd78-9e6372b4744b",
   "metadata": {},
   "outputs": [
    {
     "data": {
      "text/plain": [
       "['SalesOrderID',\n",
       " 'RevisionNumber',\n",
       " 'OrderDate',\n",
       " 'DueDate',\n",
       " 'ShipDate',\n",
       " 'Status',\n",
       " 'OnlineOrderFlag',\n",
       " 'SalesOrderNumber',\n",
       " 'PurchaseOrderNumber',\n",
       " 'AccountNumber',\n",
       " 'CustomerID',\n",
       " 'SalesPersonID',\n",
       " 'TerritoryID',\n",
       " 'CreditCardApprovalCode',\n",
       " 'SubTotal',\n",
       " 'TaxAmt',\n",
       " 'Freight',\n",
       " 'TotalDue',\n",
       " 'Comment']"
      ]
     },
     "execution_count": 12,
     "metadata": {},
     "output_type": "execute_result"
    }
   ],
   "source": [
    "SalesOrderHeader = dataFrames[\"[Sales].[SalesOrderHeader]\"]\\\n",
    "    .select(\n",
    "        'SalesOrderID',\n",
    "         'RevisionNumber',\n",
    "         'OrderDate',\n",
    "         'DueDate',\n",
    "         'ShipDate',\n",
    "         'Status',\n",
    "         'OnlineOrderFlag',\n",
    "         'SalesOrderNumber',\n",
    "         'PurchaseOrderNumber',\n",
    "         'AccountNumber',\n",
    "         'CustomerID',\n",
    "         'SalesPersonID',\n",
    "         'TerritoryID',\n",
    "         'CreditCardApprovalCode',\n",
    "         'SubTotal',\n",
    "         'TaxAmt',\n",
    "         'Freight',\n",
    "         'TotalDue',\n",
    "         'Comment')\\\n",
    "    .repartition(4, 'SalesOrderID', 'CustomerID', 'SalesPersonID')\\\n",
    "    .cache()\n",
    "SalesOrderHeader.createOrReplaceTempView(\"SalesOrderHeader\")\n",
    "SalesOrderHeader.columns"
   ]
  },
  {
   "cell_type": "markdown",
   "id": "90f0740a-6fce-42d5-bacc-81eab658e420",
   "metadata": {},
   "source": [
    "# details about transactions"
   ]
  },
  {
   "cell_type": "code",
   "execution_count": 13,
   "id": "2d593ccd-3ab5-43ba-b854-b32b2b4be37b",
   "metadata": {},
   "outputs": [
    {
     "data": {
      "text/plain": [
       "['SalesOrderID',\n",
       " 'SalesOrderDetailID',\n",
       " 'CarrierTrackingNumber',\n",
       " 'OrderQty',\n",
       " 'ProductID',\n",
       " 'UnitPrice',\n",
       " 'UnitPriceDiscount',\n",
       " 'LineTotal']"
      ]
     },
     "execution_count": 13,
     "metadata": {},
     "output_type": "execute_result"
    }
   ],
   "source": [
    "SalesOrderDetail = dataFrames[\"[Sales].[SalesOrderDetail]\"]\\\n",
    "    .select(\n",
    "        'SalesOrderID',\n",
    "         'SalesOrderDetailID',\n",
    "         'CarrierTrackingNumber',\n",
    "         'OrderQty',\n",
    "         'ProductID',\n",
    "         'UnitPrice',\n",
    "         'UnitPriceDiscount',\n",
    "         'LineTotal')\\\n",
    "    .repartition(4,'SalesOrderID', 'SalesOrderDetailID','ProductID')\\\n",
    "    .cache()\n",
    "SalesOrderDetail.createOrReplaceTempView(\"SalesOrderDetail\")\n",
    "SalesOrderDetail.columns"
   ]
  },
  {
   "cell_type": "code",
   "execution_count": 14,
   "id": "1767c647-cda5-4485-9e11-2737800f678b",
   "metadata": {},
   "outputs": [
    {
     "data": {
      "text/plain": [
       "19820"
      ]
     },
     "execution_count": 14,
     "metadata": {},
     "output_type": "execute_result"
    }
   ],
   "source": [
    "customer = dataFrames['[Sales].[Customer]']\\\n",
    "    .select('CustomerID',\n",
    "             'PersonID',\n",
    "             'StoreID',\n",
    "             'TerritoryID',\n",
    "             'AccountNumber')\\\n",
    "    .repartition(4, \"CustomerID\")\\\n",
    "    .cache()\n",
    "customer.createOrReplaceTempView(\"customer\")\n",
    "customer.count()"
   ]
  },
  {
   "cell_type": "code",
   "execution_count": 15,
   "id": "e735de09-1106-495a-aa5f-a21dc2ebd493",
   "metadata": {},
   "outputs": [
    {
     "data": {
      "text/plain": [
       "290"
      ]
     },
     "execution_count": 15,
     "metadata": {},
     "output_type": "execute_result"
    }
   ],
   "source": [
    "emp = dataFrames[\"[HumanResources].[Employee]\"]\\\n",
    "    .select('BusinessEntityID',\n",
    "             'NationalIDNumber',\n",
    "             'LoginID',\n",
    "             'OrganizationNode',\n",
    "             'OrganizationLevel',\n",
    "             'JobTitle',\n",
    "             'BirthDate',\n",
    "             'MaritalStatus',\n",
    "             'Gender',\n",
    "             'HireDate',\n",
    "             'SalariedFlag',\n",
    "             'VacationHours',\n",
    "             'SickLeaveHours',\n",
    "             'CurrentFlag')\n",
    "emp.repartition(4, \"BusinessEntityID\").cache()\n",
    "emp.createOrReplaceTempView(\"emp\")\n",
    "emp.count()"
   ]
  },
  {
   "cell_type": "code",
   "execution_count": 16,
   "id": "4d87c799-5438-4578-bd46-d4cca78ead38",
   "metadata": {},
   "outputs": [
    {
     "data": {
      "text/plain": [
       "504"
      ]
     },
     "execution_count": 16,
     "metadata": {},
     "output_type": "execute_result"
    }
   ],
   "source": [
    "product = dataFrames[\"[Production].[Product]\"]\\\n",
    "    .select('ProductID',\n",
    "         expr('Name').alias(\"productName\"),\n",
    "         'ProductNumber',\n",
    "         'MakeFlag',\n",
    "         'FinishedGoodsFlag',\n",
    "         'Color',\n",
    "         'SafetyStockLevel',\n",
    "         'ReorderPoint',\n",
    "         'StandardCost',\n",
    "         'ListPrice',\n",
    "         'Size',\n",
    "         'SizeUnitMeasureCode',\n",
    "         'WeightUnitMeasureCode',\n",
    "         'Weight',\n",
    "         'DaysToManufacture',\n",
    "         'ProductLine',\n",
    "         'Class',\n",
    "         'Style',\n",
    "         'ProductSubcategoryID',\n",
    "         'ProductModelID',\n",
    "         'SellStartDate',\n",
    "         'SellEndDate',\n",
    "         'DiscontinuedDate')\\\n",
    "    .repartition(4,'ProductID')\\\n",
    "    .cache()\n",
    "product.createOrReplaceTempView(\"product\")\n",
    "product.count()"
   ]
  },
  {
   "cell_type": "code",
   "execution_count": 17,
   "id": "2eee4a38-4f31-47db-9f12-4b5459e6c062",
   "metadata": {},
   "outputs": [
    {
     "data": {
      "text/plain": [
       "[Table(name='dimcustomer', catalog='spark_catalog', namespace=['bronze'], description=None, tableType='MANAGED', isTemporary=False),\n",
       " Table(name='dimdate', catalog='spark_catalog', namespace=['bronze'], description=None, tableType='MANAGED', isTemporary=False),\n",
       " Table(name='dimemployee', catalog='spark_catalog', namespace=['bronze'], description=None, tableType='MANAGED', isTemporary=False),\n",
       " Table(name='dimproduct', catalog='spark_catalog', namespace=['bronze'], description=None, tableType='MANAGED', isTemporary=False),\n",
       " Table(name='customer', catalog=None, namespace=[], description=None, tableType='TEMPORARY', isTemporary=True),\n",
       " Table(name='emp', catalog=None, namespace=[], description=None, tableType='TEMPORARY', isTemporary=True),\n",
       " Table(name='product', catalog=None, namespace=[], description=None, tableType='TEMPORARY', isTemporary=True),\n",
       " Table(name='SalesOrderDetail', catalog=None, namespace=[], description=None, tableType='TEMPORARY', isTemporary=True),\n",
       " Table(name='SalesOrderHeader', catalog=None, namespace=[], description=None, tableType='TEMPORARY', isTemporary=True)]"
      ]
     },
     "execution_count": 17,
     "metadata": {},
     "output_type": "execute_result"
    }
   ],
   "source": [
    "spark.catalog.listTables()"
   ]
  },
  {
   "cell_type": "code",
   "execution_count": 18,
   "id": "b3f5756d-6378-401c-9064-714382167323",
   "metadata": {},
   "outputs": [
    {
     "data": {
      "text/plain": [
       "['SalesOrderID',\n",
       " 'RevisionNumber',\n",
       " 'OrderDate',\n",
       " 'DueDate',\n",
       " 'ShipDate',\n",
       " 'Status',\n",
       " 'OnlineOrderFlag',\n",
       " 'SalesOrderNumber',\n",
       " 'PurchaseOrderNumber',\n",
       " 'AccountNumber',\n",
       " 'CustomerID',\n",
       " 'SalesPersonID',\n",
       " 'TerritoryID',\n",
       " 'CreditCardApprovalCode',\n",
       " 'SubTotal',\n",
       " 'TaxAmt',\n",
       " 'Freight',\n",
       " 'TotalDue',\n",
       " 'Comment',\n",
       " 'SalesOrderID',\n",
       " 'SalesOrderDetailID',\n",
       " 'CarrierTrackingNumber',\n",
       " 'OrderQty',\n",
       " 'ProductID',\n",
       " 'UnitPrice',\n",
       " 'UnitPriceDiscount',\n",
       " 'LineTotal']"
      ]
     },
     "execution_count": 18,
     "metadata": {},
     "output_type": "execute_result"
    }
   ],
   "source": [
    "FactSales= spark.sql(\"\"\"\n",
    "    select soh.*, sod.*\n",
    "    from SalesOrderHeader soh inner join SalesOrderDetail sod\n",
    "    on soh.SalesOrderID = sod.SalesOrderID\n",
    "    \n",
    "    inner join product p\n",
    "    on sod.ProductID = p.ProductID\n",
    "    \n",
    "    inner join customer c\n",
    "    on soh.CustomerID = c.CustomerID\n",
    "    \n",
    "    left outer join emp \n",
    "   on soh.SalesPersonID = emp.BusinessEntityID\n",
    "\n",
    "\"\"\")\n",
    "FactSales.columns"
   ]
  },
  {
   "cell_type": "code",
   "execution_count": 19,
   "id": "a6cfa6eb-48de-4632-ae90-41082693b5ee",
   "metadata": {},
   "outputs": [
    {
     "data": {
      "text/plain": [
       "['SalesOrderID',\n",
       " 'CustomerKey',\n",
       " 'EmployeeKey',\n",
       " 'ProductKey',\n",
       " 'RevisionNumber',\n",
       " 'OrderQty',\n",
       " 'UnitPrice',\n",
       " 'UnitPriceDiscount',\n",
       " 'SubTotal',\n",
       " 'TaxAmt',\n",
       " 'Freight',\n",
       " 'TotalDue',\n",
       " 'OrderDate',\n",
       " 'DueDate',\n",
       " 'ShipDate',\n",
       " 'Status',\n",
       " 'OnlineOrderFlag',\n",
       " 'SalesOrderNumber',\n",
       " 'PurchaseOrderNumber',\n",
       " 'AccountNumber',\n",
       " 'CreditCardApprovalCode',\n",
       " 'Comment',\n",
       " 'CarrierTrackingNumber',\n",
       " 'LineTotal']"
      ]
     },
     "execution_count": 19,
     "metadata": {},
     "output_type": "execute_result"
    }
   ],
   "source": [
    "FactSales = FactSales.select(\n",
    "             'soh.SalesOrderID',\n",
    "             expr('CustomerID').alias(\"CustomerKey\"),\n",
    "             expr('SalesPersonID').alias(\"EmployeeKey\"),\n",
    "             expr('ProductID').alias(\"ProductKey\"),\n",
    "             'RevisionNumber',\n",
    "             'OrderQty',\n",
    "             'UnitPrice',\n",
    "             'UnitPriceDiscount',\n",
    "             'SubTotal',\n",
    "             'TaxAmt',\n",
    "             'Freight',\n",
    "             'TotalDue',\n",
    "             'OrderDate',\n",
    "             'DueDate',\n",
    "             'ShipDate',\n",
    "             'Status',\n",
    "             'OnlineOrderFlag',\n",
    "             'SalesOrderNumber',\n",
    "             'PurchaseOrderNumber',\n",
    "             'AccountNumber',\n",
    "             'CreditCardApprovalCode',\n",
    "             'Comment',\n",
    "             'CarrierTrackingNumber',\n",
    "             'LineTotal')\\\n",
    "            .repartition(4,'SalesOrderID', 'CustomerKey', 'EmployeeKey', 'ProductKey')\\\n",
    "            .cache()\n",
    "FactSales.createOrReplaceTempView(\"FactSales\")\n",
    "FactSales.columns"
   ]
  },
  {
   "cell_type": "code",
   "execution_count": 20,
   "id": "7d469bae-5b35-4546-a476-890422ec8037",
   "metadata": {},
   "outputs": [
    {
     "name": "stdout",
     "output_type": "stream",
     "text": [
      "+---------------------------+\n",
      "|count(DISTINCT CustomerKey)|\n",
      "+---------------------------+\n",
      "|                      19119|\n",
      "+---------------------------+\n",
      "\n"
     ]
    }
   ],
   "source": [
    "spark.sql(\"select count(distinct CustomerKey) from factsales\").show()"
   ]
  },
  {
   "cell_type": "code",
   "execution_count": 21,
   "id": "9f2ca4dd-cf42-4864-b607-396df57ac95f",
   "metadata": {},
   "outputs": [
    {
     "name": "stdout",
     "output_type": "stream",
     "text": [
      "+--------------------------+\n",
      "|count(DISTINCT productkey)|\n",
      "+--------------------------+\n",
      "|                       266|\n",
      "+--------------------------+\n",
      "\n"
     ]
    }
   ],
   "source": [
    "spark.sql(\"select count(distinct productkey) from factsales\").show()"
   ]
  },
  {
   "cell_type": "code",
   "execution_count": 22,
   "id": "b88832a4-fadc-4046-b0af-acfada015855",
   "metadata": {},
   "outputs": [
    {
     "data": {
      "text/plain": [
       "'FactSales.write        .mode(\"overwrite\")        .partitionBy(\\'SalesOrderID\\',\\n                     \\'CustomerKey\\',\\n                     \\'EmployeeKey\\',\\n                     \\'ProductKey\\')        .saveAsTable(\"SalesSchema.FactSales\")'"
      ]
     },
     "execution_count": 22,
     "metadata": {},
     "output_type": "execute_result"
    }
   ],
   "source": [
    "'''FactSales.write\\\n",
    "        .mode(\"overwrite\")\\\n",
    "        .partitionBy('SalesOrderID',\n",
    "                     'CustomerKey',\n",
    "                     'EmployeeKey',\n",
    "                     'ProductKey')\\\n",
    "        .saveAsTable(\"SalesSchema.FactSales\")'''"
   ]
  },
  {
   "cell_type": "code",
   "execution_count": 23,
   "id": "234853fa-19b0-46c3-934a-d36f25e70a08",
   "metadata": {},
   "outputs": [],
   "source": [
    "FactSales.write\\\n",
    "        .format(\"hive\")\\\n",
    "        .mode(\"overwrite\")\\\n",
    "        .saveAsTable(\"bronze.FactSales\")"
   ]
  },
  {
   "cell_type": "code",
   "execution_count": 24,
   "id": "434cbc33-d14b-4f24-9d17-645306a1cc16",
   "metadata": {},
   "outputs": [
    {
     "name": "stdout",
     "output_type": "stream",
     "text": [
      "+---------+\n",
      "|namespace|\n",
      "+---------+\n",
      "|   bronze|\n",
      "|  default|\n",
      "|    sales|\n",
      "|   silver|\n",
      "+---------+\n",
      "\n"
     ]
    }
   ],
   "source": [
    "spark.sql(\"show schemas\").show()"
   ]
  },
  {
   "cell_type": "code",
   "execution_count": 25,
   "id": "4ec113cd-7ee8-4d8d-860d-c8b0e47a8c86",
   "metadata": {},
   "outputs": [
    {
     "data": {
      "text/plain": [
       "DataFrame[]"
      ]
     },
     "execution_count": 25,
     "metadata": {},
     "output_type": "execute_result"
    }
   ],
   "source": [
    "spark.sql(\"use bronze;\")"
   ]
  },
  {
   "cell_type": "code",
   "execution_count": 26,
   "id": "763ee774-aae8-4edc-b82a-da51cecf87bd",
   "metadata": {},
   "outputs": [
    {
     "name": "stdout",
     "output_type": "stream",
     "text": [
      "+---------+----------------+-----------+\n",
      "|namespace|       tableName|isTemporary|\n",
      "+---------+----------------+-----------+\n",
      "|   bronze|     dimcustomer|      false|\n",
      "|   bronze|         dimdate|      false|\n",
      "|   bronze|     dimemployee|      false|\n",
      "|   bronze|      dimproduct|      false|\n",
      "|   bronze|       factsales|      false|\n",
      "|         |        customer|       true|\n",
      "|         |             emp|       true|\n",
      "|         |       factsales|       true|\n",
      "|         |         product|       true|\n",
      "|         |salesorderdetail|       true|\n",
      "|         |salesorderheader|       true|\n",
      "+---------+----------------+-----------+\n",
      "\n"
     ]
    }
   ],
   "source": [
    "spark.sql(\"show tables\").show()"
   ]
  },
  {
   "cell_type": "code",
   "execution_count": 27,
   "id": "0b789124-9b14-4c07-ba3b-5766fcfdee7c",
   "metadata": {},
   "outputs": [
    {
     "data": {
      "text/plain": [
       "121317"
      ]
     },
     "execution_count": 27,
     "metadata": {},
     "output_type": "execute_result"
    }
   ],
   "source": [
    "spark.sql(\"select SalesOrderID from factSales\").count()"
   ]
  },
  {
   "cell_type": "code",
   "execution_count": null,
   "id": "27a86728-f723-4278-a6ed-ce748f2649e1",
   "metadata": {},
   "outputs": [],
   "source": []
  }
 ],
 "metadata": {
  "kernelspec": {
   "display_name": "Python 3 (ipykernel)",
   "language": "python",
   "name": "python3"
  },
  "language_info": {
   "codemirror_mode": {
    "name": "ipython",
    "version": 3
   },
   "file_extension": ".py",
   "mimetype": "text/x-python",
   "name": "python",
   "nbconvert_exporter": "python",
   "pygments_lexer": "ipython3",
   "version": "3.11.5"
  }
 },
 "nbformat": 4,
 "nbformat_minor": 5
}
