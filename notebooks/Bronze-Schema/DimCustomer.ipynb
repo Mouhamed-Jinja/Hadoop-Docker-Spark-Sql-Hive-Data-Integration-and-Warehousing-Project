{
 "cells": [
  {
   "cell_type": "markdown",
   "id": "9d8432b1-b621-40c8-9a75-dc5218de9826",
   "metadata": {},
   "source": [
    "# \"Customer Dimension\""
   ]
  },
  {
   "cell_type": "code",
   "execution_count": 47,
   "id": "d1c70baa-c70b-481a-9967-efdfd3fdfff6",
   "metadata": {},
   "outputs": [],
   "source": [
    "from pyspark.sql import SparkSession\n",
    "from pyspark.sql.functions import *"
   ]
  },
  {
   "cell_type": "code",
   "execution_count": 48,
   "id": "0cbecbb4-54e6-4fdd-a0b4-cbc65dfed693",
   "metadata": {},
   "outputs": [],
   "source": [
    "spark = SparkSession.builder \\\n",
    "    .appName(\"Employee\") \\\n",
    "    .config(\"hive.metastore.uris\", \"thrift://hive-metastore:9083\") \\\n",
    "    .config(\"spark.jars\", \"/Drivers/SQL_Sever/jdbc/sqljdbc42.jar\")\\\n",
    "    .enableHiveSupport() \\\n",
    "    .getOrCreate()"
   ]
  },
  {
   "cell_type": "code",
   "execution_count": 49,
   "id": "fb8f5dc3-4560-4ca9-b526-af9fc1fc93a4",
   "metadata": {},
   "outputs": [
    {
     "data": {
      "text/plain": [
       "DataFrame[]"
      ]
     },
     "execution_count": 49,
     "metadata": {},
     "output_type": "execute_result"
    }
   ],
   "source": [
    "spark.sql(\"create namespace bronze;\")"
   ]
  },
  {
   "cell_type": "code",
   "execution_count": 50,
   "id": "74d637a9-8fd5-459f-9f82-785af62280fc",
   "metadata": {},
   "outputs": [
    {
     "name": "stdout",
     "output_type": "stream",
     "text": [
      "8  tables\n"
     ]
    }
   ],
   "source": [
    "Tables= [\"[Sales].[Customer]\", \"[Person].[StateProvince]\", \"[Person].[BusinessEntityAddress]\", \"[Person].[Address]\", \"[Person].[Person]\", \"[HumanResources].[Department]\", \"[HumanResources].[EmployeeDepartmentHistory]\", \"[HumanResources].[Employee]\"]\n",
    "print(len(Tables), \" tables\")"
   ]
  },
  {
   "cell_type": "markdown",
   "id": "271e824e-d693-4f85-96c7-798e4779011d",
   "metadata": {},
   "source": [
    "# Read The Tables From SQL Server Database"
   ]
  },
  {
   "cell_type": "code",
   "execution_count": 51,
   "id": "dc6efc2c-a41b-4f26-9e65-4c6e7c0ec378",
   "metadata": {},
   "outputs": [
    {
     "name": "stdout",
     "output_type": "stream",
     "text": [
      "dict_keys(['[Sales].[Customer]', '[Person].[StateProvince]', '[Person].[BusinessEntityAddress]', '[Person].[Address]', '[Person].[Person]', '[HumanResources].[Department]', '[HumanResources].[EmployeeDepartmentHistory]', '[HumanResources].[Employee]'])\n"
     ]
    }
   ],
   "source": [
    "dataFrames= {}\n",
    "for table in Tables:\n",
    "    query = f\"select * from {table}\"\n",
    "    df =spark.read.format(\"jdbc\")\\\n",
    "        .option(\"url\", \"jdbc:sqlserver://172.18.0.5:1433;databaseName=AdventureWorks2017\")\\\n",
    "        .option(\"driver\", \"com.microsoft.sqlserver.jdbc.SQLServerDriver\")\\\n",
    "        .option(\"dbtable\", f\"({query}) as temp\")\\\n",
    "        .option(\"user\",\"sa\")\\\n",
    "        .option(\"password\", \"Mo*012105\")\\\n",
    "        .load()\n",
    "    dataFrames[table] = df\n",
    "print(dataFrames.keys())"
   ]
  },
  {
   "cell_type": "markdown",
   "id": "13941c9b-df86-4550-b590-8623ccc50bff",
   "metadata": {},
   "source": [
    "prepare Customer table for further use"
   ]
  },
  {
   "cell_type": "code",
   "execution_count": 52,
   "id": "8c3465a3-51d7-4fd7-a9c5-ca61b1eb25c4",
   "metadata": {},
   "outputs": [
    {
     "data": {
      "text/plain": [
       "19820"
      ]
     },
     "execution_count": 52,
     "metadata": {},
     "output_type": "execute_result"
    }
   ],
   "source": [
    "customer = dataFrames['[Sales].[Customer]']\\\n",
    "    .select('CustomerID',\n",
    "             'PersonID',\n",
    "             'StoreID',\n",
    "             'TerritoryID',\n",
    "             'AccountNumber')\\\n",
    "    .repartition(4, \"CustomerID\")\\\n",
    "    .cache()\n",
    "customer.createOrReplaceTempView(\"customer\")\n",
    "customer.count()"
   ]
  },
  {
   "cell_type": "markdown",
   "id": "712be2db-b008-48ba-8279-8011c291c1e8",
   "metadata": {},
   "source": [
    "Employee department history, and we will select the last position for each employee"
   ]
  },
  {
   "cell_type": "code",
   "execution_count": 53,
   "id": "f80f764e-a8bc-4b66-8f21-e1c637b8b806",
   "metadata": {},
   "outputs": [
    {
     "data": {
      "text/plain": [
       "['BusinessEntityID', 'DepartmentID']"
      ]
     },
     "execution_count": 53,
     "metadata": {},
     "output_type": "execute_result"
    }
   ],
   "source": [
    "depthist = dataFrames[\"[HumanResources].[EmployeeDepartmentHistory]\"]\n",
    "depthist.createOrReplaceTempView(\"depthist\")\n",
    "\n",
    "#select the last department for each employee\n",
    "depthist = spark.sql(\"\"\"\n",
    "select * from depthist\n",
    "where EndDate is null\n",
    "\"\"\")\n",
    "depthist=depthist.select(\"BusinessEntityID\", \"DepartmentID\")\\\n",
    "    .repartition(\"BusinessEntityID\", \"DepartmentID\")\\\n",
    "    .cache()\n",
    "depthist.createOrReplaceTempView(\"depthist\")\n",
    "depthist.columns"
   ]
  },
  {
   "cell_type": "markdown",
   "id": "b4bf4cb1-a9af-494e-be34-3b1ac41dd4c9",
   "metadata": {},
   "source": [
    "Department DF"
   ]
  },
  {
   "cell_type": "code",
   "execution_count": 54,
   "id": "72ccbb73-09e3-492f-b174-7f67b4e1d39e",
   "metadata": {},
   "outputs": [
    {
     "data": {
      "text/plain": [
       "['DepartmentID', 'Name', 'GroupName']"
      ]
     },
     "execution_count": 54,
     "metadata": {},
     "output_type": "execute_result"
    }
   ],
   "source": [
    "dept = dataFrames[\"[HumanResources].[Department]\"]\\\n",
    "    .select('DepartmentID', 'Name', 'GroupName')\\\n",
    "    .repartition(4,\"DepartmentID\")\\\n",
    "    .cache()\n",
    "dept.createOrReplaceTempView(\"dept\")\n",
    "dept.columns"
   ]
  },
  {
   "cell_type": "markdown",
   "id": "1f78611f-8786-4505-9100-f52813d6e107",
   "metadata": {},
   "source": [
    "Customer is a person so i will extract the customers info from Person table"
   ]
  },
  {
   "cell_type": "code",
   "execution_count": 55,
   "id": "eb90c39f-4136-4a67-b30d-aeaf05465823",
   "metadata": {},
   "outputs": [
    {
     "data": {
      "text/plain": [
       "['BusinessEntityID',\n",
       " 'EmployeeName',\n",
       " 'PersonType',\n",
       " 'NameStyle',\n",
       " 'Title',\n",
       " 'Suffix',\n",
       " 'EmailPromotion',\n",
       " 'AdditionalContactInfo',\n",
       " 'Demographics']"
      ]
     },
     "execution_count": 55,
     "metadata": {},
     "output_type": "execute_result"
    }
   ],
   "source": [
    "person= dataFrames['[Person].[Person]'].withColumn(\"EmployeeName\", concat_ws(\" \", \"FirstName\",\"LastName\"))\n",
    "\n",
    "person= person.select('BusinessEntityID',\n",
    "     'EmployeeName',        \n",
    "     'PersonType',\n",
    "     'NameStyle',\n",
    "     'Title',\n",
    "     'Suffix',\n",
    "     'EmailPromotion',\n",
    "     'AdditionalContactInfo',\n",
    "     'Demographics')\\\n",
    "    .repartition(4,\"BusinessEntityID\")\\\n",
    "    .cache()\n",
    "\n",
    "person.createOrReplaceTempView(\"person\")\n",
    "person.columns"
   ]
  },
  {
   "cell_type": "markdown",
   "id": "5affa6cf-c102-4ccb-87bb-b2908ad1ece9",
   "metadata": {},
   "source": [
    "Address info"
   ]
  },
  {
   "cell_type": "code",
   "execution_count": 56,
   "id": "e956c168-b752-4ba3-b381-7161667ea092",
   "metadata": {},
   "outputs": [
    {
     "data": {
      "text/plain": [
       "['AddressID',\n",
       " 'AddressLine1',\n",
       " 'AddressLine2',\n",
       " 'City',\n",
       " 'StateProvinceID',\n",
       " 'PostalCode',\n",
       " 'SpatialLocation']"
      ]
     },
     "execution_count": 56,
     "metadata": {},
     "output_type": "execute_result"
    }
   ],
   "source": [
    "address = dataFrames[\"[Person].[Address]\"]\\\n",
    "    .select('AddressID',\n",
    "         'AddressLine1',\n",
    "         'AddressLine2',\n",
    "         'City',\n",
    "         'StateProvinceID',\n",
    "         'PostalCode',\n",
    "         'SpatialLocation')\\\n",
    "    .repartition(4,\"AddressID\")\\\n",
    "    .cache()\n",
    "address.createOrReplaceTempView(\"address\")\n",
    "address.columns"
   ]
  },
  {
   "cell_type": "markdown",
   "id": "099c3313-c6ff-406b-b43a-bb16a2659123",
   "metadata": {},
   "source": [
    "I will use BusinessEntityAddress as linker between person and address"
   ]
  },
  {
   "cell_type": "code",
   "execution_count": 57,
   "id": "960b83de-3e9f-4033-aab6-aadde8a72840",
   "metadata": {},
   "outputs": [
    {
     "data": {
      "text/plain": [
       "['BusinessEntityID', 'AddressID']"
      ]
     },
     "execution_count": 57,
     "metadata": {},
     "output_type": "execute_result"
    }
   ],
   "source": [
    "entityAdd= dataFrames[\"[Person].[BusinessEntityAddress]\"]\\\n",
    "    .select('BusinessEntityID', 'AddressID')\\\n",
    "    .repartition(4,'BusinessEntityID', 'AddressID')\\\n",
    "    .cache()\n",
    "entityAdd.createOrReplaceTempView(\"entityAdd\")\n",
    "entityAdd.columns"
   ]
  },
  {
   "cell_type": "code",
   "execution_count": 58,
   "id": "3d1bdc00-7ff1-400a-9899-fb9ed3d3fc50",
   "metadata": {},
   "outputs": [
    {
     "data": {
      "text/plain": [
       "['StateProvinceID',\n",
       " 'StateProvinceCode',\n",
       " 'CountryRegionCode',\n",
       " 'IsOnlyStateProvinceFlag',\n",
       " 'stateName']"
      ]
     },
     "execution_count": 58,
     "metadata": {},
     "output_type": "execute_result"
    }
   ],
   "source": [
    "state = dataFrames[\"[Person].[StateProvince]\"]\\\n",
    "    .select('StateProvinceID',\n",
    "     'StateProvinceCode',\n",
    "     'CountryRegionCode',\n",
    "     'IsOnlyStateProvinceFlag',\n",
    "     expr('Name').alias(\"stateName\"))\\\n",
    "    .repartition(4,'StateProvinceID')\\\n",
    "    .cache()\n",
    "state.createOrReplaceTempView(\"state\")\n",
    "state.columns"
   ]
  },
  {
   "cell_type": "code",
   "execution_count": 59,
   "id": "a1324e4a-5d3e-496a-a149-ff48231d1d7c",
   "metadata": {},
   "outputs": [
    {
     "data": {
      "text/plain": [
       "[Table(name='address', catalog=None, namespace=[], description=None, tableType='TEMPORARY', isTemporary=True),\n",
       " Table(name='customer', catalog=None, namespace=[], description=None, tableType='TEMPORARY', isTemporary=True),\n",
       " Table(name='dept', catalog=None, namespace=[], description=None, tableType='TEMPORARY', isTemporary=True),\n",
       " Table(name='depthist', catalog=None, namespace=[], description=None, tableType='TEMPORARY', isTemporary=True),\n",
       " Table(name='entityAdd', catalog=None, namespace=[], description=None, tableType='TEMPORARY', isTemporary=True),\n",
       " Table(name='person', catalog=None, namespace=[], description=None, tableType='TEMPORARY', isTemporary=True),\n",
       " Table(name='state', catalog=None, namespace=[], description=None, tableType='TEMPORARY', isTemporary=True)]"
      ]
     },
     "execution_count": 59,
     "metadata": {},
     "output_type": "execute_result"
    }
   ],
   "source": [
    "spark.catalog.listTables()"
   ]
  },
  {
   "cell_type": "markdown",
   "id": "9c7a92b3-de9d-4e8c-ad48-e0f64ecccec8",
   "metadata": {},
   "source": [
    "# join the all dataFrames to get DimCustomer DF"
   ]
  },
  {
   "cell_type": "code",
   "execution_count": 60,
   "id": "281881d8-57c6-4845-8b73-6d857e7cdea3",
   "metadata": {},
   "outputs": [
    {
     "data": {
      "text/plain": [
       "['CustomerID',\n",
       " 'PersonID',\n",
       " 'StoreID',\n",
       " 'TerritoryID',\n",
       " 'AccountNumber',\n",
       " 'BusinessEntityID',\n",
       " 'EmployeeName',\n",
       " 'PersonType',\n",
       " 'NameStyle',\n",
       " 'Title',\n",
       " 'Suffix',\n",
       " 'EmailPromotion',\n",
       " 'AdditionalContactInfo',\n",
       " 'Demographics',\n",
       " 'BusinessEntityID',\n",
       " 'AddressID',\n",
       " 'AddressID',\n",
       " 'AddressLine1',\n",
       " 'AddressLine2',\n",
       " 'City',\n",
       " 'StateProvinceID',\n",
       " 'PostalCode',\n",
       " 'SpatialLocation',\n",
       " 'StateProvinceID',\n",
       " 'StateProvinceCode',\n",
       " 'CountryRegionCode',\n",
       " 'IsOnlyStateProvinceFlag',\n",
       " 'stateName']"
      ]
     },
     "execution_count": 60,
     "metadata": {},
     "output_type": "execute_result"
    }
   ],
   "source": [
    "DimCustomer = spark.sql(\"\"\"\n",
    "\n",
    "    select *\n",
    "    from customer c inner join person p\n",
    "    on c.PersonID = p.BusinessEntityID\n",
    "    \n",
    "    inner join entityadd ea\n",
    "    on p.BusinessEntityID = ea.BusinessEntityID\n",
    "\n",
    "    inner join address add\n",
    "    on ea.AddressID = add.AddressID\n",
    "\n",
    "    inner join state s\n",
    "    on add.StateProvinceID = s.StateProvinceID\n",
    "    \n",
    "\"\"\")\n",
    "DimCustomer.columns"
   ]
  },
  {
   "cell_type": "markdown",
   "id": "81613aa4-798e-497e-8158-160750f1f98f",
   "metadata": {},
   "source": [
    "select needed columns"
   ]
  },
  {
   "cell_type": "code",
   "execution_count": 61,
   "id": "91306f98-8d4e-4628-b8ce-5c7638462bca",
   "metadata": {},
   "outputs": [],
   "source": [
    "DimCustomer= DimCustomer.select(\n",
    "             'CustomerID',\n",
    "             'AccountNumber',\n",
    "             expr('EmployeeName').alias(\"CustomerName\"),\n",
    "             'PersonType',\n",
    "             'NameStyle',\n",
    "             'Title',\n",
    "             'Suffix',\n",
    "             'EmailPromotion',\n",
    "             'AdditionalContactInfo',\n",
    "             'Demographics',\n",
    "             'AddressLine1',\n",
    "             'AddressLine2',\n",
    "             'City',\n",
    "             'PostalCode',\n",
    "             'SpatialLocation',\n",
    "             'StateProvinceCode',\n",
    "             'CountryRegionCode',\n",
    "             'IsOnlyStateProvinceFlag',\n",
    "             'stateName'\n",
    "                )\n",
    "DimCustomer.count()\n",
    "DimCustomer= DimCustomer.repartition(4,\"CustomerID\")\n",
    "DimCustomer.createOrReplaceTempView(\"DimCustomer\")"
   ]
  },
  {
   "cell_type": "code",
   "execution_count": 62,
   "id": "46856866-aff1-4fd8-9c24-baf9fd912a38",
   "metadata": {},
   "outputs": [
    {
     "data": {
      "text/plain": [
       "['CustomerID',\n",
       " 'AccountNumber',\n",
       " 'CustomerName',\n",
       " 'PersonType',\n",
       " 'NameStyle',\n",
       " 'Title',\n",
       " 'Suffix',\n",
       " 'EmailPromotion',\n",
       " 'AdditionalContactInfo',\n",
       " 'Demographics',\n",
       " 'AddressLine1',\n",
       " 'AddressLine2',\n",
       " 'City',\n",
       " 'PostalCode',\n",
       " 'SpatialLocation',\n",
       " 'StateProvinceCode',\n",
       " 'CountryRegionCode',\n",
       " 'IsOnlyStateProvinceFlag',\n",
       " 'stateName']"
      ]
     },
     "execution_count": 62,
     "metadata": {},
     "output_type": "execute_result"
    }
   ],
   "source": [
    "spark.sql(\"select * from DimCustomer\").columns"
   ]
  },
  {
   "cell_type": "code",
   "execution_count": null,
   "id": "39b06ef0-d581-4da4-a0e0-1e13c59c4bd2",
   "metadata": {},
   "outputs": [],
   "source": []
  },
  {
   "cell_type": "code",
   "execution_count": 63,
   "id": "5ad51f65-49c4-46fc-b3a2-4fb51348b233",
   "metadata": {},
   "outputs": [],
   "source": [
    "DimCustomer.write.mode(\"overwrite\").format(\"hive\").saveAsTable(\"bronze.DimCustomer\")"
   ]
  },
  {
   "cell_type": "code",
   "execution_count": 64,
   "id": "958f80b1-f20c-4acc-b653-8d90a6e635eb",
   "metadata": {},
   "outputs": [
    {
     "name": "stdout",
     "output_type": "stream",
     "text": [
      "+---------+\n",
      "|namespace|\n",
      "+---------+\n",
      "|   bronze|\n",
      "|  default|\n",
      "|     gold|\n",
      "|    sales|\n",
      "|   silver|\n",
      "+---------+\n",
      "\n"
     ]
    }
   ],
   "source": [
    "spark.sql(\"show databases;\").show()"
   ]
  },
  {
   "cell_type": "code",
   "execution_count": 65,
   "id": "1c492970-ee71-48df-9680-2499bb4b6bcd",
   "metadata": {},
   "outputs": [
    {
     "name": "stdout",
     "output_type": "stream",
     "text": [
      "++\n",
      "||\n",
      "++\n",
      "++\n",
      "\n"
     ]
    }
   ],
   "source": [
    "spark.sql(\"use bronze\").show()"
   ]
  },
  {
   "cell_type": "code",
   "execution_count": 66,
   "id": "993a3913-7e05-4f67-9b05-2c245e272937",
   "metadata": {},
   "outputs": [
    {
     "name": "stdout",
     "output_type": "stream",
     "text": [
      "+---------+-----------+-----------+\n",
      "|namespace|  tableName|isTemporary|\n",
      "+---------+-----------+-----------+\n",
      "|   bronze|dimcustomer|      false|\n",
      "|         |    address|       true|\n",
      "|         |   customer|       true|\n",
      "|         |       dept|       true|\n",
      "|         |   depthist|       true|\n",
      "|         |dimcustomer|       true|\n",
      "|         |  entityadd|       true|\n",
      "|         |     person|       true|\n",
      "|         |      state|       true|\n",
      "+---------+-----------+-----------+\n",
      "\n"
     ]
    }
   ],
   "source": [
    "spark.sql(\"show tables;\").show()\n"
   ]
  },
  {
   "cell_type": "code",
   "execution_count": 67,
   "id": "67e189f9-aebc-463a-bbb9-0340bca257dd",
   "metadata": {},
   "outputs": [],
   "source": [
    "#spark.sql(\"drop table dimcustomer;\").show()\n"
   ]
  },
  {
   "cell_type": "code",
   "execution_count": null,
   "id": "5a4fec87-652f-4103-9f06-876b90555a4f",
   "metadata": {},
   "outputs": [],
   "source": []
  }
 ],
 "metadata": {
  "kernelspec": {
   "display_name": "Python 3 (ipykernel)",
   "language": "python",
   "name": "python3"
  },
  "language_info": {
   "codemirror_mode": {
    "name": "ipython",
    "version": 3
   },
   "file_extension": ".py",
   "mimetype": "text/x-python",
   "name": "python",
   "nbconvert_exporter": "python",
   "pygments_lexer": "ipython3",
   "version": "3.11.5"
  }
 },
 "nbformat": 4,
 "nbformat_minor": 5
}
