{
 "cells": [
  {
   "cell_type": "code",
   "execution_count": 18,
   "id": "6abdd4d9-f3c2-406e-8232-5c91e59b6124",
   "metadata": {},
   "outputs": [],
   "source": [
    "from pyspark.sql import SparkSession\n",
    "spark = SparkSession.builder \\\n",
    "        .appName(\"test\") \\\n",
    "        .config(\"hive.metastore.uris\", \"thrift://hive-metastore:9083\") \\\n",
    "        .config(\"spark.jars\", \"/Drivers/SQL_Sever/jdbc/sqljdbc42.jar\")\\\n",
    "        .enableHiveSupport() \\\n",
    "        .getOrCreate()"
   ]
  },
  {
   "cell_type": "code",
   "execution_count": 8,
   "id": "ea14f985-e686-4707-9ef5-e54061710164",
   "metadata": {},
   "outputs": [
    {
     "name": "stdout",
     "output_type": "stream",
     "text": [
      "+-------------------+----------------+--------------------+--------+\n",
      "|       EmployeeName|NationalIDNumber|             LoginID|count(1)|\n",
      "+-------------------+----------------+--------------------+--------+\n",
      "|       Vidur Luthra|       264306399|adventure-works\\v...|       1|\n",
      "|         Kok-Ho Loh|       778552911|adventure-works\\k...|       1|\n",
      "|     James Hamilton|       519899904|adventure-works\\j...|       1|\n",
      "|   Michael Sullivan|        42487730|adventure-works\\m...|       1|\n",
      "|Pamela Ansman-Wolfe|        61161660|adventure-works\\p...|       1|\n",
      "|        Alan Brewer|       470689086|adventure-works\\a...|       1|\n",
      "|      Carole Poland|       138280935|adventure-works\\c...|       1|\n",
      "|       Mike Seamans|       480951955|adventure-works\\m...|       1|\n",
      "|          Jay Adams|        63179277|adventure-works\\jay0|       1|\n",
      "|       Chris Norred|       260805477|adventure-works\\c...|       1|\n",
      "|       José Saraiva|       399771412|adventure-works\\j...|       1|\n",
      "|       Bryan Walton|       931190412|adventure-works\\b...|       1|\n",
      "| Michael Vanderhyde|       878395493|adventure-works\\m...|       1|\n",
      "|        Pat Coleman|       646304055|adventure-works\\pat0|       1|\n",
      "|     Ashvini Sharma|       749389530|adventure-works\\a...|       1|\n",
      "|   Christopher Hill|       393421437|adventure-works\\c...|       1|\n",
      "|          Rob Caron|       578953538|adventure-works\\rob1|       1|\n",
      "|      Jim Scardelis|       674171828|adventure-works\\jim0|       1|\n",
      "|      Mandar Samant|       370581729|adventure-works\\m...|       1|\n",
      "|          Shane Kim|       551834634|adventure-works\\s...|       1|\n",
      "+-------------------+----------------+--------------------+--------+\n",
      "only showing top 20 rows\n",
      "\n"
     ]
    }
   ],
   "source": [
    "spark.sql(\"\"\"\n",
    "    select EmployeeName, NationalIDNumber, LoginID, Count(*)\n",
    "    from silver.dimemployee\n",
    "    group by all\n",
    "    having EmployeeName is not null or NationalIDNumber is not null or LoginID is not null\n",
    "    \n",
    "    \n",
    "\"\"\").show()"
   ]
  },
  {
   "cell_type": "code",
   "execution_count": 19,
   "id": "8b7744f5-003f-48a1-ac54-e93ba3ea7b87",
   "metadata": {},
   "outputs": [
    {
     "name": "stdout",
     "output_type": "stream",
     "text": [
      "+---------+\n",
      "|namespace|\n",
      "+---------+\n",
      "|   bronze|\n",
      "|  default|\n",
      "|     gold|\n",
      "|   silver|\n",
      "+---------+\n",
      "\n"
     ]
    }
   ],
   "source": [
    "spark.sql(\"show databases;\").show()"
   ]
  },
  {
   "cell_type": "code",
   "execution_count": 20,
   "id": "eeea9b8b-48cc-4dfc-9965-aa8c7ead65f9",
   "metadata": {},
   "outputs": [
    {
     "name": "stdout",
     "output_type": "stream",
     "text": [
      "+---------+--------------------+-----------+\n",
      "|namespace|           tableName|isTemporary|\n",
      "+---------+--------------------+-----------+\n",
      "|     gold|    customer_churn90|      false|\n",
      "|     gold|customer_lifetime...|      false|\n",
      "|     gold|         dimcustomer|      false|\n",
      "|     gold|             dimdate|      false|\n",
      "|     gold|         dimemployee|      false|\n",
      "|     gold|          dimproduct|      false|\n",
      "|     gold|emp_sales_performace|      false|\n",
      "|     gold|           factsales|      false|\n",
      "|     gold|      product_trends|      false|\n",
      "|     gold|              profit|      false|\n",
      "+---------+--------------------+-----------+\n",
      "\n"
     ]
    }
   ],
   "source": [
    "spark.sql(\"use gold;\")\n",
    "spark.sql(\"show tables;\").show()"
   ]
  },
  {
   "cell_type": "code",
   "execution_count": 21,
   "id": "33c311ea-7cd5-4ff1-8b4e-2a66ec3a1085",
   "metadata": {},
   "outputs": [
    {
     "name": "stdout",
     "output_type": "stream",
     "text": [
      "+----------+--------------+-------------------+\n",
      "|CustomerID|  CustomerName|   LastPurchaseDate|\n",
      "+----------+--------------+-------------------+\n",
      "|     23571|    Alisha Guo|2013-08-30 00:00:00|\n",
      "|     29194|  Grace Powell|2013-09-15 00:00:00|\n",
      "|     24354|   Bailey Cook|2013-09-30 00:00:00|\n",
      "|     11141|Nicole Ramirez|2014-02-28 00:00:00|\n",
      "|     17753|   Kendra Sanz|2013-10-21 00:00:00|\n",
      "+----------+--------------+-------------------+\n",
      "only showing top 5 rows\n",
      "\n"
     ]
    }
   ],
   "source": [
    "spark.sql(\"select * from customer_churn90\").show(5)"
   ]
  },
  {
   "cell_type": "code",
   "execution_count": null,
   "id": "aa45ade2-c5fa-42d4-97e4-e1e826ba5428",
   "metadata": {},
   "outputs": [],
   "source": []
  }
 ],
 "metadata": {
  "kernelspec": {
   "display_name": "Python 3 (ipykernel)",
   "language": "python",
   "name": "python3"
  },
  "language_info": {
   "codemirror_mode": {
    "name": "ipython",
    "version": 3
   },
   "file_extension": ".py",
   "mimetype": "text/x-python",
   "name": "python",
   "nbconvert_exporter": "python",
   "pygments_lexer": "ipython3",
   "version": "3.11.5"
  }
 },
 "nbformat": 4,
 "nbformat_minor": 5
}
